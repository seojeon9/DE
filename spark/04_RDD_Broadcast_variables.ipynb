{
 "cells": [
  {
   "cell_type": "code",
   "execution_count": 49,
   "id": "44aacb0d",
   "metadata": {},
   "outputs": [],
   "source": [
    "from IPython.core.interactiveshell import InteractiveShell\n",
    "InteractiveShell.ast_node_interactivity = \"all\""
   ]
  },
  {
   "cell_type": "markdown",
   "id": "fa5f844b",
   "metadata": {},
   "source": [
    "# Shared Variables"
   ]
  },
  {
   "cell_type": "markdown",
   "id": "5c43bd53",
   "metadata": {},
   "source": [
    "- 모든 노드에서 사용하기 위한 공유변수\n",
    "\n",
    "\n",
    "- 공유변수로 지정한 값은 모든 노드에 중복되어 캐시된다.\n",
    "\n",
    "\n",
    "- 반복적으로 사용해야하는 변수라면,  \n",
    "  스파크의 노드는 네트워크를 통해 통신 하기 때문에 모든 노드에 중복 캐시하는 시스템적 비용보다  \n",
    "  네트워크 과정에서 발생하는 오버헤드 비용이 더 많이 발생하게 된다."
   ]
  },
  {
   "cell_type": "markdown",
   "id": "fddb3590",
   "metadata": {},
   "source": [
    "## Broadcast Variables"
   ]
  },
  {
   "cell_type": "markdown",
   "id": "8b8f1695",
   "metadata": {},
   "source": [
    "- 각 노드에 공유되는 읽기 전용 변수"
   ]
  },
  {
   "cell_type": "code",
   "execution_count": 26,
   "id": "3b910ad9",
   "metadata": {},
   "outputs": [
    {
     "data": {
      "text/plain": [
       "[('홍길동', 'Data Engineer'),\n",
       " ('이제동', 'Data Science'),\n",
       " ('하명도', 'Data Engineer'),\n",
       " ('변현재', 'Web Developer')]"
      ]
     },
     "execution_count": 26,
     "metadata": {},
     "output_type": "execute_result"
    }
   ],
   "source": [
    "# 학생별 수업카테고리코드로 지정되어있는 값을 카테고리 전체이름으로 변경한다고 가정 해보자\n",
    "\n",
    "data = [(\"홍길동\",\"DE\"),\n",
    "    (\"이제동\",\"DS\"),\n",
    "    (\"하명도\",\"DE\"),\n",
    "    (\"변현재\",\"WD\")]\n",
    "\n",
    "code_desc = {\"DE\":\"Data Engineer\", \"DS\":\"Data Science\", \"WD\":\"Web Developer\"}\n",
    "    \n",
    "students_rdd = sc.parallelize(data,3)\n",
    "students_rdd.mapValues(lambda e : code_desc[e]).collect()   \n",
    "    "
   ]
  },
  {
   "cell_type": "code",
   "execution_count": 43,
   "id": "0673f14a",
   "metadata": {},
   "outputs": [
    {
     "name": "stdout",
     "output_type": "stream",
     "text": [
      "{'DE': 'Data Engineer', 'DS': 'Data Science', 'WD': 'Web Developer'}\n",
      "{'DE': '되나?', 'DS': 'Data Science', 'WD': 'Web Developer'}\n",
      "-------------------------------------\n",
      "{'DS': 'Data Science', 'WD': 'Web Developer'}\n"
     ]
    },
    {
     "data": {
      "text/plain": [
       "[('홍길동', 'Data Engineer'),\n",
       " ('이제동', 'Data Science'),\n",
       " ('하명도', 'Data Engineer'),\n",
       " ('변현재', 'Web Developer')]"
      ]
     },
     "execution_count": 43,
     "metadata": {},
     "output_type": "execute_result"
    }
   ],
   "source": [
    "# Broadcast_variables 사용하기\n",
    "broadcastStates = spark.sparkContext.broadcast(code_desc)\n",
    "print(broadcastStates.value)\n",
    "\n",
    "# 읽기전용 변수, 수정을 하면\n",
    "broadcastStates.value[\"DE\"] = '되나?'\n",
    "print(broadcastStates.value)\n",
    "\n",
    "print('-------------------------------------')\n",
    "\n",
    "# 삭제를 해도\n",
    "del(broadcastStates.value[\"DE\"])\n",
    "print(broadcastStates.value)\n",
    "\n",
    "# 아무일도 발생하지 않았다.\n",
    "# broadcast 함수를 사용해 생성하는 시점에 이미 SparkContext에 등록\n",
    "students_rdd.mapValues(lambda e : broadcastStates.value[e]).collect()\n"
   ]
  },
  {
   "cell_type": "markdown",
   "id": "79ee799a",
   "metadata": {},
   "source": [
    "## Accumulator"
   ]
  },
  {
   "cell_type": "markdown",
   "id": "ffa4ec92",
   "metadata": {},
   "source": [
    "- 각 노드에 공유되는 누산기 함수"
   ]
  },
  {
   "cell_type": "code",
   "execution_count": 45,
   "id": "7a929923",
   "metadata": {
    "scrolled": true
   },
   "outputs": [
    {
     "name": "stdout",
     "output_type": "stream",
     "text": [
      "15\n"
     ]
    }
   ],
   "source": [
    "accum=sc.accumulator(0)\n",
    "rdd=spark.sparkContext.parallelize([1,2,3,4,5])\n",
    "rdd.foreach(lambda x:accum.add(x))\n",
    "print(accum.value) #Accessed by driver"
   ]
  },
  {
   "cell_type": "code",
   "execution_count": 63,
   "id": "395a137e",
   "metadata": {
    "scrolled": false
   },
   "outputs": [],
   "source": [
    "# # accumulator를 사용하지 않는다면?\n",
    "# a = 0\n",
    "\n",
    "# # 모든 노드에서 발생하는 데이터 횟수를 확인해보자\n",
    "# def change_cate(e):\n",
    "#      a = a + 1\n",
    "#      return broadcastStates.value[e]\n",
    "    \n",
    "# students_rdd.mapValues(lambda e : change_cate(e)).collect()\n",
    "\n",
    "# # 횟수 확인\n",
    "# # local variable 'a' referenced before assignment 발생\n",
    "# a\n",
    "\n",
    "\n"
   ]
  },
  {
   "cell_type": "code",
   "execution_count": 62,
   "id": "86567f32",
   "metadata": {},
   "outputs": [
    {
     "data": {
      "text/plain": [
       "[('홍길동', 'Data Engineer'),\n",
       " ('이제동', 'Data Science'),\n",
       " ('하명도', 'Data Engineer'),\n",
       " ('변현재', 'Web Developer')]"
      ]
     },
     "execution_count": 62,
     "metadata": {},
     "output_type": "execute_result"
    },
    {
     "data": {
      "text/plain": [
       "4"
      ]
     },
     "execution_count": 62,
     "metadata": {},
     "output_type": "execute_result"
    }
   ],
   "source": [
    "accum=sc.accumulator(0)\n",
    "\n",
    "# 모든 노드에서 발생하는 데이터 횟수를 확인해보자\n",
    "def change_cate(e):\n",
    "    accum.add(1)\n",
    "    return broadcastStates.value[e]\n",
    "    \n",
    "students_rdd.mapValues(lambda e : change_cate(e)).collect()\n",
    "\n",
    "# 횟수 확인\n",
    "# local variable 'a' referenced before assignment 발생\n",
    "accum.value"
   ]
  }
 ],
 "metadata": {
  "kernelspec": {
   "display_name": "Python 3 (ipykernel)",
   "language": "python",
   "name": "python3"
  },
  "language_info": {
   "codemirror_mode": {
    "name": "ipython",
    "version": 3
   },
   "file_extension": ".py",
   "mimetype": "text/x-python",
   "name": "python",
   "nbconvert_exporter": "python",
   "pygments_lexer": "ipython3",
   "version": "3.8.10"
  }
 },
 "nbformat": 4,
 "nbformat_minor": 5
}
