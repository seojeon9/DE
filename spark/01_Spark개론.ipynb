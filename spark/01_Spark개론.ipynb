{
 "cells": [
  {
   "cell_type": "markdown",
   "id": "fa0f069c",
   "metadata": {},
   "source": [
    "# Spark"
   ]
  },
  {
   "cell_type": "markdown",
   "id": "1e8a3031",
   "metadata": {},
   "source": [
    "- 대규모 데이터 처리를 위한 통합 분석 엔진\n",
    "   - DataSource에 저장한 데이터를 가공 및 분석하기 위한 도구\n",
    "   - ex) DataSource : local, HDFS, BigQuery, Amazon S3   "
   ]
  },
  {
   "cell_type": "markdown",
   "id": "db6dfa57",
   "metadata": {},
   "source": [
    "## Spark의 특징\n",
    "   \n",
    "   \n",
    "- 스파크는 빠르다.  \n",
    "\n",
    "- 스파크는 개발자 친화적이다  \n",
    "\n",
    "- 스파크는 Lazy Evaluation을 지원한다.\n",
    "\n",
    "- 스파크는 강력한 캐시 기능을 제공한다.\n",
    "\n",
    "- 스파크는 다양한 프로그래밍언어와 Cluster Manager를 지원한다\n",
    "\n",
    "- 스파크는 다양한 Data Source를 지원한다\n",
    "\n",
    "- 스파크는 데이터 분석을 위한 다양한 고급 도구들을 제공해준다"
   ]
  },
  {
   "cell_type": "markdown",
   "id": "2e357673",
   "metadata": {},
   "source": [
    "![spark-arch](img/spark-arch.png)"
   ]
  },
  {
   "cell_type": "markdown",
   "id": "4eb50793",
   "metadata": {},
   "source": [
    "## 하둡 MapReduce와 스파크의 차이\n",
    "\n",
    "- 하둡의 MapReduce는 데이터 Map 함수의 실행이 끝난 후 디스크에 결과를 저장하고, 그걸 reduce 함수가 다시 읽어와야 한다.   \n",
    "  디스크 IO가 발생해 성능 손실이 크다.\n",
    "\n",
    "\n",
    "- Spark는 Map함수의 결과를 메모리에 저장하고 reduce 함수로 스트리밍 해준다.  \n",
    "  디스크IO가 발생하지 않아 속도가 하둡에 비해 10배이상 빠르다."
   ]
  },
  {
   "cell_type": "markdown",
   "id": "b5f6366b",
   "metadata": {},
   "source": [
    "# SparkContext / SparkSession"
   ]
  },
  {
   "cell_type": "markdown",
   "id": "b2f0466c",
   "metadata": {},
   "source": [
    "## SparkContext \n",
    "- Spark 2버전 이전 Spark Cluster에 접근하기 위한 진입점 \n",
    "- Spark의 Low-level API인 RDD, accumulators, broadcast variables를 생성할 수 있다.\n",
    "- Spark Shell을 사용할 경우 sc라는 변수명으로 생성된다.\n",
    "\n",
    "## SparkSession\n",
    "- Spark 2버전 이후 Spark Cluster에 접근하기 위한 진입점\n",
    "- SparkContext를 통해 사용할 수 있는 모든 기능을 사용할 수 있다.\n",
    "- Spark의 Structured-API인 DataFrame과 Dataset, Spark SQL을 생성할 수 있다.\n",
    "- Spark Shell을 사용할 경우 spark라는 변수명으로 생성된다. \n",
    "\n"
   ]
  },
  {
   "cell_type": "markdown",
   "id": "37bd9b85",
   "metadata": {},
   "source": [
    "![spark-toolset](img/spark-toolset.png)"
   ]
  },
  {
   "cell_type": "markdown",
   "id": "d2ea1e4a",
   "metadata": {},
   "source": [
    "![spark-cluster-arch](img/spark-cluster-arch.png)"
   ]
  }
 ],
 "metadata": {
  "kernelspec": {
   "display_name": "Python 3 (ipykernel)",
   "language": "python",
   "name": "python3"
  },
  "language_info": {
   "codemirror_mode": {
    "name": "ipython",
    "version": 3
   },
   "file_extension": ".py",
   "mimetype": "text/x-python",
   "name": "python",
   "nbconvert_exporter": "python",
   "pygments_lexer": "ipython3",
   "version": "3.8.10"
  }
 },
 "nbformat": 4,
 "nbformat_minor": 5
}
