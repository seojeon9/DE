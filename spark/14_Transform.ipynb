{
 "cells": [
  {
   "cell_type": "code",
   "execution_count": 65,
   "id": "ffee0de2",
   "metadata": {},
   "outputs": [],
   "source": [
    "from IPython.core.interactiveshell import InteractiveShell\n",
    "InteractiveShell.ast_node_interactivity = \"all\""
   ]
  },
  {
   "cell_type": "code",
   "execution_count": null,
   "id": "f95e956f",
   "metadata": {},
   "outputs": [],
   "source": [
    "# matplotlib 한글 꺠짐 방지\n",
    "# apt-get update\n",
    "# apt-get install fonts-nanum* \n",
    "# apt-get install fontconfig\n",
    "# fc-cache -fv  # font 캐시 날리기\n",
    "# rm -rf /home/hy1/.cache/matplotlib/  #matplotliob 폰트 캐시 날리기\n"
   ]
  },
  {
   "cell_type": "code",
   "execution_count": null,
   "id": "913eefb5",
   "metadata": {},
   "outputs": [],
   "source": [
    "from datetime import date, datetime\n",
    "from pyspark.sql.types import *\n",
    "from pyspark.sql.functions import *\n",
    "import datetime as dt\n",
    "import pandas as pd\n",
    "import matplotlib.pyplot as plt #그래프 패키지 모듈 등록\n",
    "%matplotlib inline \n"
   ]
  },
  {
   "cell_type": "code",
   "execution_count": 77,
   "id": "1365bb78",
   "metadata": {},
   "outputs": [],
   "source": [
    "def cal_std_day(befor_day):   \n",
    "    x = dt.datetime.now() - dt.timedelta(befor_day)\n",
    "    year = x.year\n",
    "    month = x.month if x.month >= 10 else '0'+ str(x.month)\n",
    "    day = x.day if x.day >= 10 else '0'+ str(x.day)  \n",
    "    return str(year)+ '-' +str(month)+ '-' +str(day)"
   ]
  },
  {
   "cell_type": "code",
   "execution_count": 80,
   "id": "a4af10ef",
   "metadata": {},
   "outputs": [],
   "source": [
    "import platform\n",
    "\n",
    "from matplotlib import font_manager, rc\n",
    "plt.rcParams['axes.unicode_minus'] = False\n",
    "\n",
    "if platform.system() == 'Darwin':  # 맥OS \n",
    "    rc('font', family='AppleGothic')\n",
    "elif platform.system() == 'Windows':  # 윈도우\n",
    "    path = \"c:/Windows/Fonts/malgun.ttf\"\n",
    "    font_name = font_manager.FontProperties(fname=path).get_name()\n",
    "    rc('font', family=font_name)\n",
    "else:\n",
    "    rc('font', family='NanumGothic')"
   ]
  },
  {
   "cell_type": "markdown",
   "id": "7e8685f5",
   "metadata": {},
   "source": [
    "## Transform"
   ]
  },
  {
   "cell_type": "markdown",
   "id": "990a7f53",
   "metadata": {},
   "source": [
    "### 1. 지역별 단위면적(km)당 인구수와 코로나 확진자 수의 상관관계를 구해보자"
   ]
  },
  {
   "cell_type": "code",
   "execution_count": 82,
   "id": "76178a57",
   "metadata": {},
   "outputs": [],
   "source": []
  },
  {
   "cell_type": "code",
   "execution_count": 83,
   "id": "693f2bb0",
   "metadata": {},
   "outputs": [],
   "source": []
  },
  {
   "cell_type": "code",
   "execution_count": 84,
   "id": "2ab933fe",
   "metadata": {
    "scrolled": false
   },
   "outputs": [],
   "source": [
    "# 코로나 감염자 데이터 가져오기"
   ]
  },
  {
   "cell_type": "code",
   "execution_count": 85,
   "id": "28ce4359",
   "metadata": {},
   "outputs": [
    {
     "name": "stderr",
     "output_type": "stream",
     "text": [
      "[Stage 147:>                                                        (0 + 1) / 1]\r"
     ]
    },
    {
     "name": "stdout",
     "output_type": "stream",
     "text": [
      "+----+------------+-------+\n",
      "| loc|popu_density|qurRate|\n",
      "+----+------------+-------+\n",
      "|강원|          93|  39566|\n",
      "|경기|        1366|  41938|\n",
      "|경남|         321|  37690|\n",
      "|경북|         141|  34789|\n",
      "|광주|        2920|  42137|\n",
      "|대구|        2733|  36677|\n",
      "|대전|        2722|  41017|\n",
      "|부산|        4411|  37579|\n",
      "|서울|       16093|  44168|\n",
      "|세종|         811|  43412|\n",
      "|울산|        1072|  40562|\n",
      "|인천|        2831|  41435|\n",
      "|전남|         152|  36958|\n",
      "|전북|         226|  38925|\n",
      "|제주|         378|  42605|\n",
      "|충남|         265|  39130|\n",
      "|충북|         221|  40338|\n",
      "+----+------------+-------+\n",
      "\n"
     ]
    },
    {
     "name": "stderr",
     "output_type": "stream",
     "text": [
      "\r\n",
      "                                                                                \r"
     ]
    }
   ],
   "source": [
    "# 지역명과, 10만명 당 감염 현황"
   ]
  },
  {
   "cell_type": "code",
   "execution_count": null,
   "id": "64a68056",
   "metadata": {},
   "outputs": [],
   "source": []
  },
  {
   "cell_type": "markdown",
   "id": "45905379",
   "metadata": {},
   "source": [
    "### 2.  4차 예방접종 완료자와 코로나 확진자 수의 상관관계를 구해보자"
   ]
  },
  {
   "cell_type": "code",
   "execution_count": 88,
   "id": "0eb96960",
   "metadata": {},
   "outputs": [
    {
     "name": "stderr",
     "output_type": "stream",
     "text": [
      "                                                                                \r"
     ]
    },
    {
     "name": "stdout",
     "output_type": "stream",
     "text": [
      "+----+------+-------+\n",
      "| loc|v_rate|qurRate|\n",
      "+----+------+-------+\n",
      "|서울|    11|  44168|\n",
      "|부산|    13|  37579|\n",
      "|대구|    10|  36677|\n",
      "|인천|    12|  41435|\n",
      "|광주|    15|  42137|\n",
      "|대전|    12|  41017|\n",
      "|울산|    10|  40562|\n",
      "|세종|     9|  43412|\n",
      "|경기|    11|  41938|\n",
      "|강원|    16|  39566|\n",
      "|충북|    16|  40338|\n",
      "|충남|    15|  39130|\n",
      "|전북|    19|  38925|\n",
      "|전남|    22|  36958|\n",
      "|경북|    13|  34789|\n",
      "|경남|    13|  37690|\n",
      "|제주|    12|  42605|\n",
      "+----+------+-------+\n",
      "\n"
     ]
    }
   ],
   "source": []
  },
  {
   "cell_type": "code",
   "execution_count": null,
   "id": "49bc5a46",
   "metadata": {},
   "outputs": [],
   "source": []
  },
  {
   "cell_type": "markdown",
   "id": "03245ea0",
   "metadata": {},
   "source": [
    "### 3. 다중이용시설과 코로나 확진자 수의 상관관계"
   ]
  },
  {
   "cell_type": "code",
   "execution_count": 90,
   "id": "f0c99a8a",
   "metadata": {
    "scrolled": true
   },
   "outputs": [],
   "source": []
  },
  {
   "cell_type": "code",
   "execution_count": 92,
   "id": "b23a9791",
   "metadata": {},
   "outputs": [
    {
     "name": "stdout",
     "output_type": "stream",
     "text": [
      "MapPartitionsRDD[924] at javaToPython at <unknown>:0\n"
     ]
    },
    {
     "name": "stderr",
     "output_type": "stream",
     "text": [
      "                                                                                \r"
     ]
    },
    {
     "name": "stdout",
     "output_type": "stream",
     "text": [
      "+----+--------+-------+\n",
      "| loc|fac_popu|qurRate|\n",
      "+----+--------+-------+\n",
      "|경북|      36|  34789|\n",
      "|대전|      53|  41017|\n",
      "|전북|      42|  38925|\n",
      "|충북|      38|  40338|\n",
      "|울산|      38|  40562|\n",
      "|경남|      41|  37690|\n",
      "|제주|      45|  42605|\n",
      "|충남|      38|  39130|\n",
      "|전남|      45|  36958|\n",
      "|인천|      46|  41435|\n",
      "|부산|      44|  37579|\n",
      "|대구|      43|  36677|\n",
      "|경기|      46|  41938|\n",
      "|서울|      54|  44168|\n",
      "|광주|      51|  42137|\n",
      "|세종|      65|  43412|\n",
      "|강원|      38|  39566|\n",
      "+----+--------+-------+\n",
      "\n"
     ]
    }
   ],
   "source": []
  },
  {
   "cell_type": "code",
   "execution_count": null,
   "id": "1f431d19",
   "metadata": {},
   "outputs": [],
   "source": []
  },
  {
   "cell_type": "markdown",
   "id": "2f4568c9",
   "metadata": {},
   "source": [
    "### 4. 요일별 코로나 확진자 수를 구해보자"
   ]
  },
  {
   "cell_type": "code",
   "execution_count": 110,
   "id": "8df32d98",
   "metadata": {
    "scrolled": true
   },
   "outputs": [
    {
     "name": "stderr",
     "output_type": "stream",
     "text": [
      "                                                                                \r"
     ]
    }
   ],
   "source": []
  },
  {
   "cell_type": "code",
   "execution_count": 138,
   "id": "1af440b0",
   "metadata": {
    "scrolled": false
   },
   "outputs": [
    {
     "name": "stdout",
     "output_type": "stream",
     "text": [
      "+-----------+---------+\n",
      "|day_of_week| patients|\n",
      "+-----------+---------+\n",
      "|          1|3730348.0|\n",
      "|          2|2381642.0|\n",
      "|          3|5038466.0|\n",
      "|          4|6983162.0|\n",
      "|          5|5646140.0|\n",
      "|          6|4312480.0|\n",
      "|          7|4161302.0|\n",
      "+-----------+---------+\n",
      "\n"
     ]
    }
   ],
   "source": []
  },
  {
   "cell_type": "code",
   "execution_count": null,
   "id": "abb7bf06",
   "metadata": {},
   "outputs": [],
   "source": []
  }
 ],
 "metadata": {
  "kernelspec": {
   "display_name": "Python 3 (ipykernel)",
   "language": "python",
   "name": "python3"
  },
  "language_info": {
   "codemirror_mode": {
    "name": "ipython",
    "version": 3
   },
   "file_extension": ".py",
   "mimetype": "text/x-python",
   "name": "python",
   "nbconvert_exporter": "python",
   "pygments_lexer": "ipython3",
   "version": "3.8.10"
  }
 },
 "nbformat": 4,
 "nbformat_minor": 5
}
