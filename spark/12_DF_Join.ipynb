{
 "cells": [
  {
   "cell_type": "code",
   "execution_count": 1,
   "metadata": {},
   "outputs": [],
   "source": [
    "from IPython.core.interactiveshell import InteractiveShell\n",
    "InteractiveShell.ast_node_interactivity = \"all\""
   ]
  },
  {
   "cell_type": "code",
   "execution_count": 2,
   "metadata": {},
   "outputs": [],
   "source": [
    "from datetime import date, datetime\n",
    "from pyspark.sql import *\n",
    "from pyspark.sql.types import *\n",
    "from pyspark.sql.functions import *"
   ]
  },
  {
   "cell_type": "code",
   "execution_count": 3,
   "metadata": {
    "scrolled": true
   },
   "outputs": [
    {
     "name": "stderr",
     "output_type": "stream",
     "text": [
      "                                                                                \r"
     ]
    },
    {
     "name": "stdout",
     "output_type": "stream",
     "text": [
      "+------+---+----------+\n",
      "|  name|age|     birth|\n",
      "+------+---+----------+\n",
      "|하명도| 15|2022-07-22|\n",
      "|이제동| 20|2021-07-22|\n",
      "|김명운| 25|2020-07-22|\n",
      "|임요환| 25|2020-07-22|\n",
      "+------+---+----------+\n",
      "\n"
     ]
    },
    {
     "name": "stderr",
     "output_type": "stream",
     "text": [
      "\r",
      "[Stage 3:>                                                          (0 + 1) / 1]\r"
     ]
    },
    {
     "name": "stdout",
     "output_type": "stream",
     "text": [
      "+------+-----+\n",
      "|  name|score|\n",
      "+------+-----+\n",
      "|하명도|  100|\n",
      "|이제동|   90|\n",
      "|김명운|   80|\n",
      "|홍진호|   80|\n",
      "+------+-----+\n",
      "\n"
     ]
    },
    {
     "name": "stderr",
     "output_type": "stream",
     "text": [
      "\r",
      "                                                                                \r"
     ]
    }
   ],
   "source": [
    "left_df = spark.createDataFrame([\n",
    "    ('하명도', 15, date(2022,7,22)),\n",
    "    ('이제동', 20, date(2021,7,22)),\n",
    "    ('김명운', 25, date(2020,7,22)),\n",
    "    ('임요환', 25, date(2020,7,22))\n",
    "],schema='name string, age int, birth date')\n",
    "\n",
    "left_df.show()\n",
    "\n",
    "\n",
    "right_df = spark.createDataFrame([\n",
    "    ('하명도', 100),\n",
    "    ('이제동', 90),\n",
    "    ('김명운', 80),\n",
    "    ('홍진호', 80)\n",
    "],schema='name string, score int')\n",
    "\n",
    "right_df.show()"
   ]
  },
  {
   "cell_type": "markdown",
   "metadata": {},
   "source": [
    "## Join"
   ]
  },
  {
   "cell_type": "markdown",
   "metadata": {},
   "source": [
    "![join](./img/join.png)"
   ]
  },
  {
   "cell_type": "markdown",
   "metadata": {},
   "source": [
    "### join 종류\n",
    "\n",
    "- inner join\n",
    "- left outer join\n",
    "- right outer join\n",
    "- full outer join"
   ]
  },
  {
   "cell_type": "code",
   "execution_count": 4,
   "metadata": {},
   "outputs": [
    {
     "name": "stderr",
     "output_type": "stream",
     "text": [
      "[Stage 8:>                                                          (0 + 1) / 1]\r"
     ]
    },
    {
     "name": "stdout",
     "output_type": "stream",
     "text": [
      "+------+---+----------+-----+\n",
      "|  name|age|     birth|score|\n",
      "+------+---+----------+-----+\n",
      "|김명운| 25|2020-07-22|   80|\n",
      "|이제동| 20|2021-07-22|   90|\n",
      "|하명도| 15|2022-07-22|  100|\n",
      "+------+---+----------+-----+\n",
      "\n"
     ]
    },
    {
     "name": "stderr",
     "output_type": "stream",
     "text": [
      "\r",
      "                                                                                \r"
     ]
    }
   ],
   "source": [
    "# inner join, default\n",
    "left_df.join(right_df, on='name').show()"
   ]
  },
  {
   "cell_type": "code",
   "execution_count": 6,
   "metadata": {},
   "outputs": [
    {
     "name": "stderr",
     "output_type": "stream",
     "text": [
      "                                                                                \r"
     ]
    },
    {
     "name": "stdout",
     "output_type": "stream",
     "text": [
      "+------+---+----------+-----+\n",
      "|  name|age|     birth|score|\n",
      "+------+---+----------+-----+\n",
      "|김명운| 25|2020-07-22|   80|\n",
      "|이제동| 20|2021-07-22|   90|\n",
      "|임요환| 25|2020-07-22| null|\n",
      "|하명도| 15|2022-07-22|  100|\n",
      "+------+---+----------+-----+\n",
      "\n"
     ]
    },
    {
     "name": "stderr",
     "output_type": "stream",
     "text": [
      "[Stage 23:>                                                         (0 + 1) / 1]\r"
     ]
    },
    {
     "name": "stdout",
     "output_type": "stream",
     "text": [
      "+------+----+----------+-----+\n",
      "|  name| age|     birth|score|\n",
      "+------+----+----------+-----+\n",
      "|김명운|  25|2020-07-22|   80|\n",
      "|이제동|  20|2021-07-22|   90|\n",
      "|하명도|  15|2022-07-22|  100|\n",
      "|홍진호|null|      null|   80|\n",
      "+------+----+----------+-----+\n",
      "\n"
     ]
    },
    {
     "name": "stderr",
     "output_type": "stream",
     "text": [
      "\r",
      "                                                                                \r"
     ]
    }
   ],
   "source": [
    "# left join\n",
    "left_df.join(right_df, on='name', how='left').show()\n",
    "# right join\n",
    "left_df.join(right_df, on='name', how='right').show()"
   ]
  },
  {
   "cell_type": "code",
   "execution_count": 7,
   "metadata": {
    "scrolled": true
   },
   "outputs": [
    {
     "name": "stderr",
     "output_type": "stream",
     "text": [
      "[Stage 28:>                                                         (0 + 1) / 1]\r"
     ]
    },
    {
     "name": "stdout",
     "output_type": "stream",
     "text": [
      "+------+----+----------+-----+\n",
      "|  name| age|     birth|score|\n",
      "+------+----+----------+-----+\n",
      "|김명운|  25|2020-07-22|   80|\n",
      "|이제동|  20|2021-07-22|   90|\n",
      "|임요환|  25|2020-07-22| null|\n",
      "|하명도|  15|2022-07-22|  100|\n",
      "|홍진호|null|      null|   80|\n",
      "+------+----+----------+-----+\n",
      "\n"
     ]
    },
    {
     "name": "stderr",
     "output_type": "stream",
     "text": [
      "\r",
      "                                                                                \r"
     ]
    }
   ],
   "source": [
    "# full outer\n",
    "left_df.join(right_df, on='name', how='outer').show()"
   ]
  },
  {
   "cell_type": "code",
   "execution_count": 8,
   "metadata": {
    "scrolled": true
   },
   "outputs": [
    {
     "name": "stderr",
     "output_type": "stream",
     "text": [
      "[Stage 33:>                                                         (0 + 1) / 1]\r"
     ]
    },
    {
     "name": "stdout",
     "output_type": "stream",
     "text": [
      "+------+---+----------+\n",
      "|  name|age|     birth|\n",
      "+------+---+----------+\n",
      "|김명운| 25|2020-07-22|\n",
      "|이제동| 20|2021-07-22|\n",
      "|하명도| 15|2022-07-22|\n",
      "+------+---+----------+\n",
      "\n"
     ]
    },
    {
     "name": "stderr",
     "output_type": "stream",
     "text": [
      "\r",
      "                                                                                \r"
     ]
    }
   ],
   "source": [
    "# leftsemi == semi\n",
    "# 교집합, 데이터 결합 x\n",
    "left_df.join(right_df, on='name', how='leftsemi').show()"
   ]
  },
  {
   "cell_type": "code",
   "execution_count": 9,
   "metadata": {
    "scrolled": true
   },
   "outputs": [
    {
     "name": "stderr",
     "output_type": "stream",
     "text": [
      "\r",
      "[Stage 38:>                                                         (0 + 1) / 1]\r"
     ]
    },
    {
     "name": "stdout",
     "output_type": "stream",
     "text": [
      "+------+---+----------+\n",
      "|  name|age|     birth|\n",
      "+------+---+----------+\n",
      "|임요환| 25|2020-07-22|\n",
      "+------+---+----------+\n",
      "\n"
     ]
    },
    {
     "name": "stderr",
     "output_type": "stream",
     "text": [
      "\r",
      "                                                                                \r"
     ]
    }
   ],
   "source": [
    "# leftanti = anti\n",
    "# 차집합\n",
    "left_df.join(right_df, on='name', how='leftanti').show()"
   ]
  }
 ],
 "metadata": {
  "kernelspec": {
   "display_name": "Python 3 (ipykernel)",
   "language": "python",
   "name": "python3"
  },
  "language_info": {
   "codemirror_mode": {
    "name": "ipython",
    "version": 3
   },
   "file_extension": ".py",
   "mimetype": "text/x-python",
   "name": "python",
   "nbconvert_exporter": "python",
   "pygments_lexer": "ipython3",
   "version": "3.8.10"
  }
 },
 "nbformat": 4,
 "nbformat_minor": 5
}
