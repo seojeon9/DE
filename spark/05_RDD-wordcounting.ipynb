{
 "cells": [
  {
   "cell_type": "code",
   "execution_count": 84,
   "id": "7691a734",
   "metadata": {},
   "outputs": [],
   "source": [
    "# 셰익스피어 소네트 워드카운팅\n",
    "\n",
    "import sys, re\n"
   ]
  },
  {
   "cell_type": "code",
   "execution_count": 85,
   "id": "3cc8e121",
   "metadata": {
    "scrolled": true
   },
   "outputs": [
    {
     "data": {
      "text/plain": [
       "<wordcloud.wordcloud.WordCloud at 0x7fb15a16f400>"
      ]
     },
     "execution_count": 85,
     "metadata": {},
     "output_type": "execute_result"
    }
   ],
   "source": []
  },
  {
   "cell_type": "markdown",
   "id": "f5fb7c05",
   "metadata": {},
   "source": [
    "![nn](../test.jpg)"
   ]
  },
  {
   "cell_type": "code",
   "execution_count": 86,
   "id": "e9050cc7",
   "metadata": {},
   "outputs": [
    {
     "name": "stderr",
     "output_type": "stream",
     "text": [
      "[nltk_data] Downloading package averaged_perceptron_tagger to\n",
      "[nltk_data]     /root/nltk_data...\n",
      "[nltk_data]   Package averaged_perceptron_tagger is already up-to-\n",
      "[nltk_data]       date!\n",
      "[nltk_data] Downloading package punkt to /root/nltk_data...\n",
      "[nltk_data]   Package punkt is already up-to-date!\n",
      "                                                                                                                                                                               \r"
     ]
    }
   ],
   "source": [
    "# nltk의 도움을 받아 명사만 카운팅해보자\n",
    "# https://www.nltk.org/book/ch00.html#natural-language-toolkit-nltk 문서에서 태깅관란 모듈 확인하기\n",
    "# https://www.nltk.org/book/ch05.html 문서에서 코드 따라하기\n",
    "\n",
    "\n",
    "\n"
   ]
  },
  {
   "cell_type": "code",
   "execution_count": 87,
   "id": "b8935452",
   "metadata": {
    "scrolled": true
   },
   "outputs": [
    {
     "data": {
      "text/plain": [
       "<wordcloud.wordcloud.WordCloud at 0x7fb160d755b0>"
      ]
     },
     "execution_count": 87,
     "metadata": {},
     "output_type": "execute_result"
    }
   ],
   "source": []
  },
  {
   "cell_type": "markdown",
   "id": "c48ccf90",
   "metadata": {},
   "source": [
    "![nn](../test_nn.jpg)"
   ]
  },
  {
   "cell_type": "markdown",
   "id": "fcad2a58",
   "metadata": {},
   "source": [
    "- 결론 :  소네트는 사랑에 대한 이야기를 하는 시이다."
   ]
  },
  {
   "cell_type": "code",
   "execution_count": null,
   "id": "94a49517",
   "metadata": {},
   "outputs": [],
   "source": []
  }
 ],
 "metadata": {
  "kernelspec": {
   "display_name": "Python 3 (ipykernel)",
   "language": "python",
   "name": "python3"
  },
  "language_info": {
   "codemirror_mode": {
    "name": "ipython",
    "version": 3
   },
   "file_extension": ".py",
   "mimetype": "text/x-python",
   "name": "python",
   "nbconvert_exporter": "python",
   "pygments_lexer": "ipython3",
   "version": "3.8.10"
  }
 },
 "nbformat": 4,
 "nbformat_minor": 5
}
