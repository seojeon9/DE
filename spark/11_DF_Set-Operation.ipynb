{
 "cells": [
  {
   "cell_type": "code",
   "execution_count": 3,
   "metadata": {},
   "outputs": [],
   "source": [
    "from IPython.core.interactiveshell import InteractiveShell\n",
    "InteractiveShell.ast_node_interactivity = \"all\""
   ]
  },
  {
   "cell_type": "code",
   "execution_count": 4,
   "metadata": {},
   "outputs": [],
   "source": [
    "from datetime import date, datetime\n",
    "from pyspark.sql import *\n",
    "from pyspark.sql.types import *\n",
    "from pyspark.sql.functions import *\n",
    "from pyspark.sql import functions as F"
   ]
  },
  {
   "cell_type": "code",
   "execution_count": 5,
   "metadata": {},
   "outputs": [
    {
     "name": "stderr",
     "output_type": "stream",
     "text": [
      "                                                                                \r"
     ]
    },
    {
     "name": "stdout",
     "output_type": "stream",
     "text": [
      "root\n",
      " |-- class_cd: string (nullable = true)\n",
      " |-- school: string (nullable = true)\n",
      " |-- class_std_cnt: string (nullable = true)\n",
      " |-- loc: string (nullable = true)\n",
      " |-- school_type: string (nullable = true)\n",
      " |-- teaching_type: string (nullable = true)\n",
      "\n"
     ]
    }
   ],
   "source": [
    "cdf = spark.read.csv('/dataframe/a_class_info.csv', header=True)\n",
    "cdf.printSchema()"
   ]
  },
  {
   "cell_type": "markdown",
   "metadata": {},
   "source": [
    "## Set Operation\n",
    "\n",
    "- 집합연산\n",
    "    - union : 합집합, 결과집합에서 중복되는 행 제거하지 않음\n",
    "    - unionAll : 2.0버전이후 union으로 대체됨, union과 동일한 함수\n",
    "    - exceptAll : 차집합\n",
    "    - intersect : 교집합, 결과집합에서 중복되는 행 제거\n",
    "    - intersectAll : 교집합, 결과집합에서 중복되는 행 제거하지 않음\n",
    "    "
   ]
  },
  {
   "cell_type": "markdown",
   "metadata": {},
   "source": [
    "![dataframe](./img/set_operation.jpg)\n",
    "![dataframe](./img/Union-VS-intersection-.jpg)\n"
   ]
  },
  {
   "cell_type": "markdown",
   "metadata": {},
   "source": [
    "### union, unionAll"
   ]
  },
  {
   "cell_type": "code",
   "execution_count": 6,
   "metadata": {
    "scrolled": false
   },
   "outputs": [
    {
     "name": "stderr",
     "output_type": "stream",
     "text": [
      "                                                                                \r"
     ]
    },
    {
     "name": "stdout",
     "output_type": "stream",
     "text": [
      "+--------+------+-------------+--------+-----------+-------------+\n",
      "|class_cd|school|class_std_cnt|     loc|school_type|teaching_type|\n",
      "+--------+------+-------------+--------+-----------+-------------+\n",
      "|     18K| GOOBU|           31|   Urban|     Public|     Standard|\n",
      "|     A93| VVTVA|           30|   Urban|     Public| Experimental|\n",
      "|     YTB| VVTVA|           30|   Urban|     Public| Experimental|\n",
      "|     Q0E| ZOWMK|           30|   Urban|     Public| Experimental|\n",
      "|     QA2| ZOWMK|           30|   Urban|     Public|     Standard|\n",
      "|     ZBH| ZOWMK|           30|   Urban|     Public|     Standard|\n",
      "|     IQN| CCAAW|           15|Suburban| Non-public| Experimental|\n",
      "|     197| FBUMG|           14|   Rural| Non-public| Experimental|\n",
      "|     JGD| FBUMG|           14|   Rural| Non-public| Experimental|\n",
      "|     MDE|  null|           10|   Rural| Non-public| Experimental|\n",
      "|     SSP| UUUQX|           15|Suburban| Non-public|     Standard|\n",
      "|     KR1| VHDHF|           15|   Rural| Non-public| Experimental|\n",
      "+--------+------+-------------+--------+-----------+-------------+\n",
      "\n"
     ]
    }
   ],
   "source": [
    "# union과 unionAll 은 sql의 unionAll과 같은 개념\n",
    "# sql union개념을 사용하고 싶으면 distinct()사용해야 함\n",
    "\n",
    "# 학생 수가 30명 초과인 반과, 학생 수가 16명 미만인 합집합을 구해보자\n",
    "cdf.where(cdf.class_std_cnt >= 30) \\\n",
    "    .union(cdf.where(cdf.class_std_cnt < 16)) \\\n",
    "    .show()"
   ]
  },
  {
   "cell_type": "markdown",
   "metadata": {},
   "source": [
    "### intersect, intersectAll"
   ]
  },
  {
   "cell_type": "code",
   "execution_count": 9,
   "metadata": {},
   "outputs": [
    {
     "name": "stderr",
     "output_type": "stream",
     "text": [
      "                                                                                \r"
     ]
    },
    {
     "name": "stdout",
     "output_type": "stream",
     "text": [
      "+--------+------+-------------+-----+-----------+-------------+\n",
      "|class_cd|school|class_std_cnt|  loc|school_type|teaching_type|\n",
      "+--------+------+-------------+-----+-----------+-------------+\n",
      "|     1Q1| CUQAM|           28|Urban|     Public|     Standard|\n",
      "|     A33| CIMBB|           19|Urban| Non-public|     Standard|\n",
      "|     BFY| CUQAM|           27|Urban|     Public|     Standard|\n",
      "|     EID| CIMBB|           21|Urban| Non-public|     Standard|\n",
      "|     HUJ| CIMBB|           17|Urban| Non-public| Experimental|\n",
      "|     OMI| CUQAM|           28|Urban|     Public|     Standard|\n",
      "|     PC6| CIMBB|           17|Urban| Non-public|     Standard|\n",
      "|     X6Z| CUQAM|           24|Urban|     Public| Experimental|\n",
      "+--------+------+-------------+-----+-----------+-------------+\n",
      "\n"
     ]
    },
    {
     "name": "stderr",
     "output_type": "stream",
     "text": [
      "[Stage 26:>                                                         (0 + 1) / 1]\r"
     ]
    },
    {
     "name": "stdout",
     "output_type": "stream",
     "text": [
      "+--------+------+-------------+-----+-----------+-------------+\n",
      "|class_cd|school|class_std_cnt|  loc|school_type|teaching_type|\n",
      "+--------+------+-------------+-----+-----------+-------------+\n",
      "|     1Q1| CUQAM|           28|Urban|     Public|     Standard|\n",
      "|     A33| CIMBB|           19|Urban| Non-public|     Standard|\n",
      "|     A33| CIMBB|           19|Urban| Non-public|     Standard|\n",
      "|     BFY| CUQAM|           27|Urban|     Public|     Standard|\n",
      "|     EID| CIMBB|           21|Urban| Non-public|     Standard|\n",
      "|     HUJ| CIMBB|           17|Urban| Non-public| Experimental|\n",
      "|     OMI| CUQAM|           28|Urban|     Public|     Standard|\n",
      "|     PC6| CIMBB|           17|Urban| Non-public|     Standard|\n",
      "|     X6Z| CUQAM|           24|Urban|     Public| Experimental|\n",
      "+--------+------+-------------+-----+-----------+-------------+\n",
      "\n"
     ]
    },
    {
     "name": "stderr",
     "output_type": "stream",
     "text": [
      "\r",
      "                                                                                \r"
     ]
    }
   ],
   "source": [
    "# intersect와 intersectAll의 차이를 확인하기 위해 중복데이터를 추가하여 새로운 DF로 생성\n",
    "temp = cdf.collect()\n",
    "\n",
    "temp.append({\n",
    "    'class_cd':'A33'\n",
    "    ,'school':'CIMBB'\n",
    "    ,'class_std_cnt':'19'\n",
    "    ,'loc':'Urban'\n",
    "    ,'school_type':'Non-public'\n",
    "    ,'teaching_type':'Standard'    \n",
    "})\n",
    "\n",
    "temp_df = spark.createDataFrame(temp)\n",
    "\n",
    "# 학교이름이 C로 시작하는 클래스와 학교 위치가 도시인 클래스간의 교집합을 구하시오\n",
    "temp_df.where(temp_df.school.like('C%')) \\\n",
    "        .intersect(temp_df.where(temp_df.loc=='Urban')) \\\n",
    "        .orderBy(temp_df.class_cd).show()\n",
    "\n",
    "temp_df.where(temp_df.school.like('C%')) \\\n",
    "        .intersectAll(temp_df.where(temp_df.loc=='Urban')) \\\n",
    "        .orderBy(temp_df.class_cd).show()"
   ]
  },
  {
   "cell_type": "markdown",
   "metadata": {},
   "source": [
    "### exceptAll"
   ]
  },
  {
   "cell_type": "code",
   "execution_count": 11,
   "metadata": {},
   "outputs": [
    {
     "name": "stderr",
     "output_type": "stream",
     "text": [
      "[Stage 27:===========================================>              (3 + 1) / 4]\r"
     ]
    },
    {
     "name": "stdout",
     "output_type": "stream",
     "text": [
      "+--------+------+-------------+--------+-----------+-------------+\n",
      "|class_cd|school|class_std_cnt|     loc|school_type|teaching_type|\n",
      "+--------+------+-------------+--------+-----------+-------------+\n",
      "|     2B1| CCAAW|           18|Suburban| Non-public| Experimental|\n",
      "|     EPS| CCAAW|           20|Suburban| Non-public| Experimental|\n",
      "|     IQN| CCAAW|           15|Suburban| Non-public| Experimental|\n",
      "|     PGK| CCAAW|           21|Suburban| Non-public|     Standard|\n",
      "|     UHU| CCAAW|           16|Suburban| Non-public| Experimental|\n",
      "|     UWK| CCAAW|           19|Suburban| Non-public|     Standard|\n",
      "+--------+------+-------------+--------+-----------+-------------+\n",
      "\n"
     ]
    },
    {
     "name": "stderr",
     "output_type": "stream",
     "text": [
      "\r",
      "                                                                                \r"
     ]
    }
   ],
   "source": [
    "temp_df.where(temp_df.school.like('C%')) \\\n",
    "        .exceptAll(temp_df.where(temp_df.loc=='Urban')) \\\n",
    "        .orderBy(temp_df.class_cd).show()"
   ]
  }
 ],
 "metadata": {
  "kernelspec": {
   "display_name": "Python 3 (ipykernel)",
   "language": "python",
   "name": "python3"
  },
  "language_info": {
   "codemirror_mode": {
    "name": "ipython",
    "version": 3
   },
   "file_extension": ".py",
   "mimetype": "text/x-python",
   "name": "python",
   "nbconvert_exporter": "python",
   "pygments_lexer": "ipython3",
   "version": "3.8.10"
  }
 },
 "nbformat": 4,
 "nbformat_minor": 5
}
