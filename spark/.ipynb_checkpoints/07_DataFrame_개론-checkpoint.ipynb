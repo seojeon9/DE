{
 "cells": [
  {
   "cell_type": "markdown",
   "metadata": {},
   "source": [
    "# DataFrame"
   ]
  },
  {
   "cell_type": "markdown",
   "metadata": {},
   "source": [
    "![dataframe](./img/dataframe.png)"
   ]
  },
  {
   "cell_type": "markdown",
   "metadata": {},
   "source": [
    "- DataFrame은 행과 열로 이루어진 구조화된 데이터이다.\n",
    "- 내부적인 연산과정에서는 RDD로 변경되어 동작한다.\n",
    "- 광범위한 데이터 형식과 소스를 지원한다.\n",
    "- 기존 개발자들에게 친숙한 SQL과 Pandas API를 제공해 준다.\n",
    "- 스키마(데이터의 구조)가 존재하기 때문에 Spark가 실행 계획을 최적화 하기에 유리하다."
   ]
  },
  {
   "cell_type": "markdown",
   "metadata": {},
   "source": [
    "![rdd_df_ds.png](./img/rdd_df_ds.png)"
   ]
  },
  {
   "cell_type": "markdown",
   "metadata": {},
   "source": [
    "- scala Dataset문서 확인"
   ]
  },
  {
   "cell_type": "markdown",
   "metadata": {},
   "source": [
    "## DataFrame Catalyst Optimizer 동작 과정\n",
    "![catalyst](./img/catalyst_optimizer.jpg)"
   ]
  }
 ],
 "metadata": {
  "kernelspec": {
   "display_name": "Python 3 (ipykernel)",
   "language": "python",
   "name": "python3"
  },
  "language_info": {
   "codemirror_mode": {
    "name": "ipython",
    "version": 3
   },
   "file_extension": ".py",
   "mimetype": "text/x-python",
   "name": "python",
   "nbconvert_exporter": "python",
   "pygments_lexer": "ipython3",
   "version": "3.8.10"
  }
 },
 "nbformat": 4,
 "nbformat_minor": 5
}
