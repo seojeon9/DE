{
 "cells": [
  {
   "cell_type": "markdown",
   "metadata": {},
   "source": [
    "## groupBy()"
   ]
  },
  {
   "cell_type": "code",
   "execution_count": 1,
   "metadata": {},
   "outputs": [],
   "source": [
    "from IPython.core.interactiveshell import InteractiveShell\n",
    "InteractiveShell.ast_node_interactivity = \"all\""
   ]
  },
  {
   "cell_type": "code",
   "execution_count": 2,
   "metadata": {},
   "outputs": [],
   "source": [
    "from datetime import date, datetime\n",
    "from pyspark.sql import *\n",
    "from pyspark.sql.types import *\n",
    "from pyspark.sql.functions import *\n",
    "from pyspark.sql import functions as F"
   ]
  },
  {
   "cell_type": "code",
   "execution_count": 3,
   "metadata": {},
   "outputs": [
    {
     "name": "stdout",
     "output_type": "stream",
     "text": [
      "root\n",
      " |-- class_cd: string (nullable = true)\n",
      " |-- school: string (nullable = true)\n",
      " |-- class_std_cnt: integer (nullable = true)\n",
      " |-- loc: string (nullable = true)\n",
      " |-- school_type: string (nullable = true)\n",
      " |-- teaching_type: string (nullable = true)\n",
      "\n"
     ]
    }
   ],
   "source": [
    "schema = StructType([\n",
    "    StructField('class_cd', StringType()),\n",
    "    StructField('school', StringType()),\n",
    "    StructField('class_std_cnt', IntegerType()),\n",
    "    StructField('loc', StringType()),\n",
    "    StructField('school_type', StringType()),\n",
    "    StructField('teaching_type', StringType())\n",
    "])\n",
    "\n",
    "cdf = spark.read.csv('/dataframe/a_class_info.csv', header=True, schema=schema)\n",
    "cdf.printSchema()\n",
    "cdf.createOrReplaceTempView('class')"
   ]
  },
  {
   "cell_type": "markdown",
   "metadata": {},
   "source": [
    "groupBy  : 집계함수를 가지고 있는 GroupData 객체를 반환한다.  \n",
    "\n",
    "GrouopData객체의 집계함수들을 사용해 grouping 된 데이터들의 집계결과를 저장하고 있는 DataFrame을 반환 받을 수 있다."
   ]
  },
  {
   "cell_type": "code",
   "execution_count": 30,
   "metadata": {
    "scrolled": true
   },
   "outputs": [
    {
     "name": "stdout",
     "output_type": "stream",
     "text": [
      "+--------+-------------+------------------+\n",
      "|     loc|teaching_type|sum(class_std_cnt)|\n",
      "+--------+-------------+------------------+\n",
      "|   Rural| Experimental|               211|\n",
      "|    null|         null|              null|\n",
      "|   Urban|     Standard|               631|\n",
      "|Suburban|     Standard|               433|\n",
      "|   Rural|     Standard|               327|\n",
      "|Suburban| Experimental|               284|\n",
      "|   Urban| Experimental|               275|\n",
      "+--------+-------------+------------------+\n",
      "\n",
      "지역내 교육타입별 학생 숫자와 평균을 구해보자. \n",
      "단  지역내 교육타입별 학생 숫자의 총 합이 300미만인 데이터는 제외한다.\n",
      "컬럼명이 sum(class_std_cnt) 이라니 너무 이상하다. 집계함수를 수행하고 별칭을 붙여보자\n",
      "+----------+\n",
      "|min(total)|\n",
      "+----------+\n",
      "|       211|\n",
      "+----------+\n",
      "\n"
     ]
    }
   ],
   "source": [
    "# 지역별 교육타입별 학생 숫자를 구해보자.\n",
    "cdf.groupBy(cdf.loc, cdf.teaching_type) \\\n",
    "    .agg(sum(cdf.class_std_cnt)) \\\n",
    "    .show()\n",
    "\n",
    "print('''지역내 교육타입별 학생 숫자와 평균을 구해보자. \n",
    "단  지역내 교육타입별 학생 숫자의 총 합이 300미만인 데이터는 제외한다.''')\n",
    "print('컬럼명이 sum(class_std_cnt) 이라니 너무 이상하다. 집계함수를 수행하고 별칭을 붙여보자')\n",
    "cdf.groupBy(cdf.loc, cdf.teaching_type) \\\n",
    "    .agg(sum(cdf.class_std_cnt).alias('total'), avg('class_std_cnt').alias('avg')) \\\n",
    "    .where(col('total') >= 300) \\\n",
    "    .show()\n",
    "\n",
    "# .where(sum(cdf.class_std_cnt) >= 300)# 이렇게 해도 되지만 \n",
    "# 이미 agg함수를 통해 함계를 구해서 새로운 데이터 프레임을 만들었는데\n",
    "# where절에서 기존 cdf의 class_std_cnt의 합계를 다시 구해서 조건을 행한다.\n",
    "# 그래서 새로 만들어진 데이터프레임의 컬럼을 반환해주는 \n",
    "# col()함수를 사용하는게 더 시스템적으로 좋다.\n"
   ]
  },
  {
   "cell_type": "code",
   "execution_count": 97,
   "metadata": {},
   "outputs": [
    {
     "name": "stderr",
     "output_type": "stream",
     "text": [
      "\r",
      "[Stage 312:>                                                        (0 + 1) / 1]\r"
     ]
    },
    {
     "name": "stdout",
     "output_type": "stream",
     "text": [
      "+--------+---+---+\n",
      "|     loc|cnt|stu|\n",
      "+--------+---+---+\n",
      "|   Urban| 37|906|\n",
      "|Suburban| 34|717|\n",
      "|   Rural| 26|538|\n",
      "+--------+---+---+\n",
      "\n"
     ]
    },
    {
     "name": "stderr",
     "output_type": "stream",
     "text": [
      "\r",
      "                                                                                \r"
     ]
    },
    {
     "ename": "TypeError",
     "evalue": "'int' object is not callable",
     "output_type": "error",
     "traceback": [
      "\u001b[0;31m---------------------------------------------------------------------------\u001b[0m",
      "\u001b[0;31mTypeError\u001b[0m                                 Traceback (most recent call last)",
      "Input \u001b[0;32mIn [97]\u001b[0m, in \u001b[0;36m<cell line: 17>\u001b[0;34m()\u001b[0m\n\u001b[1;32m     12\u001b[0m table \u001b[38;5;241m=\u001b[39m cdf\u001b[38;5;241m.\u001b[39mwhere(cdf\u001b[38;5;241m.\u001b[39mloc\u001b[38;5;241m.\u001b[39misNotNull()) \\\n\u001b[1;32m     13\u001b[0m             \u001b[38;5;241m.\u001b[39mgroupBy(cdf\u001b[38;5;241m.\u001b[39mloc) \\\n\u001b[1;32m     14\u001b[0m             \u001b[38;5;241m.\u001b[39magg(count(cdf\u001b[38;5;241m.\u001b[39mschool)\u001b[38;5;241m.\u001b[39malias(\u001b[38;5;124m'\u001b[39m\u001b[38;5;124mcnt\u001b[39m\u001b[38;5;124m'\u001b[39m),\u001b[38;5;28msum\u001b[39m(cdf\u001b[38;5;241m.\u001b[39mclass_std_cnt)\u001b[38;5;241m.\u001b[39malias(\u001b[38;5;124m'\u001b[39m\u001b[38;5;124mstu\u001b[39m\u001b[38;5;124m'\u001b[39m)) \n\u001b[1;32m     15\u001b[0m table\u001b[38;5;241m.\u001b[39mshow()\n\u001b[0;32m---> 17\u001b[0m min_max \u001b[38;5;241m=\u001b[39m base\u001b[38;5;241m.\u001b[39mselect(\u001b[38;5;28;43mmax\u001b[39;49m\u001b[43m(\u001b[49m\u001b[38;5;124;43m'\u001b[39;49m\u001b[38;5;124;43mcnt\u001b[39;49m\u001b[38;5;124;43m'\u001b[39;49m\u001b[43m)\u001b[49m,\u001b[38;5;28mmin\u001b[39m(\u001b[38;5;124m'\u001b[39m\u001b[38;5;124mcnt\u001b[39m\u001b[38;5;124m'\u001b[39m))\u001b[38;5;241m.\u001b[39mcollect()\n\u001b[1;32m     18\u001b[0m min_max\n",
      "\u001b[0;31mTypeError\u001b[0m: 'int' object is not callable"
     ]
    }
   ],
   "source": [
    "# 학교가 가장 많이 위치한 지역의 학생 수 총합과, 가장 적게 위치한 지역의 학생 수 총 합 간의 차이를 구해보자\n",
    "# cdf.groupBy(cdf.loc) \\\n",
    "#     .agg(count(cdf.school).alias('cnt'),sum(cdf.class_std_cnt).alias('stu')) \\\n",
    "#     .show()\n",
    "\n",
    "# cdf.groupBy(cdf.loc) \\\n",
    "#     .agg(count(cdf.school).alias('cnt'),sum(cdf.class_std_cnt).alias('stu')) \\\n",
    "#     .agg(max(col('stu'))-min(col('stu'))) \\\n",
    "#     .show()\n",
    "\n",
    "############################################\n",
    "table = cdf.where(cdf.loc.isNotNull()) \\\n",
    "            .groupBy(cdf.loc) \\\n",
    "            .agg(count(cdf.school).alias('cnt'),sum(cdf.class_std_cnt).alias('stu')) \n",
    "table.show()\n",
    "\n",
    "min_max = base.select(max('cnt'),min('cnt')).collect()\n",
    "min_max\n",
    "# min = min_max.collect()[0][0]\n",
    "# max = min_max.collect()[0][1]\n",
    "\n",
    "# table.where(table.cnt == min and table.cnt == max).show()"
   ]
  },
  {
   "cell_type": "code",
   "execution_count": 75,
   "metadata": {},
   "outputs": [
    {
     "name": "stdout",
     "output_type": "stream",
     "text": [
      "root\n",
      " |-- class_cd: string (nullable = true)\n",
      " |-- school: string (nullable = true)\n",
      " |-- class_std_cnt: integer (nullable = true)\n",
      " |-- loc: string (nullable = true)\n",
      " |-- school_type: string (nullable = true)\n",
      " |-- teaching_type: string (nullable = true)\n",
      "\n",
      "+--------+---+---+\n",
      "|     loc|cnt|tot|\n",
      "+--------+---+---+\n",
      "|   Urban| 37|906|\n",
      "|Suburban| 34|717|\n",
      "|   Rural| 28|538|\n",
      "+--------+---+---+\n",
      "\n"
     ]
    },
    {
     "data": {
      "text/plain": [
       "[Row(max(cnt)=37, min(cnt)=28)]"
      ]
     },
     "execution_count": 75,
     "metadata": {},
     "output_type": "execute_result"
    },
    {
     "name": "stdout",
     "output_type": "stream",
     "text": [
      "+---------------------+\n",
      "|(max(tot) - min(tot))|\n",
      "+---------------------+\n",
      "|                  368|\n",
      "+---------------------+\n",
      "\n"
     ]
    }
   ],
   "source": [
    "# 반이 가장 많이 위치한 지역의 학생 수 총합과, 가장 적게 위치한 지역의 학생 수 총 합 간의 차이를 구해보자\n",
    "cdf.printSchema()\n",
    "base = cdf \\\n",
    "            .where(cdf.loc.isNotNull()) \\\n",
    "            .groupBy(cdf.loc) \\\n",
    "            .agg(count(cdf.class_cd).alias('cnt'), sum(cdf.class_std_cnt).alias('tot')) \n",
    "base.show()\n",
    "\n",
    "min_max_row = base.select(max('cnt'),min('cnt')).collect()\n",
    "min_max_row\n",
    "\n",
    "base.where(base.cnt.isin(min_max_row[0][0],min_max_row[0][1])) \\\n",
    "    .select(max(col('tot'))-min(col('tot'))) \\\n",
    "    .show()\n"
   ]
  },
  {
   "cell_type": "markdown",
   "metadata": {},
   "source": [
    "#### sql"
   ]
  },
  {
   "cell_type": "code",
   "execution_count": 7,
   "metadata": {},
   "outputs": [
    {
     "name": "stdout",
     "output_type": "stream",
     "text": [
      "root\n",
      " |-- class_cd: string (nullable = true)\n",
      " |-- school: string (nullable = true)\n",
      " |-- class_std_cnt: integer (nullable = true)\n",
      " |-- loc: string (nullable = true)\n",
      " |-- school_type: string (nullable = true)\n",
      " |-- teaching_type: string (nullable = true)\n",
      "\n"
     ]
    },
    {
     "name": "stderr",
     "output_type": "stream",
     "text": [
      "                                                                                \r"
     ]
    },
    {
     "name": "stdout",
     "output_type": "stream",
     "text": [
      "+--------+-------------+------------------+\n",
      "|     loc|teaching_type|sum(class_std_cnt)|\n",
      "+--------+-------------+------------------+\n",
      "|   Rural| Experimental|               211|\n",
      "|    null|         null|              null|\n",
      "|   Urban|     Standard|               631|\n",
      "|Suburban|     Standard|               433|\n",
      "|   Rural|     Standard|               327|\n",
      "|Suburban| Experimental|               284|\n",
      "|   Urban| Experimental|               275|\n",
      "+--------+-------------+------------------+\n",
      "\n",
      "지역내 교육타입별 학생 숫자와 평균을 구해보자. \n",
      "단  지역내 교육타입별 학생 숫자의 총 합이 300미만인 데이터는 제외한다.\n",
      "컬럼명이 sum(class_std_cnt) 이라니 너무 이상하다. 집계함수를 수행하고 별칭을 붙여보자\n"
     ]
    },
    {
     "name": "stderr",
     "output_type": "stream",
     "text": [
      "\r",
      "[Stage 15:>                                                         (0 + 1) / 1]\r"
     ]
    },
    {
     "name": "stdout",
     "output_type": "stream",
     "text": [
      "+--------+-------------+-----+-----------------+\n",
      "|     loc|teaching_type|total|              avg|\n",
      "+--------+-------------+-----+-----------------+\n",
      "|   Urban|     Standard|  631|24.26923076923077|\n",
      "|Suburban|     Standard|  433|            21.65|\n",
      "|   Rural|     Standard|  327|          20.4375|\n",
      "+--------+-------------+-----+-----------------+\n",
      "\n"
     ]
    },
    {
     "name": "stderr",
     "output_type": "stream",
     "text": [
      "\r",
      "                                                                                \r"
     ]
    }
   ],
   "source": [
    "cdf.printSchema()\n",
    "# 지역별 교육타입별 학생 숫자를 구해보자.\n",
    "spark.sql('''\n",
    "    select loc, teaching_type, sum(class_std_cnt)\n",
    "    from class\n",
    "    group by loc, teaching_type\n",
    "''').show()\n",
    "\n",
    "print('''지역내 교육타입별 학생 숫자와 평균을 구해보자. \n",
    "단  지역내 교육타입별 학생 숫자의 총 합이 300미만인 데이터는 제외한다.''')\n",
    "print('컬럼명이 sum(class_std_cnt) 이라니 너무 이상하다. 집계함수를 수행하고 별칭을 붙여보자')\n",
    "spark.sql('''\n",
    "    select loc, teaching_type, sum(class_std_cnt) as total , avg(class_std_cnt) as avg\n",
    "    from class\n",
    "    group by loc, teaching_type\n",
    "    having sum(class_std_cnt) >= 300\n",
    "''').show()\n",
    "\n",
    "\n",
    "\n"
   ]
  },
  {
   "cell_type": "markdown",
   "metadata": {},
   "source": [
    "## orderBy()"
   ]
  },
  {
   "cell_type": "code",
   "execution_count": 17,
   "metadata": {},
   "outputs": [
    {
     "name": "stdout",
     "output_type": "stream",
     "text": [
      "반 학생 숫자를 기준으로 내림차순 정렬하라\n",
      "+--------+------+-------------+-----+-----------+-------------+\n",
      "|class_cd|school|class_std_cnt|  loc|school_type|teaching_type|\n",
      "+--------+------+-------------+-----+-----------+-------------+\n",
      "|     18K| GOOBU|           31|Urban|     Public|     Standard|\n",
      "|     Q0E| ZOWMK|           30|Urban|     Public| Experimental|\n",
      "|     YTB| VVTVA|           30|Urban|     Public| Experimental|\n",
      "+--------+------+-------------+-----+-----------+-------------+\n",
      "only showing top 3 rows\n",
      "\n",
      "+--------+------+-------------+-----+-----------+-------------+\n",
      "|class_cd|school|class_std_cnt|  loc|school_type|teaching_type|\n",
      "+--------+------+-------------+-----+-----------+-------------+\n",
      "|     18K| GOOBU|           31|Urban|     Public|     Standard|\n",
      "|     Q0E| ZOWMK|           30|Urban|     Public| Experimental|\n",
      "|     YTB| VVTVA|           30|Urban|     Public| Experimental|\n",
      "+--------+------+-------------+-----+-----------+-------------+\n",
      "only showing top 3 rows\n",
      "\n",
      "loc를 기준으로 오름차순 정렬하라, 이때 같은 지역끼리는 학교이름을 기준으로 내림차순 정렬하라\n",
      "+--------+------+-------------+-----+-----------+-------------+\n",
      "|class_cd|school|class_std_cnt|  loc|school_type|teaching_type|\n",
      "+--------+------+-------------+-----+-----------+-------------+\n",
      "|     6OL| ANKYI|           20|Urban| Non-public|     Standard|\n",
      "|     ZNS| ANKYI|           21|Urban| Non-public|     Standard|\n",
      "|     EID| CIMBB|           21|Urban| Non-public|     Standard|\n",
      "+--------+------+-------------+-----+-----------+-------------+\n",
      "only showing top 3 rows\n",
      "\n",
      "학교 종류를 기준으로 오름차순 정렬하라, 만약 school_type이 null인 행이 있다면 제일 위로 오게 하라\n",
      "+--------+------+-------------+----+-----------+-------------+\n",
      "|class_cd|school|class_std_cnt| loc|school_type|teaching_type|\n",
      "+--------+------+-------------+----+-----------+-------------+\n",
      "|     6PP|  null|         null|null|       null|         null|\n",
      "|     5SD|  null|         null|null|       null|         null|\n",
      "|     4SZ|  null|         null|null|       null|         null|\n",
      "+--------+------+-------------+----+-----------+-------------+\n",
      "only showing top 3 rows\n",
      "\n",
      "+--------+------+-------------+--------+-----------+-------------+\n",
      "|class_cd|school|class_std_cnt|     loc|school_type|teaching_type|\n",
      "+--------+------+-------------+--------+-----------+-------------+\n",
      "|     6OL| ANKYI|           20|   Urban| Non-public|     Standard|\n",
      "|     ZNS| ANKYI|           21|   Urban| Non-public|     Standard|\n",
      "|     2B1| CCAAW|           18|Suburban| Non-public| Experimental|\n",
      "+--------+------+-------------+--------+-----------+-------------+\n",
      "only showing top 3 rows\n",
      "\n"
     ]
    }
   ],
   "source": [
    "print('반 학생 숫자를 기준으로 내림차순 정렬하라')\n",
    "cdf.select('*').orderBy(cdf.class_std_cnt, ascending=False).show(3)\n",
    "cdf.select('*').orderBy(cdf.class_std_cnt.desc()).show(3)\n",
    "\n",
    "print('loc를 기준으로 오름차순 정렬하라, 이때 같은 지역끼리는 학교이름을 기준으로 내림차순 정렬하라')\n",
    "cdf.select('*').orderBy([cdf.loc,cdf.school], ascending=[0,1]).show(3) \n",
    "cdf.orderBy(cdf.loc.asc(), cdf.school.desc()) # select('*') 생략가능\n",
    "\n",
    "print('학교 종류를 기준으로 오름차순 정렬하라, 만약 school_type이 null인 행이 있다면 제일 위로 오게 하라')\n",
    "cdf.select('*').orderBy(cdf.school_type.asc_nulls_first()).show(3)\n",
    "cdf.select('*').orderBy(cdf.school_type.asc_nulls_last()).show(3)"
   ]
  },
  {
   "cell_type": "markdown",
   "metadata": {},
   "source": [
    "#### sql"
   ]
  },
  {
   "cell_type": "code",
   "execution_count": 8,
   "metadata": {},
   "outputs": [
    {
     "name": "stdout",
     "output_type": "stream",
     "text": [
      "root\n",
      " |-- class_cd: string (nullable = true)\n",
      " |-- school: string (nullable = true)\n",
      " |-- class_std_cnt: integer (nullable = true)\n",
      " |-- loc: string (nullable = true)\n",
      " |-- school_type: string (nullable = true)\n",
      " |-- teaching_type: string (nullable = true)\n",
      "\n",
      "반 학생 숫자를 기준으로 내림차순 정렬하라\n",
      "+--------+------+-------------+-----+-----------+-------------+\n",
      "|class_cd|school|class_std_cnt|  loc|school_type|teaching_type|\n",
      "+--------+------+-------------+-----+-----------+-------------+\n",
      "|     18K| GOOBU|           31|Urban|     Public|     Standard|\n",
      "|     Q0E| ZOWMK|           30|Urban|     Public| Experimental|\n",
      "|     YTB| VVTVA|           30|Urban|     Public| Experimental|\n",
      "+--------+------+-------------+-----+-----------+-------------+\n",
      "only showing top 3 rows\n",
      "\n",
      "loc를 기준으로 오름차순 정렬하라, 이때 같은 지역끼리는 학교이름을 기준으로 내림차순 정렬하라\n",
      "+--------+------+-------------+----+-----------+-------------+\n",
      "|class_cd|school|class_std_cnt| loc|school_type|teaching_type|\n",
      "+--------+------+-------------+----+-----------+-------------+\n",
      "|     5SD|  null|         null|null|       null|         null|\n",
      "|     4SZ|  null|         null|null|       null|         null|\n",
      "|     6PP|  null|         null|null|       null|         null|\n",
      "+--------+------+-------------+----+-----------+-------------+\n",
      "only showing top 3 rows\n",
      "\n",
      "학교 종류를 기준으로 오름차순 정렬하라, 만약 school_type이 null인 행이 있다면 제일 위로 오게 하라\n",
      "+--------+------+-------------+----+-----------+-------------+\n",
      "|class_cd|school|class_std_cnt| loc|school_type|teaching_type|\n",
      "+--------+------+-------------+----+-----------+-------------+\n",
      "|     6PP|  null|         null|null|       null|         null|\n",
      "|     5SD|  null|         null|null|       null|         null|\n",
      "|     4SZ|  null|         null|null|       null|         null|\n",
      "+--------+------+-------------+----+-----------+-------------+\n",
      "only showing top 3 rows\n",
      "\n",
      "+--------+------+-------------+--------+-----------+-------------+\n",
      "|class_cd|school|class_std_cnt|     loc|school_type|teaching_type|\n",
      "+--------+------+-------------+--------+-----------+-------------+\n",
      "|     6OL| ANKYI|           20|   Urban| Non-public|     Standard|\n",
      "|     ZNS| ANKYI|           21|   Urban| Non-public|     Standard|\n",
      "|     2B1| CCAAW|           18|Suburban| Non-public| Experimental|\n",
      "+--------+------+-------------+--------+-----------+-------------+\n",
      "only showing top 3 rows\n",
      "\n"
     ]
    },
    {
     "name": "stderr",
     "output_type": "stream",
     "text": [
      "\r",
      "[Stage 8:===========================================================(1 + 0) / 1]\r",
      "\r",
      "                                                                                \r"
     ]
    }
   ],
   "source": [
    "cdf.printSchema()\n",
    "print('반 학생 숫자를 기준으로 내림차순 정렬하라')\n",
    "spark.sql('''\n",
    "    select * from class order by class_std_cnt desc\n",
    "''').show(3)\n",
    "\n",
    "\n",
    "print('loc를 기준으로 오름차순 정렬하라, 이때 같은 지역끼리는 학교이름을 기준으로 내림차순 정렬하라')\n",
    "spark.sql('''\n",
    "    select * from class order by loc asc, school desc\n",
    "''').show(3)\n",
    "\n",
    "\n",
    "print('학교 종류를 기준으로 오름차순 정렬하라, 만약 school_type이 null인 행이 있다면 제일 위로 오게 하라')\n",
    "spark.sql('''\n",
    "    select * from class order by school_type nulls first\n",
    "''').show(3)\n",
    "spark.sql('''\n",
    "    select * from class order by school_type nulls last\n",
    "''').show(3)"
   ]
  }
 ],
 "metadata": {
  "kernelspec": {
   "display_name": "Python 3 (ipykernel)",
   "language": "python",
   "name": "python3"
  },
  "language_info": {
   "codemirror_mode": {
    "name": "ipython",
    "version": 3
   },
   "file_extension": ".py",
   "mimetype": "text/x-python",
   "name": "python",
   "nbconvert_exporter": "python",
   "pygments_lexer": "ipython3",
   "version": "3.8.10"
  }
 },
 "nbformat": 4,
 "nbformat_minor": 5
}
