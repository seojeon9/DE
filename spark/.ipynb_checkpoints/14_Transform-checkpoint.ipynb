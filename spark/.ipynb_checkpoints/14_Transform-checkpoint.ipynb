{
 "cells": [
  {
   "cell_type": "code",
   "execution_count": 1,
   "metadata": {},
   "outputs": [],
   "source": [
    "from IPython.core.interactiveshell import InteractiveShell\n",
    "InteractiveShell.ast_node_interactivity = \"all\""
   ]
  },
  {
   "cell_type": "code",
   "execution_count": null,
   "metadata": {},
   "outputs": [],
   "source": [
    "# matplotlib 한글 꺠짐 방지\n",
    "# apt-get update\n",
    "# apt-get install fonts-nanum* \n",
    "# apt-get install fontconfig\n",
    "# fc-cache -fv  # font 캐시 날리기\n",
    "# rm -rf /home/hy1/.cache/matplotlib/  #matplotliob 폰트 캐시 날리기\n"
   ]
  },
  {
   "cell_type": "code",
   "execution_count": 3,
   "metadata": {},
   "outputs": [
    {
     "name": "stdout",
     "output_type": "stream",
     "text": [
      "Requirement already satisfied: pandas in /home/big/.local/lib/python3.8/site-packages (1.4.4)\n",
      "Requirement already satisfied: python-dateutil>=2.8.1 in /home/big/.local/lib/python3.8/site-packages (from pandas) (2.8.2)\n",
      "Requirement already satisfied: pytz>=2020.1 in /home/big/.local/lib/python3.8/site-packages (from pandas) (2022.2.1)\n",
      "Requirement already satisfied: numpy>=1.18.5; platform_machine != \"aarch64\" and platform_machine != \"arm64\" and python_version < \"3.10\" in /home/big/.local/lib/python3.8/site-packages (from pandas) (1.23.2)\n",
      "Requirement already satisfied: six>=1.5 in /usr/lib/python3/dist-packages (from python-dateutil>=2.8.1->pandas) (1.14.0)\n"
     ]
    }
   ],
   "source": [
    "# !pip install matplotlib\n",
    "# !pip install pandas"
   ]
  },
  {
   "cell_type": "code",
   "execution_count": 2,
   "metadata": {},
   "outputs": [],
   "source": [
    "from datetime import date, datetime\n",
    "from pyspark.sql.types import *\n",
    "from pyspark.sql.functions import *\n",
    "import datetime as dt\n",
    "import pandas as pd\n",
    "import matplotlib.pyplot as plt #그래프 패키지 모듈 등록\n",
    "%matplotlib inline \n"
   ]
  },
  {
   "cell_type": "code",
   "execution_count": 3,
   "metadata": {},
   "outputs": [],
   "source": [
    "def cal_std_day(befor_day):   \n",
    "    x = dt.datetime.now() - dt.timedelta(befor_day)\n",
    "    year = x.year\n",
    "    month = x.month if x.month >= 10 else '0'+ str(x.month)\n",
    "    day = x.day if x.day >= 10 else '0'+ str(x.day)  \n",
    "    return str(year)+ '-' +str(month)+ '-' +str(day)"
   ]
  },
  {
   "cell_type": "code",
   "execution_count": 4,
   "metadata": {},
   "outputs": [],
   "source": [
    "import platform\n",
    "\n",
    "from matplotlib import font_manager, rc\n",
    "plt.rcParams['axes.unicode_minus'] = False\n",
    "\n",
    "if platform.system() == 'Darwin':  # 맥OS \n",
    "    rc('font', family='AppleGothic')\n",
    "elif platform.system() == 'Windows':  # 윈도우\n",
    "    path = \"c:/Windows/Fonts/malgun.ttf\"\n",
    "    font_name = font_manager.FontProperties(fname=path).get_name()\n",
    "    rc('font', family=font_name)\n",
    "else:\n",
    "    rc('font', family='NanumGothic')"
   ]
  },
  {
   "cell_type": "markdown",
   "metadata": {},
   "source": [
    "## Transform"
   ]
  },
  {
   "cell_type": "markdown",
   "metadata": {},
   "source": [
    "### 1. 지역별 단위면적(km)당 인구수와 코로나 확진자 수의 상관관계를 구해보자"
   ]
  },
  {
   "cell_type": "code",
   "execution_count": 5,
   "metadata": {},
   "outputs": [
    {
     "name": "stderr",
     "output_type": "stream",
     "text": [
      "                                                                                \r"
     ]
    },
    {
     "name": "stdout",
     "output_type": "stream",
     "text": [
      "+----+-----+-----+\n",
      "| loc| area|ratio|\n",
      "+----+-----+-----+\n",
      "|서울| 605 |  0.6|\n",
      "|부산| 770 |  0.8|\n",
      "|대구| 883 |  0.9|\n",
      "|인천|1065 |  1.1|\n",
      "|광주| 501 |  0.5|\n",
      "+----+-----+-----+\n",
      "only showing top 5 rows\n",
      "\n"
     ]
    },
    {
     "name": "stderr",
     "output_type": "stream",
     "text": [
      "                                                                                \r"
     ]
    },
    {
     "name": "stdout",
     "output_type": "stream",
     "text": [
      "+----+---------+---------+---------+\n",
      "| loc|    total|     male|   female|\n",
      "+----+---------+---------+---------+\n",
      "|전국|52739009 |26360035 |26378974 |\n",
      "|서울| 9736027 | 4721977 | 5014050 |\n",
      "|부산| 3396109 | 1663619 | 1732490 |\n",
      "|대구| 2412642 | 1189901 | 1222741 |\n",
      "|인천| 3014739 | 1513277 | 1501462 |\n",
      "+----+---------+---------+---------+\n",
      "only showing top 5 rows\n",
      "\n"
     ]
    }
   ],
   "source": [
    "# 면적, 인구정보\n",
    "area = spark.read.csv('/corona_data/loc/sido_area.csv', encoding='CP949', header=True)\n",
    "poppu = spark.read.csv('/corona_data/loc/sido_population.csv', encoding='CP949', header=True)\n",
    "\n",
    "area.show(5)\n",
    "poppu.show(5)"
   ]
  },
  {
   "cell_type": "code",
   "execution_count": 6,
   "metadata": {},
   "outputs": [
    {
     "name": "stderr",
     "output_type": "stream",
     "text": [
      "[Stage 5:>                                                          (0 + 1) / 1]\r"
     ]
    },
    {
     "name": "stdout",
     "output_type": "stream",
     "text": [
      "+----+-------------+\n",
      "| loc|poppu_density|\n",
      "+----+-------------+\n",
      "|서울|        16093|\n",
      "|부산|         4411|\n",
      "|대구|         2733|\n",
      "|인천|         2831|\n",
      "|광주|         2920|\n",
      "|대전|         2722|\n",
      "|울산|         1072|\n",
      "|세종|          811|\n",
      "|경기|         1366|\n",
      "|강원|           93|\n",
      "|충북|          221|\n",
      "|충남|          265|\n",
      "|전북|          226|\n",
      "|전남|          152|\n",
      "|경북|          141|\n",
      "|경남|          321|\n",
      "|제주|          378|\n",
      "+----+-------------+\n",
      "\n"
     ]
    },
    {
     "name": "stderr",
     "output_type": "stream",
     "text": [
      "\r",
      "                                                                                \r"
     ]
    }
   ],
   "source": [
    "area_poppu = area.join(poppu, on='loc')\n",
    "# area_poppu.show()\n",
    "\n",
    "# area_poppu = area_poppu.select(area_poppu.loc,(area_poppu.total/area_poppu.area).cast('int').alias('poppu_density'))\n",
    "area_poppu = area_poppu.select(area_poppu.loc,ceil((area_poppu.total/area_poppu.area)).alias('poppu_density'))\n",
    "\n",
    "area_poppu.show()"
   ]
  },
  {
   "cell_type": "code",
   "execution_count": 7,
   "metadata": {
    "scrolled": false
   },
   "outputs": [
    {
     "name": "stderr",
     "output_type": "stream",
     "text": [
      "[Stage 7:>                                                          (0 + 1) / 1]\r"
     ]
    },
    {
     "name": "stdout",
     "output_type": "stream",
     "text": [
      "+--------------------+---------+------+----------+--------------+----------+\n",
      "|               items|numOfRows|pageNo|resultCode|     resultMsg|totalCount|\n",
      "+--------------------+---------+------+----------+--------------+----------+\n",
      "|[{1465, 1461477, ...|      500|     1|        00|NORMAL SERVICE|     19684|\n",
      "+--------------------+---------+------+----------+--------------+----------+\n",
      "\n"
     ]
    },
    {
     "name": "stderr",
     "output_type": "stream",
     "text": [
      "\r",
      "                                                                                \r"
     ]
    }
   ],
   "source": [
    "# 코로나 감염자 데이터 가져오기\n",
    "file_name = '/corona_data/patient/corona_patient_' + cal_std_day(2) + '.json'\n",
    "tmp = spark.read.json(file_name, encoding='UTF-8')\n",
    "tmp.show(3)"
   ]
  },
  {
   "cell_type": "code",
   "execution_count": 8,
   "metadata": {},
   "outputs": [
    {
     "name": "stderr",
     "output_type": "stream",
     "text": [
      "                                                                                \r"
     ]
    },
    {
     "data": {
      "text/plain": [
       "Row(items=[Row(deathCnt='1465', defCnt='1461477', gubun='경남', gubunCn='庆南', gubunEn='Gyeongsangnam-do', incDec='5884', isolClearCnt='0', isolIngCnt='0', localOccCnt='5867', overFlowCnt='17', qurRate='44098', stdDay='2022-09-14'), Row(deathCnt='637', defCnt='715090', gubun='광주', gubunCn='光州', gubunEn='Gwangju', incDec='2532', isolClearCnt='0', isolIngCnt='0', localOccCnt='2519', overFlowCnt='13', qurRate='49604', stdDay='2022-09-14'), Row(deathCnt='6963', defCnt='6495551', gubun='경기', gubunCn='京畿', gubunEn='Gyeonggi-do', incDec='26133', isolClearCnt='0', isolIngCnt='0', localOccCnt='26110', overFlowCnt='23', qurRate='47883', stdDay='2022-09-14'), Row(deathCnt='1605', defCnt='1089380', gubun='경북', gubunCn='庆北', gubunEn='Gyeongsangbuk-do', incDec='4329', isolClearCnt='0', isolIngCnt='0', localOccCnt='4306', overFlowCnt='23', qurRate='41475', stdDay='2022-09-14'), Row(deathCnt='637', defCnt='715090', gubun='광주', gubunCn='光州', gubunEn='Gwangju', incDec='2532', isolClearCnt='0', isolIngCnt='0', localOccCnt='2519', overFlowCnt='13', qurRate='49604', stdDay='2022-09-14'), Row(deathCnt='6963', defCnt='6495551', gubun='경기', gubunCn='京畿', gubunEn='Gyeonggi-do', incDec='26133', isolClearCnt='0', isolIngCnt='0', localOccCnt='26110', overFlowCnt='23', qurRate='47883', stdDay='2022-09-14'), Row(deathCnt='967', defCnt='820183', gubun='전북', gubunCn='全北', gubunEn='Jeollabuk-do', incDec='3232', isolClearCnt='0', isolIngCnt='0', localOccCnt='3218', overFlowCnt='14', qurRate='45901', stdDay='2022-09-14'), Row(deathCnt='1465', defCnt='1461477', gubun='경남', gubunCn='庆南', gubunEn='Gyeongsangnam-do', incDec='5884', isolClearCnt='0', isolIngCnt='0', localOccCnt='5867', overFlowCnt='17', qurRate='44098', stdDay='2022-09-14'), Row(deathCnt='1502', defCnt='1392441', gubun='인천', gubunCn='仁川', gubunEn='Incheon', incDec='5548', isolClearCnt='0', isolIngCnt='0', localOccCnt='5476', overFlowCnt='72', qurRate='47227', stdDay='2022-09-14'), Row(deathCnt='1579', defCnt='1048878', gubun='대구', gubunCn='大邱', gubunEn='Daegu', incDec='5360', isolClearCnt='0', isolIngCnt='0', localOccCnt='5351', overFlowCnt='9', qurRate='43971', stdDay='2022-09-14'), Row(deathCnt='655', defCnt='806148', gubun='전남', gubunCn='全南', gubunEn='Jeollanam-do', incDec='2744', isolClearCnt='0', isolIngCnt='0', localOccCnt='2739', overFlowCnt='5', qurRate='43984', stdDay='2022-09-14'), Row(deathCnt='1017', defCnt='707376', gubun='강원', gubunCn='江原', gubunEn='Gangwon-do', incDec='2917', isolClearCnt='0', isolIngCnt='0', localOccCnt='2916', overFlowCnt='1', qurRate='45979', stdDay='2022-09-14'), Row(deathCnt='2406', defCnt='1446689', gubun='부산', gubunCn='釜山', gubunEn='Busan', incDec='4982', isolClearCnt='0', isolIngCnt='0', localOccCnt='4975', overFlowCnt='7', qurRate='43180', stdDay='2022-09-14'), Row(deathCnt='2406', defCnt='1446689', gubun='부산', gubunCn='釜山', gubunEn='Busan', incDec='4982', isolClearCnt='0', isolIngCnt='0', localOccCnt='4975', overFlowCnt='7', qurRate='43180', stdDay='2022-09-14'), Row(deathCnt='27593', defCnt='24193038', gubun='합계', gubunCn='合计', gubunEn='Total', incDec='93981', isolClearCnt='0', isolIngCnt='0', localOccCnt='93667', overFlowCnt='314', qurRate='46850', stdDay='2022-09-14'), Row(deathCnt='1605', defCnt='1089380', gubun='경북', gubunCn='庆北', gubunEn='Gyeongsangbuk-do', incDec='4329', isolClearCnt='0', isolIngCnt='0', localOccCnt='4306', overFlowCnt='23', qurRate='41475', stdDay='2022-09-14'), Row(deathCnt='27593', defCnt='24193038', gubun='합계', gubunCn='合计', gubunEn='Total', incDec='93981', isolClearCnt='0', isolIngCnt='0', localOccCnt='93667', overFlowCnt='314', qurRate='46850', stdDay='2022-09-14'), Row(deathCnt='637', defCnt='715090', gubun='광주', gubunCn='光州', gubunEn='Gwangju', incDec='2532', isolClearCnt='0', isolIngCnt='0', localOccCnt='2519', overFlowCnt='13', qurRate='49604', stdDay='2022-09-14'), Row(deathCnt='1149', defCnt='974079', gubun='충남', gubunCn='忠南', gubunEn='Chungcheongnam-do', incDec='3725', isolClearCnt='0', isolIngCnt='0', localOccCnt='3699', overFlowCnt='26', qurRate='45963', stdDay='2022-09-14'), Row(deathCnt='6963', defCnt='6495551', gubun='경기', gubunCn='京畿', gubunEn='Gyeonggi-do', incDec='26133', isolClearCnt='0', isolIngCnt='0', localOccCnt='26110', overFlowCnt='23', qurRate='47883', stdDay='2022-09-14'), Row(deathCnt='400', defCnt='522861', gubun='울산', gubunCn='蔚山', gubunEn='Ulsan', incDec='1637', isolClearCnt='0', isolIngCnt='0', localOccCnt='1629', overFlowCnt='8', qurRate='46618', stdDay='2022-09-14'), Row(deathCnt='6963', defCnt='6495551', gubun='경기', gubunCn='京畿', gubunEn='Gyeonggi-do', incDec='26133', isolClearCnt='0', isolIngCnt='0', localOccCnt='26110', overFlowCnt='23', qurRate='47883', stdDay='2022-09-14'), Row(deathCnt='16', defCnt='13194', gubun='검역', gubunCn='隔離區', gubunEn='Lazaretto', incDec='19', isolClearCnt='0', isolIngCnt='0', localOccCnt='0', overFlowCnt='19', qurRate='-', stdDay='2022-09-14'), Row(deathCnt='400', defCnt='522861', gubun='울산', gubunCn='蔚山', gubunEn='Ulsan', incDec='1637', isolClearCnt='0', isolIngCnt='0', localOccCnt='1629', overFlowCnt='8', qurRate='46618', stdDay='2022-09-14'), Row(deathCnt='400', defCnt='522861', gubun='울산', gubunCn='蔚山', gubunEn='Ulsan', incDec='1637', isolClearCnt='0', isolIngCnt='0', localOccCnt='1629', overFlowCnt='8', qurRate='46618', stdDay='2022-09-14'), Row(deathCnt='1605', defCnt='1089380', gubun='경북', gubunCn='庆北', gubunEn='Gyeongsangbuk-do', incDec='4329', isolClearCnt='0', isolIngCnt='0', localOccCnt='4306', overFlowCnt='23', qurRate='41475', stdDay='2022-09-14'), Row(deathCnt='655', defCnt='806148', gubun='전남', gubunCn='全南', gubunEn='Jeollanam-do', incDec='2744', isolClearCnt='0', isolIngCnt='0', localOccCnt='2739', overFlowCnt='5', qurRate='43984', stdDay='2022-09-14'), Row(deathCnt='43', defCnt='189344', gubun='세종', gubunCn='世宗', gubunEn='Sejong', incDec='844', isolClearCnt='0', isolIngCnt='0', localOccCnt='838', overFlowCnt='6', qurRate='50913', stdDay='2022-09-14'), Row(deathCnt='5368', defCnt='4723634', gubun='서울', gubunCn='首尔', gubunEn='Seoul', incDec='17384', isolClearCnt='0', isolIngCnt='0', localOccCnt='17368', overFlowCnt='16', qurRate='49673', stdDay='2022-09-14'), Row(deathCnt='43', defCnt='189344', gubun='세종', gubunCn='世宗', gubunEn='Sejong', incDec='844', isolClearCnt='0', isolIngCnt='0', localOccCnt='838', overFlowCnt='6', qurRate='50913', stdDay='2022-09-14'), Row(deathCnt='967', defCnt='820183', gubun='전북', gubunCn='全北', gubunEn='Jeollabuk-do', incDec='3232', isolClearCnt='0', isolIngCnt='0', localOccCnt='3218', overFlowCnt='14', qurRate='45901', stdDay='2022-09-14'), Row(deathCnt='1017', defCnt='707376', gubun='강원', gubunCn='江原', gubunEn='Gangwon-do', incDec='2917', isolClearCnt='0', isolIngCnt='0', localOccCnt='2916', overFlowCnt='1', qurRate='45979', stdDay='2022-09-14'), Row(deathCnt='830', defCnt='755791', gubun='충북', gubunCn='忠北', gubunEn='Chungcheongbuk-do', incDec='3166', isolClearCnt='0', isolIngCnt='0', localOccCnt='3143', overFlowCnt='23', qurRate='47313', stdDay='2022-09-14'), Row(deathCnt='16', defCnt='13194', gubun='검역', gubunCn='隔離區', gubunEn='Lazaretto', incDec='19', isolClearCnt='0', isolIngCnt='0', localOccCnt='0', overFlowCnt='19', qurRate='-', stdDay='2022-09-14'), Row(deathCnt='43', defCnt='189344', gubun='세종', gubunCn='世宗', gubunEn='Sejong', incDec='844', isolClearCnt='0', isolIngCnt='0', localOccCnt='838', overFlowCnt='6', qurRate='50913', stdDay='2022-09-14'), Row(deathCnt='1502', defCnt='1392441', gubun='인천', gubunCn='仁川', gubunEn='Incheon', incDec='5548', isolClearCnt='0', isolIngCnt='0', localOccCnt='5476', overFlowCnt='72', qurRate='47227', stdDay='2022-09-14'), Row(deathCnt='216', defCnt='329390', gubun='제주', gubunCn='济州', gubunEn='Jeju', incDec='470', isolClearCnt='0', isolIngCnt='0', localOccCnt='466', overFlowCnt='4', qurRate='48672', stdDay='2022-09-14'), Row(deathCnt='1579', defCnt='1048878', gubun='대구', gubunCn='大邱', gubunEn='Daegu', incDec='5360', isolClearCnt='0', isolIngCnt='0', localOccCnt='5351', overFlowCnt='9', qurRate='43971', stdDay='2022-09-14'), Row(deathCnt='400', defCnt='522861', gubun='울산', gubunCn='蔚山', gubunEn='Ulsan', incDec='1637', isolClearCnt='0', isolIngCnt='0', localOccCnt='1629', overFlowCnt='8', qurRate='46618', stdDay='2022-09-14'), Row(deathCnt='1579', defCnt='1048878', gubun='대구', gubunCn='大邱', gubunEn='Daegu', incDec='5360', isolClearCnt='0', isolIngCnt='0', localOccCnt='5351', overFlowCnt='9', qurRate='43971', stdDay='2022-09-14'), Row(deathCnt='1149', defCnt='974079', gubun='충남', gubunCn='忠南', gubunEn='Chungcheongnam-do', incDec='3725', isolClearCnt='0', isolIngCnt='0', localOccCnt='3699', overFlowCnt='26', qurRate='45963', stdDay='2022-09-14'), Row(deathCnt='1149', defCnt='974079', gubun='충남', gubunCn='忠南', gubunEn='Chungcheongnam-do', incDec='3725', isolClearCnt='0', isolIngCnt='0', localOccCnt='3699', overFlowCnt='26', qurRate='45963', stdDay='2022-09-14'), Row(deathCnt='1149', defCnt='974079', gubun='충남', gubunCn='忠南', gubunEn='Chungcheongnam-do', incDec='3725', isolClearCnt='0', isolIngCnt='0', localOccCnt='3699', overFlowCnt='26', qurRate='45963', stdDay='2022-09-14'), Row(deathCnt='16', defCnt='13194', gubun='검역', gubunCn='隔離區', gubunEn='Lazaretto', incDec='19', isolClearCnt='0', isolIngCnt='0', localOccCnt='0', overFlowCnt='19', qurRate='-', stdDay='2022-09-14'), Row(deathCnt='637', defCnt='715090', gubun='광주', gubunCn='光州', gubunEn='Gwangju', incDec='2532', isolClearCnt='0', isolIngCnt='0', localOccCnt='2519', overFlowCnt='13', qurRate='49604', stdDay='2022-09-14'), Row(deathCnt='830', defCnt='755791', gubun='충북', gubunCn='忠北', gubunEn='Chungcheongbuk-do', incDec='3166', isolClearCnt='0', isolIngCnt='0', localOccCnt='3143', overFlowCnt='23', qurRate='47313', stdDay='2022-09-14'), Row(deathCnt='2406', defCnt='1446689', gubun='부산', gubunCn='釜山', gubunEn='Busan', incDec='4982', isolClearCnt='0', isolIngCnt='0', localOccCnt='4975', overFlowCnt='7', qurRate='43180', stdDay='2022-09-14'), Row(deathCnt='655', defCnt='806148', gubun='전남', gubunCn='全南', gubunEn='Jeollanam-do', incDec='2744', isolClearCnt='0', isolIngCnt='0', localOccCnt='2739', overFlowCnt='5', qurRate='43984', stdDay='2022-09-14'), Row(deathCnt='775', defCnt='701532', gubun='대전', gubunCn='大田', gubunEn='Daejeon', incDec='3075', isolClearCnt='0', isolIngCnt='0', localOccCnt='3047', overFlowCnt='28', qurRate='48307', stdDay='2022-09-14'), Row(deathCnt='655', defCnt='806148', gubun='전남', gubunCn='全南', gubunEn='Jeollanam-do', incDec='2744', isolClearCnt='0', isolIngCnt='0', localOccCnt='2739', overFlowCnt='5', qurRate='43984', stdDay='2022-09-14'), Row(deathCnt='5368', defCnt='4723634', gubun='서울', gubunCn='首尔', gubunEn='Seoul', incDec='17384', isolClearCnt='0', isolIngCnt='0', localOccCnt='17368', overFlowCnt='16', qurRate='49673', stdDay='2022-09-14'), Row(deathCnt='830', defCnt='755791', gubun='충북', gubunCn='忠北', gubunEn='Chungcheongbuk-do', incDec='3166', isolClearCnt='0', isolIngCnt='0', localOccCnt='3143', overFlowCnt='23', qurRate='47313', stdDay='2022-09-14'), Row(deathCnt='775', defCnt='701532', gubun='대전', gubunCn='大田', gubunEn='Daejeon', incDec='3075', isolClearCnt='0', isolIngCnt='0', localOccCnt='3047', overFlowCnt='28', qurRate='48307', stdDay='2022-09-14'), Row(deathCnt='1502', defCnt='1392441', gubun='인천', gubunCn='仁川', gubunEn='Incheon', incDec='5548', isolClearCnt='0', isolIngCnt='0', localOccCnt='5476', overFlowCnt='72', qurRate='47227', stdDay='2022-09-14'), Row(deathCnt='16', defCnt='13194', gubun='검역', gubunCn='隔離區', gubunEn='Lazaretto', incDec='19', isolClearCnt='0', isolIngCnt='0', localOccCnt='0', overFlowCnt='19', qurRate='-', stdDay='2022-09-14'), Row(deathCnt='775', defCnt='701532', gubun='대전', gubunCn='大田', gubunEn='Daejeon', incDec='3075', isolClearCnt='0', isolIngCnt='0', localOccCnt='3047', overFlowCnt='28', qurRate='48307', stdDay='2022-09-14'), Row(deathCnt='216', defCnt='329390', gubun='제주', gubunCn='济州', gubunEn='Jeju', incDec='470', isolClearCnt='0', isolIngCnt='0', localOccCnt='466', overFlowCnt='4', qurRate='48672', stdDay='2022-09-14'), Row(deathCnt='1465', defCnt='1461477', gubun='경남', gubunCn='庆南', gubunEn='Gyeongsangnam-do', incDec='5884', isolClearCnt='0', isolIngCnt='0', localOccCnt='5867', overFlowCnt='17', qurRate='44098', stdDay='2022-09-14'), Row(deathCnt='43', defCnt='189344', gubun='세종', gubunCn='世宗', gubunEn='Sejong', incDec='844', isolClearCnt='0', isolIngCnt='0', localOccCnt='838', overFlowCnt='6', qurRate='50913', stdDay='2022-09-14'), Row(deathCnt='1605', defCnt='1089380', gubun='경북', gubunCn='庆北', gubunEn='Gyeongsangbuk-do', incDec='4329', isolClearCnt='0', isolIngCnt='0', localOccCnt='4306', overFlowCnt='23', qurRate='41475', stdDay='2022-09-14'), Row(deathCnt='216', defCnt='329390', gubun='제주', gubunCn='济州', gubunEn='Jeju', incDec='470', isolClearCnt='0', isolIngCnt='0', localOccCnt='466', overFlowCnt='4', qurRate='48672', stdDay='2022-09-14'), Row(deathCnt='5368', defCnt='4723634', gubun='서울', gubunCn='首尔', gubunEn='Seoul', incDec='17384', isolClearCnt='0', isolIngCnt='0', localOccCnt='17368', overFlowCnt='16', qurRate='49673', stdDay='2022-09-14'), Row(deathCnt='967', defCnt='820183', gubun='전북', gubunCn='全北', gubunEn='Jeollabuk-do', incDec='3232', isolClearCnt='0', isolIngCnt='0', localOccCnt='3218', overFlowCnt='14', qurRate='45901', stdDay='2022-09-14'), Row(deathCnt='27593', defCnt='24193038', gubun='합계', gubunCn='合计', gubunEn='Total', incDec='93981', isolClearCnt='0', isolIngCnt='0', localOccCnt='93667', overFlowCnt='314', qurRate='46850', stdDay='2022-09-14'), Row(deathCnt='967', defCnt='820183', gubun='전북', gubunCn='全北', gubunEn='Jeollabuk-do', incDec='3232', isolClearCnt='0', isolIngCnt='0', localOccCnt='3218', overFlowCnt='14', qurRate='45901', stdDay='2022-09-14'), Row(deathCnt='5368', defCnt='4723634', gubun='서울', gubunCn='首尔', gubunEn='Seoul', incDec='17384', isolClearCnt='0', isolIngCnt='0', localOccCnt='17368', overFlowCnt='16', qurRate='49673', stdDay='2022-09-14'), Row(deathCnt='216', defCnt='329390', gubun='제주', gubunCn='济州', gubunEn='Jeju', incDec='470', isolClearCnt='0', isolIngCnt='0', localOccCnt='466', overFlowCnt='4', qurRate='48672', stdDay='2022-09-14'), Row(deathCnt='1017', defCnt='707376', gubun='강원', gubunCn='江原', gubunEn='Gangwon-do', incDec='2917', isolClearCnt='0', isolIngCnt='0', localOccCnt='2916', overFlowCnt='1', qurRate='45979', stdDay='2022-09-14'), Row(deathCnt='1502', defCnt='1392441', gubun='인천', gubunCn='仁川', gubunEn='Incheon', incDec='5548', isolClearCnt='0', isolIngCnt='0', localOccCnt='5476', overFlowCnt='72', qurRate='47227', stdDay='2022-09-14'), Row(deathCnt='1465', defCnt='1461477', gubun='경남', gubunCn='庆南', gubunEn='Gyeongsangnam-do', incDec='5884', isolClearCnt='0', isolIngCnt='0', localOccCnt='5867', overFlowCnt='17', qurRate='44098', stdDay='2022-09-14'), Row(deathCnt='2406', defCnt='1446689', gubun='부산', gubunCn='釜山', gubunEn='Busan', incDec='4982', isolClearCnt='0', isolIngCnt='0', localOccCnt='4975', overFlowCnt='7', qurRate='43180', stdDay='2022-09-14'), Row(deathCnt='27593', defCnt='24193038', gubun='합계', gubunCn='合计', gubunEn='Total', incDec='93981', isolClearCnt='0', isolIngCnt='0', localOccCnt='93667', overFlowCnt='314', qurRate='46850', stdDay='2022-09-14'), Row(deathCnt='830', defCnt='755791', gubun='충북', gubunCn='忠北', gubunEn='Chungcheongbuk-do', incDec='3166', isolClearCnt='0', isolIngCnt='0', localOccCnt='3143', overFlowCnt='23', qurRate='47313', stdDay='2022-09-14'), Row(deathCnt='1579', defCnt='1048878', gubun='대구', gubunCn='大邱', gubunEn='Daegu', incDec='5360', isolClearCnt='0', isolIngCnt='0', localOccCnt='5351', overFlowCnt='9', qurRate='43971', stdDay='2022-09-14'), Row(deathCnt='1017', defCnt='707376', gubun='강원', gubunCn='江原', gubunEn='Gangwon-do', incDec='2917', isolClearCnt='0', isolIngCnt='0', localOccCnt='2916', overFlowCnt='1', qurRate='45979', stdDay='2022-09-14'), Row(deathCnt='775', defCnt='701532', gubun='대전', gubunCn='大田', gubunEn='Daejeon', incDec='3075', isolClearCnt='0', isolIngCnt='0', localOccCnt='3047', overFlowCnt='28', qurRate='48307', stdDay='2022-09-14')])"
      ]
     },
     "execution_count": 8,
     "metadata": {},
     "output_type": "execute_result"
    }
   ],
   "source": [
    "# 지역명과, 10만명 당 감염 현황\n",
    "tmp = tmp.select('items').first()\n",
    "tmp"
   ]
  },
  {
   "cell_type": "code",
   "execution_count": 11,
   "metadata": {},
   "outputs": [
    {
     "name": "stderr",
     "output_type": "stream",
     "text": [
      "[Stage 18:>                                                         (0 + 1) / 1]\r"
     ]
    },
    {
     "name": "stdout",
     "output_type": "stream",
     "text": [
      "+----+-------------+-------+\n",
      "| loc|poppu_density|qurRate|\n",
      "+----+-------------+-------+\n",
      "|강원|           93|  45979|\n",
      "|경기|         1366|  47883|\n",
      "|경남|          321|  44098|\n",
      "|경북|          141|  41475|\n",
      "|광주|         2920|  49604|\n",
      "|대구|         2733|  43971|\n",
      "|대전|         2722|  48307|\n",
      "|부산|         4411|  43180|\n",
      "|서울|        16093|  49673|\n",
      "|세종|          811|  50913|\n",
      "|울산|         1072|  46618|\n",
      "|인천|         2831|  47227|\n",
      "|전남|          152|  43984|\n",
      "|전북|          226|  45901|\n",
      "|제주|          378|  48672|\n",
      "|충남|          265|  45963|\n",
      "|충북|          221|  47313|\n",
      "+----+-------------+-------+\n",
      "\n"
     ]
    },
    {
     "name": "stderr",
     "output_type": "stream",
     "text": [
      "\r",
      "                                                                                \r"
     ]
    }
   ],
   "source": [
    "co_patient = spark.createDataFrame(tmp['items'])\n",
    "# co_patient.show(3)\n",
    "\n",
    "tmp3 = co_patient.select(co_patient.gubun.alias('loc'), co_patient.qurRate)\n",
    "# tmp3.show(3)\n",
    "\n",
    "co_rate = area_poppu.join(tmp3, on='loc').distinct().orderBy(col('loc'))\n",
    "co_rate.show()"
   ]
  },
  {
   "cell_type": "code",
   "execution_count": 14,
   "metadata": {},
   "outputs": [
    {
     "data": {
      "text/plain": [
       "<AxesSubplot:xlabel='poppu_density', ylabel='qurRate'>"
      ]
     },
     "execution_count": 14,
     "metadata": {},
     "output_type": "execute_result"
    },
    {
     "data": {
      "image/png": "[encoded data removed]",
      "text/plain": [
       "<Figure size 600x600 with 1 Axes>"
      ]
     },
     "metadata": {},
     "output_type": "display_data"
    }
   ],
   "source": [
    "pd_co = co_rate.toPandas()\n",
    "\n",
    "pd_co['qurRate'] = pd_co['qurRate'].astype(int)\n",
    "pd_co.plot(kind='scatter'\n",
    "           ,x='poppu_density'\n",
    "           ,y='qurRate'\n",
    "           ,ylim=(30000,50000)\n",
    "           ,figsize=(6, 6)\n",
    "          )\n",
    "# 전혀 상관관계 없음"
   ]
  },
  {
   "cell_type": "markdown",
   "metadata": {},
   "source": [
    "### 2.  4차 예방접종 완료자와 코로나 확진자 수의 상관관계를 구해보자"
   ]
  },
  {
   "cell_type": "code",
   "execution_count": 11,
   "metadata": {},
   "outputs": [
    {
     "data": {
      "text/plain": [
       "DataFrame[loc: string, total: string, male: string, female: string]"
      ]
     },
     "execution_count": 11,
     "metadata": {},
     "output_type": "execute_result"
    }
   ],
   "source": [
    "poppu"
   ]
  },
  {
   "cell_type": "code",
   "execution_count": 15,
   "metadata": {},
   "outputs": [
    {
     "name": "stderr",
     "output_type": "stream",
     "text": [
      "\r",
      "[Stage 30:>                                                         (0 + 1) / 1]\r",
      "\r",
      "                                                                                \r"
     ]
    },
    {
     "name": "stdout",
     "output_type": "stream",
     "text": [
      "+----+--------+--------+-------+-------+\n",
      "| loc|      v1|      v2|     v3|     v4|\n",
      "+----+--------+--------+-------+-------+\n",
      "|서울| 8340502| 8261480|6057684|1226070|\n",
      "|부산| 2879898| 2850966|2134635| 488630|\n",
      "|대구| 2019295| 1996343|1402649| 259429|\n",
      "|인천| 2570641| 2546081|1907586| 394343|\n",
      "|광주| 1262690| 1251019| 968067| 233610|\n",
      "|대전| 1246228| 1233946| 907587| 193191|\n",
      "|울산|  968595|  959237| 719491| 124886|\n",
      "|세종|  298593|  294823| 209151|  34585|\n",
      "|경기|11827822|11711865|8677235|1680362|\n",
      "|강원| 1350315| 1338931|1062086| 269222|\n",
      "|충북| 1429582| 1416910|1105875| 277332|\n",
      "|충남| 1899475| 1881779|1475491| 365655|\n",
      "|전북| 1593746| 1580541|1284133| 370187|\n",
      "|전남| 1654751| 1640068|1363212| 444061|\n",
      "|경북| 2293357| 2269405|1724517| 394769|\n",
      "|경남| 2883515| 2854106|2142110| 483703|\n",
      "|제주|  590581|  584814| 437805|  92009|\n",
      "+----+--------+--------+-------+-------+\n",
      "\n",
      "+----+------+\n",
      "| loc|v_rate|\n",
      "+----+------+\n",
      "|서울|    13|\n",
      "|부산|    15|\n",
      "|대구|    11|\n",
      "|인천|    14|\n",
      "|광주|    16|\n",
      "|대전|    14|\n",
      "|울산|    11|\n",
      "|세종|    10|\n",
      "|경기|    13|\n",
      "|강원|    18|\n",
      "|충북|    17|\n",
      "|충남|    17|\n",
      "|전북|    21|\n",
      "|전남|    24|\n",
      "|경북|    15|\n",
      "|경남|    15|\n",
      "|제주|    14|\n",
      "+----+------+\n",
      "\n"
     ]
    }
   ],
   "source": [
    "file_name = '/corona_data/vaccine/corona_vaccine_' + cal_std_day(1) + '.json'\n",
    "vaccine = spark.read.json(file_name)\n",
    "# vaccine.show(3)\n",
    "\n",
    "# vaccine.select('data').first()\n",
    "vaccine_df = spark.createDataFrame(vaccine.select('data').first()['data'])\n",
    "vaccine_df.show()\n",
    "\n",
    "# 숫자는 스파크에서 자동 캐스팅 해줌!!\n",
    "# 기존에는 ,가 들어있어서 string으로 인지하고 캐스팅 안해줌\n",
    "# 그래서 ,뺀 값으로 다시 저장\n",
    "pop_vaccine = vaccine_df.join(poppu, on='loc') \\\n",
    "            .select('loc',ceil(vaccine_df.v4 / col('total') * 100) \\\n",
    "            .alias('v_rate'))\n",
    "pop_vaccine.show()"
   ]
  },
  {
   "cell_type": "code",
   "execution_count": 19,
   "metadata": {},
   "outputs": [
    {
     "name": "stderr",
     "output_type": "stream",
     "text": [
      "[Stage 56:>                                                         (0 + 1) / 1]\r"
     ]
    },
    {
     "name": "stdout",
     "output_type": "stream",
     "text": [
      "+----+------+-------+\n",
      "| loc|v_rate|qurRate|\n",
      "+----+------+-------+\n",
      "|강원|    18|  45979|\n",
      "|경기|    13|  47883|\n",
      "|경남|    15|  44098|\n",
      "|경북|    15|  41475|\n",
      "|광주|    16|  49604|\n",
      "|대구|    11|  43971|\n",
      "|대전|    14|  48307|\n",
      "|부산|    15|  43180|\n",
      "|서울|    13|  49673|\n",
      "|세종|    10|  50913|\n",
      "|울산|    11|  46618|\n",
      "|인천|    14|  47227|\n",
      "|전남|    24|  43984|\n",
      "|전북|    21|  45901|\n",
      "|제주|    14|  48672|\n",
      "|충남|    17|  45963|\n",
      "|충북|    17|  47313|\n",
      "+----+------+-------+\n",
      "\n"
     ]
    },
    {
     "name": "stderr",
     "output_type": "stream",
     "text": [
      "\r",
      "                                                                                \r"
     ]
    }
   ],
   "source": [
    "tmp3 = co_patient.select(co_patient.gubun.alias('loc'), co_patient.qurRate)\n",
    "co_vaccine_df = pop_vaccine.join(tmp3, on='loc')\n",
    "co_vaccine_df = co_vaccine_df.select('loc','v_rate','qurRate').distinct()\n",
    "co_vaccine_df.show()"
   ]
  },
  {
   "cell_type": "code",
   "execution_count": 20,
   "metadata": {},
   "outputs": [
    {
     "name": "stderr",
     "output_type": "stream",
     "text": [
      "                                                                                \r"
     ]
    },
    {
     "data": {
      "text/plain": [
       "<AxesSubplot:xlabel='v_rate', ylabel='qurRate'>"
      ]
     },
     "execution_count": 20,
     "metadata": {},
     "output_type": "execute_result"
    },
    {
     "name": "stderr",
     "output_type": "stream",
     "text": [
      "findfont: Font family ['NanumGothic'] not found. Falling back to DejaVu Sans.\n"
     ]
    },
    {
     "data": {
      "image/png": "[encoded data removed]",
      "text/plain": [
       "<Figure size 700x700 with 1 Axes>"
      ]
     },
     "metadata": {},
     "output_type": "display_data"
    }
   ],
   "source": [
    "pd_vac = co_vaccine_df.toPandas()\n",
    "\n",
    "pd_vac['qurRate'] = pd_vac['qurRate'].astype(int)\n",
    "pd_vac.plot(kind='scatter'\n",
    "           ,x='v_rate'\n",
    "           ,y='qurRate'\n",
    "           ,figsize=(7, 7)\n",
    "          )"
   ]
  },
  {
   "cell_type": "markdown",
   "metadata": {},
   "source": [
    "### 3. 다중이용시설과 코로나 확진자 수의 상관관계"
   ]
  },
  {
   "cell_type": "code",
   "execution_count": 25,
   "metadata": {
    "scrolled": true
   },
   "outputs": [
    {
     "name": "stderr",
     "output_type": "stream",
     "text": [
      "\r",
      "[Stage 52:>                                                         (0 + 1) / 1]\r",
      "\r",
      "                                                                                \r"
     ]
    },
    {
     "name": "stdout",
     "output_type": "stream",
     "text": [
      "+----+----+------+------------------+--------------+----------------+\n",
      "|연도|광역|시군구|            시설명|사업자등록번호|          시설군|\n",
      "+----+----+------+------------------+--------------+----------------+\n",
      "|2020|강원|강릉시|  (주)경포솔향온천|  127-86-57613|          목욕장|\n",
      "|2020|강원|강릉시|    24시황실사우나|  226-33-03247|          목욕장|\n",
      "|2020|강원|강릉시|      강릉고려병원|  226-82-03662|        의료기관|\n",
      "|2020|강원|강릉시|강릉고속버스터미널|  219-81-01636|여객자동차터미널|\n",
      "|2020|강원|강릉시|    강릉교육문화관|  226-83-03107|          도서관|\n",
      "+----+----+------+------------------+--------------+----------------+\n",
      "only showing top 5 rows\n",
      "\n",
      "+----+----+------+---------------------+--------------+----------------+\n",
      "|연도|광역|시군구|               시설명|사업자등록번호|          시설군|\n",
      "+----+----+------+---------------------+--------------+----------------+\n",
      "|2020|강원|강릉시|     (주)경포솔향온천|  127-86-57613|          목욕장|\n",
      "|2020|강원|강릉시|       24시황실사우나|  226-33-03247|          목욕장|\n",
      "|2020|강원|강릉시|         강릉고려병원|  226-82-03662|        의료기관|\n",
      "|2020|강원|강릉시|   강릉고속버스터미널|  219-81-01636|여객자동차터미널|\n",
      "|2020|강원|강릉시|       강릉교육문화관|  226-83-03107|          도서관|\n",
      "|2020|강원|강릉시|         강릉동인병원|  226-82-01835|        의료기관|\n",
      "|2020|강원|강릉시|         강릉동인병원|  226-82-01835|        장례식장|\n",
      "|2020|강원|강릉시|강릉동인병원 장례식장|  226-90-93776|        장례식장|\n",
      "|2020|강원|강릉시|   강릉빛나라어린이집|  226-82-12841|        어린이집|\n",
      "|2020|강원|강릉시|     강릉삼성어린이집|  226-80-04288|        어린이집|\n",
      "|2020|강원|강릉시|          강릉시 기관|  226-83-00245|          도서관|\n",
      "|2020|강원|강릉시|          강릉시 기관|  226-83-00245|        어린이집|\n",
      "|2020|강원|강릉시|          강릉시 기관|  226-83-00245|          박물관|\n",
      "|2020|강원|강릉시|         강릉시보건소|  226-83-00264|        의료기관|\n",
      "|2020|강원|강릉시|   강릉시외버스터미널|  226-81-00066|여객자동차터미널|\n",
      "|2020|강원|강릉시|         강릉아나병원|  226-82-12614|        의료기관|\n",
      "|2020|강원|강릉시|         강릉아산병원|  226-82-04297|        의료기관|\n",
      "|2020|강원|강릉시|         강릉아산병원|  226-82-04297|        장례식장|\n",
      "|2020|강원|강릉시|         강릉어린이집|  226-82-02246|        어린이집|\n",
      "|2020|강원|강릉시|     강릉연세요양병원|  226-90-52421|        의료기관|\n",
      "+----+----+------+---------------------+--------------+----------------+\n",
      "only showing top 20 rows\n",
      "\n"
     ]
    }
   ],
   "source": [
    "fac = spark.read.csv('/corona_data/loc/전국다중이용시설.csv', encoding='CP949', header=True)\n",
    "fac.show(5)\n",
    "        \n",
    "# fac = fac.groupBy('광역').count() \\\n",
    "#             .select(fac.광역.alias(\"loc\"),col('count'))\n",
    "\n",
    "# 강사코드\n",
    "fac_cnt = fac.groupBy(fac.광역.alias('loc')).agg(count('*').alias('fac_cnt'))\n",
    "\n",
    "fac.show()"
   ]
  },
  {
   "cell_type": "code",
   "execution_count": 27,
   "metadata": {},
   "outputs": [
    {
     "name": "stderr",
     "output_type": "stream",
     "text": [
      "[Stage 58:>                                                         (0 + 1) / 1]\r"
     ]
    },
    {
     "name": "stdout",
     "output_type": "stream",
     "text": [
      "+----+--------+-------+\n",
      "| loc|fac_popu|qurRate|\n",
      "+----+--------+-------+\n",
      "|경북|      36|  41475|\n",
      "|대전|      53|  48307|\n",
      "|전북|      42|  45901|\n",
      "|충북|      38|  47313|\n",
      "|울산|      38|  46618|\n",
      "|경남|      41|  44098|\n",
      "|제주|      45|  48672|\n",
      "|충남|      38|  45963|\n",
      "|전남|      45|  43984|\n",
      "|인천|      46|  47227|\n",
      "|부산|      44|  43180|\n",
      "|대구|      43|  43971|\n",
      "|경기|      46|  47883|\n",
      "|서울|      54|  49673|\n",
      "|광주|      51|  49604|\n",
      "|세종|      65|  50913|\n",
      "|강원|      38|  45979|\n",
      "+----+--------+-------+\n",
      "\n"
     ]
    },
    {
     "name": "stderr",
     "output_type": "stream",
     "text": [
      "\r",
      "[Stage 64:>                                                         (0 + 1) / 1]\r",
      "\r",
      "                                                                                \r"
     ]
    }
   ],
   "source": [
    "tmp = poppu.join(fac_cnt, on='loc')\n",
    "# 다중이용시설을 전체 인원수로 나눈다음 (1인기준 다중이용시설) * 100000 => 10만명 기준 다중이용시설!\n",
    "fac_poppu = tmp.select('loc', ceil(tmp.fac_cnt/tmp.total*100000).alias('fac_popu'))\n",
    "tmp3 = co_patient.select(co_patient.gubun.alias('loc'), co_patient.qurRate).distinct()\n",
    "fac_rate = fac_poppu.join(tmp3,on='loc')\n",
    "fac_rate.show()"
   ]
  },
  {
   "cell_type": "code",
   "execution_count": 29,
   "metadata": {},
   "outputs": [
    {
     "data": {
      "text/plain": [
       "<AxesSubplot:xlabel='fac_popu', ylabel='qurRate'>"
      ]
     },
     "execution_count": 29,
     "metadata": {},
     "output_type": "execute_result"
    },
    {
     "name": "stderr",
     "output_type": "stream",
     "text": [
      "findfont: Font family ['NanumGothic'] not found. Falling back to DejaVu Sans.\n"
     ]
    },
    {
     "data": {
      "image/png": "[encoded data removed]",
      "text/plain": [
       "<Figure size 600x600 with 1 Axes>"
      ]
     },
     "metadata": {},
     "output_type": "display_data"
    }
   ],
   "source": [
    "pd_fac = fac_rate.toPandas()\n",
    "\n",
    "pd_fac['qurRate'] = pd_fac['qurRate'].astype(int)\n",
    "pd_fac.plot(kind='scatter'\n",
    "           ,x='fac_popu'\n",
    "           ,y='qurRate'\n",
    "           ,ylim=(40000,55000)\n",
    "           ,figsize=(6, 6) \n",
    "          )\n"
   ]
  },
  {
   "cell_type": "markdown",
   "metadata": {},
   "source": [
    "### 4. 요일별 코로나 확진자 수를 구해보자"
   ]
  },
  {
   "cell_type": "code",
   "execution_count": 4,
   "metadata": {
    "scrolled": true
   },
   "outputs": [
    {
     "name": "stderr",
     "output_type": "stream",
     "text": [
      "                                                                                \r"
     ]
    }
   ],
   "source": [
    "file_name = '/corona_data/patient/'\n",
    "tmp = spark.read.json(file_name, encoding='UTF-8')"
   ]
  },
  {
   "cell_type": "code",
   "execution_count": 5,
   "metadata": {},
   "outputs": [
    {
     "name": "stderr",
     "output_type": "stream",
     "text": [
      "                                                                                \r"
     ]
    },
    {
     "name": "stdout",
     "output_type": "stream",
     "text": [
      "+----------------------+\n",
      "|                 items|\n",
      "+----------------------+\n",
      "|[{16, 12659, 검역, ...|\n",
      "|  [{1465, 1461477, ...|\n",
      "|[{16, 12440, 검역, ...|\n",
      "| [{1043, 868166, 충...|\n",
      "|  [{1429, 1214957, ...|\n",
      "|[{528, 687990, 전남...|\n",
      "|  [{26161, 22449475...|\n",
      "|  [{25441, 20983169...|\n",
      "| [{1376, 847452, 대...|\n",
      "|[{520, 666170, 전남...|\n",
      "|  [{5077, 4264423, ...|\n",
      "|  [{6778, 6219245, ...|\n",
      "|  [{2268, 1266446, ...|\n",
      "| [{1475, 996824, 대...|\n",
      "|  [{2249, 1204102, ...|\n",
      "|[{755, 648957, 대전...|\n",
      "|  [{1427, 1196686, ...|\n",
      "| [{1492, 940948, 경...|\n",
      "|  [{5129, 4387478, ...|\n",
      "|  [{4954, 3929537, ...|\n",
      "+----------------------+\n",
      "only showing top 20 rows\n",
      "\n"
     ]
    }
   ],
   "source": [
    "tmp.select(tmp.items).show()"
   ]
  },
  {
   "cell_type": "code",
   "execution_count": 6,
   "metadata": {
    "scrolled": false
   },
   "outputs": [
    {
     "name": "stderr",
     "output_type": "stream",
     "text": [
      "[Stage 4:>                                                          (0 + 1) / 1]\r"
     ]
    }
   ],
   "source": [
    "data = []\n",
    "for r1 in tmp.select(tmp.items).toLocalIterator():\n",
    "#     print(r1)\n",
    "    if not r1.items:\n",
    "        continue\n",
    "    for r2 in r1.items:\n",
    "#         print(r2)\n",
    "        data.append(r2)\n",
    "\n",
    "patient_data = spark.createDataFrame(data)"
   ]
  },
  {
   "cell_type": "code",
   "execution_count": 7,
   "metadata": {},
   "outputs": [
    {
     "name": "stderr",
     "output_type": "stream",
     "text": [
      "[Stage 7:>                                                          (0 + 1) / 1]\r"
     ]
    },
    {
     "name": "stdout",
     "output_type": "stream",
     "text": [
      "+-----------+---------+\n",
      "|day_of_week|  patient|\n",
      "+-----------+---------+\n",
      "|          1|2259188.0|\n",
      "|          2|1344660.0|\n",
      "|          3|2618348.0|\n",
      "+-----------+---------+\n",
      "only showing top 3 rows\n",
      "\n"
     ]
    },
    {
     "name": "stderr",
     "output_type": "stream",
     "text": [
      "\r",
      "                                                                                \r"
     ]
    }
   ],
   "source": [
    "p = patient_data.withColumn('day_of_week',dayofweek(col('stdDay')))\n",
    "\n",
    "# localOccCnt : 당일 발생한 코로나확진자 수 - 해외유입수\n",
    "p = p.groupBy(p.day_of_week).agg(sum(col('localOccCnt')).alias('patient')).sort(col('day_of_week'))\n",
    "p.show(3)"
   ]
  },
  {
   "cell_type": "code",
   "execution_count": 8,
   "metadata": {},
   "outputs": [
    {
     "name": "stderr",
     "output_type": "stream",
     "text": [
      "                                                                                \r"
     ]
    },
    {
     "data": {
      "text/plain": [
       "<AxesSubplot:>"
      ]
     },
     "execution_count": 8,
     "metadata": {},
     "output_type": "execute_result"
    },
    {
     "data": {
      "image/png": "[encoded data removed]",
      "text/plain": [
       "<Figure size 600x600 with 1 Axes>"
      ]
     },
     "metadata": {},
     "output_type": "display_data"
    }
   ],
   "source": [
    "pd_week = p.toPandas()\n",
    "pd_week.plot(kind='bar', figsize=(6, 6))"
   ]
  },
  {
   "cell_type": "code",
   "execution_count": null,
   "metadata": {},
   "outputs": [],
   "source": []
  }
 ],
 "metadata": {
  "kernelspec": {
   "display_name": "Python 3 (ipykernel)",
   "language": "python",
   "name": "python3"
  },
  "language_info": {
   "codemirror_mode": {
    "name": "ipython",
    "version": 3
   },
   "file_extension": ".py",
   "mimetype": "text/x-python",
   "name": "python",
   "nbconvert_exporter": "python",
   "pygments_lexer": "ipython3",
   "version": "3.8.10"
  }
 },
 "nbformat": 4,
 "nbformat_minor": 5
}
