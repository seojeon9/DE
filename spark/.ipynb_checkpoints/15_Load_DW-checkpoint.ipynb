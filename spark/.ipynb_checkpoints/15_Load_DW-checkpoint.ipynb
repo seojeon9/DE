{
 "cells": [
  {
   "cell_type": "code",
   "execution_count": 1,
   "metadata": {},
   "outputs": [],
   "source": [
    "from IPython.core.interactiveshell import InteractiveShell\n",
    "InteractiveShell.ast_node_interactivity = \"all\""
   ]
  },
  {
   "cell_type": "code",
   "execution_count": 1,
   "metadata": {},
   "outputs": [],
   "source": [
    "# matplotlib 한글 꺠짐 방지\n",
    "# apt-get update\n",
    "# apt-get install fonts-nanum* \n",
    "# apt-get install fontconfig\n",
    "# fc-cache -fv  # font 캐시 날리기\n",
    "# rm -rf /home/hy1/.cache/matplotlib/  #matplotliob 폰트 캐시 날리기\n",
    "\n"
   ]
  },
  {
   "cell_type": "code",
   "execution_count": 2,
   "metadata": {},
   "outputs": [],
   "source": [
    "from datetime import date, datetime\n",
    "from pyspark.sql.types import *\n",
    "from pyspark.sql.functions import *\n",
    "from pyspark.sql import *\n",
    "import datetime as dt\n",
    "import pandas as pd\n",
    "import matplotlib.pyplot as plt #그래프 패키지 모듈 등록\n",
    "%matplotlib inline \n"
   ]
  },
  {
   "cell_type": "code",
   "execution_count": 3,
   "metadata": {},
   "outputs": [],
   "source": [
    "def cal_std_day(befor_day):   \n",
    "    x = dt.datetime.now() - dt.timedelta(befor_day)\n",
    "    year = x.year\n",
    "    month = x.month if x.month >= 10 else '0'+ str(x.month)\n",
    "    day = x.day if x.day >= 10 else '0'+ str(x.day)  \n",
    "    return str(year)+ '-' +str(month)+ '-' +str(day)"
   ]
  },
  {
   "cell_type": "code",
   "execution_count": 4,
   "metadata": {},
   "outputs": [],
   "source": [
    "import platform\n",
    "\n",
    "from matplotlib import font_manager, rc\n",
    "plt.rcParams['axes.unicode_minus'] = False\n",
    "\n",
    "if platform.system() == 'Darwin':  # 맥OS \n",
    "    rc('font', family='AppleGothic')\n",
    "elif platform.system() == 'Windows':  # 윈도우\n",
    "    path = \"c:/Windows/Fonts/malgun.ttf\"\n",
    "    font_name = font_manager.FontProperties(fname=path).get_name()\n",
    "    rc('font', family=font_name)\n",
    "else:\n",
    "    rc('font', family='NanumGothic')"
   ]
  },
  {
   "cell_type": "markdown",
   "metadata": {},
   "source": [
    "## Load - DataWareHouse"
   ]
  },
  {
   "cell_type": "markdown",
   "metadata": {},
   "source": [
    "## JDBC DICT"
   ]
  },
  {
   "cell_type": "code",
   "execution_count": 12,
   "metadata": {},
   "outputs": [],
   "source": [
    "JDBC = {\n",
    "    'url':'jdbc:oracle:thin:@decorona_high?TNS_ADMIN=/home/big/study/db/Wallet_DECORONA',\n",
    "    'props':{\n",
    "        'user':'dw_admin',\n",
    "        'password':'123qwe!@#QWE'\n",
    "    }\n",
    "}"
   ]
  },
  {
   "cell_type": "markdown",
   "metadata": {},
   "source": [
    "### 1. LOC 테이블 저장"
   ]
  },
  {
   "cell_type": "code",
   "execution_count": 7,
   "metadata": {},
   "outputs": [
    {
     "name": "stderr",
     "output_type": "stream",
     "text": [
      "                                                                                \r"
     ]
    }
   ],
   "source": [
    "area = spark.read.csv('/corona_data/loc/sido_area.csv', encoding='CP949', header=True)\n",
    "popu = spark.read.csv('/corona_data/loc/sido_population.csv', encoding='CP949', header=True)\n"
   ]
  },
  {
   "cell_type": "code",
   "execution_count": 7,
   "metadata": {},
   "outputs": [
    {
     "name": "stderr",
     "output_type": "stream",
     "text": [
      "                                                                                \r"
     ]
    }
   ],
   "source": [
    "# loc 데이터 저장\n",
    "area_pop = area.join(popu, on='loc')\n",
    "area_pop = area_pop.select(col('loc').alias('LOC')\n",
    "                            ,col('area').alias('AREA')\n",
    "                            ,col('total').alias('POPULATION'))\n",
    "area_pop.write.jdbc(url=JDBC['url'], table='LOC', mode='append', properties=JDBC['props'])"
   ]
  },
  {
   "cell_type": "markdown",
   "metadata": {},
   "source": [
    "### 2. CORONA_PATIENT 테이블 저장"
   ]
  },
  {
   "cell_type": "code",
   "execution_count": 10,
   "metadata": {},
   "outputs": [
    {
     "name": "stderr",
     "output_type": "stream",
     "text": [
      "[Stage 5:>                                                          (0 + 1) / 1]\r"
     ]
    },
    {
     "name": "stdout",
     "output_type": "stream",
     "text": [
      "+----------------------+---------+------+----------+--------------+----------+\n",
      "|                 items|numOfRows|pageNo|resultCode|     resultMsg|totalCount|\n",
      "+----------------------+---------+------+----------+--------------+----------+\n",
      "|[{16, 12659, 검역, ...|      500|     1|        00|NORMAL SERVICE|     19684|\n",
      "|  [{1465, 1461477, ...|      500|     1|        00|NORMAL SERVICE|     19684|\n",
      "|[{16, 12440, 검역, ...|      500|     1|        00|NORMAL SERVICE|     19684|\n",
      "| [{1043, 868166, 충...|      500|     1|        00|NORMAL SERVICE|     19684|\n",
      "|  [{1429, 1214957, ...|      500|     1|        00|NORMAL SERVICE|     19684|\n",
      "|[{528, 687990, 전남...|      500|     1|        00|NORMAL SERVICE|     19684|\n",
      "|  [{26161, 22449475...|      500|     1|        00|NORMAL SERVICE|     19684|\n",
      "|  [{25441, 20983169...|      500|     1|        00|NORMAL SERVICE|     19684|\n",
      "| [{1376, 847452, 대...|      500|     1|        00|NORMAL SERVICE|     19684|\n",
      "|[{520, 666170, 전남...|      500|     1|        00|NORMAL SERVICE|     19684|\n",
      "|  [{5077, 4264423, ...|      500|     1|        00|NORMAL SERVICE|     19684|\n",
      "|  [{6778, 6219245, ...|      500|     1|        00|NORMAL SERVICE|     19684|\n",
      "|  [{2268, 1266446, ...|      500|     1|        00|NORMAL SERVICE|     19684|\n",
      "| [{1475, 996824, 대...|      500|     1|        00|NORMAL SERVICE|     19684|\n",
      "|  [{2249, 1204102, ...|      500|     1|        00|NORMAL SERVICE|     19684|\n",
      "|[{755, 648957, 대전...|      500|     1|        00|NORMAL SERVICE|     19684|\n",
      "|  [{1427, 1196686, ...|      500|     1|        00|NORMAL SERVICE|     19684|\n",
      "| [{1492, 940948, 경...|      500|     1|        00|NORMAL SERVICE|     19684|\n",
      "|  [{5129, 4387478, ...|      500|     1|        00|NORMAL SERVICE|     19684|\n",
      "|  [{4954, 3929537, ...|      500|     1|        00|NORMAL SERVICE|     19684|\n",
      "+----------------------+---------+------+----------+--------------+----------+\n",
      "only showing top 20 rows\n",
      "\n"
     ]
    },
    {
     "name": "stderr",
     "output_type": "stream",
     "text": [
      "\r",
      "                                                                                \r"
     ]
    }
   ],
   "source": [
    "# 코로나 감염자 데이터\n",
    "path = '/corona_data/patient'\n",
    "co_patient_json = spark.read.json(path, encoding='UTF-8')\n",
    "co_patient_json.show()"
   ]
  },
  {
   "cell_type": "code",
   "execution_count": 15,
   "metadata": {},
   "outputs": [
    {
     "name": "stderr",
     "output_type": "stream",
     "text": [
      "                                                                                \r"
     ]
    },
    {
     "name": "stdout",
     "output_type": "stream",
     "text": [
      "+--------+-------+-----+-------+-----------+------+------------+----------+-----------+-----------+-------+----------+\n",
      "|deathCnt| defCnt|gubun|gubunCn|    gubunEn|incDec|isolClearCnt|isolIngCnt|localOccCnt|overFlowCnt|qurRate|    stdDay|\n",
      "+--------+-------+-----+-------+-----------+------+------------+----------+-----------+-----------+-------+----------+\n",
      "|      16|  12659| 검역| 隔離區|  Lazaretto|    17|           0|         0|          0|         17|      -|2022-08-25|\n",
      "|      16|  12659| 검역| 隔離區|  Lazaretto|    17|           0|         0|          0|         17|      -|2022-08-25|\n",
      "|    6715|6109867| 경기|   京畿|Gyeonggi-do| 27032|           0|         0|      27007|         25|  45040|2022-08-25|\n",
      "+--------+-------+-----+-------+-----------+------+------------+----------+-----------+-----------+-------+----------+\n",
      "only showing top 3 rows\n",
      "\n"
     ]
    }
   ],
   "source": [
    "data = []\n",
    "for r1 in co_patient_json.select('items').toLocalIterator():\n",
    "    if not r1.items:\n",
    "        continue\n",
    "    for r2 in r1.items:\n",
    "        data.append(r2)\n",
    "\n",
    "patient_data = spark.createDataFrame(data)\n",
    "patient_data.show(3)"
   ]
  },
  {
   "cell_type": "code",
   "execution_count": 16,
   "metadata": {},
   "outputs": [
    {
     "name": "stdout",
     "output_type": "stream",
     "text": [
      "root\n",
      " |-- LOC: string (nullable = true)\n",
      " |-- DEATH_CNT: string (nullable = true)\n",
      " |-- DEF_CNT: string (nullable = true)\n",
      " |-- LOC_OCC_CNT: string (nullable = true)\n",
      " |-- QUR_RATE: string (nullable = true)\n",
      " |-- STD_DAY: string (nullable = true)\n",
      "\n"
     ]
    }
   ],
   "source": [
    "co_patients = patient_data.select(\n",
    "    patient_data.gubun.alias('LOC')\n",
    "    ,patient_data.deathCnt.alias('DEATH_CNT')\n",
    "     ,patient_data.defCnt.alias('DEF_CNT')\n",
    "     ,patient_data.localOccCnt.alias('LOC_OCC_CNT')\n",
    "     ,patient_data.qurRate.alias('QUR_RATE')\n",
    "     ,patient_data.stdDay.alias('STD_DAY')\n",
    ").where(~(col('LOC').isin(['합계','검역'])) ).distinct()\n",
    "co_patients.printSchema()"
   ]
  },
  {
   "cell_type": "code",
   "execution_count": 17,
   "metadata": {},
   "outputs": [
    {
     "name": "stderr",
     "output_type": "stream",
     "text": [
      "                                                                                \r"
     ]
    }
   ],
   "source": [
    "co_patients.write.jdbc(url=JDBC['url'], table='CORONA_PATIENTS', mode='append', properties=JDBC['props'])"
   ]
  },
  {
   "cell_type": "markdown",
   "metadata": {},
   "source": [
    "### 3.  CORONA_VACCINE 테이블 저장"
   ]
  },
  {
   "cell_type": "code",
   "execution_count": 5,
   "metadata": {},
   "outputs": [
    {
     "name": "stderr",
     "output_type": "stream",
     "text": [
      "[Stage 1:>                                                          (0 + 1) / 1]\r"
     ]
    },
    {
     "name": "stdout",
     "output_type": "stream",
     "text": [
      "+----------------------+-----------------------------+\n",
      "|                  data|                         meta|\n",
      "+----------------------+-----------------------------+\n",
      "|[{서울, 8340502, 82...|{{지역, 1차접종자수, 2차접...|\n",
      "+----------------------+-----------------------------+\n",
      "\n"
     ]
    },
    {
     "name": "stderr",
     "output_type": "stream",
     "text": [
      "\r",
      "                                                                                \r"
     ]
    }
   ],
   "source": [
    "file_name = '/corona_data/vaccine/'\n",
    "vaccine = spark.read.json(file_name, multiLine=True)\n",
    "\n",
    "# vaccine.select(vaccine.data).show()\n",
    "# vaccine.printSchema()\n",
    "vaccine.show()\n"
   ]
  },
  {
   "cell_type": "code",
   "execution_count": 6,
   "metadata": {},
   "outputs": [
    {
     "name": "stderr",
     "output_type": "stream",
     "text": [
      "                                                                                \r"
     ]
    },
    {
     "data": {
      "text/plain": [
       "[Row(meta=Row(cols=Row(loc='지역', v1='1차접종자수', v2='2차접종자수', v3='3차접종자수', v4='4차접종자수'), desc='지역별 코로나 예방접종 인구 현황', std_day='2022-09-15'))]"
      ]
     },
     "execution_count": 6,
     "metadata": {},
     "output_type": "execute_result"
    }
   ],
   "source": [
    "vaccine.select('meta').collect()"
   ]
  },
  {
   "cell_type": "code",
   "execution_count": 13,
   "metadata": {},
   "outputs": [
    {
     "name": "stderr",
     "output_type": "stream",
     "text": [
      "[Stage 7:>                                                          (0 + 1) / 1]\r"
     ]
    },
    {
     "name": "stdout",
     "output_type": "stream",
     "text": [
      "+----+-------+-------+-------+-------+----------+\n",
      "| loc|     v1|     v2|     v3|     v4|   std_day|\n",
      "+----+-------+-------+-------+-------+----------+\n",
      "|서울|8340502|8261480|6057684|1226070|2022-09-15|\n",
      "|부산|2879898|2850966|2134635| 488630|2022-09-15|\n",
      "|대구|2019295|1996343|1402649| 259429|2022-09-15|\n",
      "+----+-------+-------+-------+-------+----------+\n",
      "only showing top 3 rows\n",
      "\n"
     ]
    },
    {
     "name": "stderr",
     "output_type": "stream",
     "text": [
      "\r",
      "                                                                                \r"
     ]
    }
   ],
   "source": [
    "data = []\n",
    "for r1 in vaccine.select(vaccine.data, vaccine.meta.std_day).toLocalIterator():\n",
    "    for r2 in r1.data:\n",
    "        # row 객체를 만들기 위해 dict 생성\n",
    "        # ** 파이썬 압축해제 키워드 \n",
    "        # **kwargs   => 여러 쌍의 키워드 args 가 넘어오면 받아서 dictionary로 반환\n",
    "        # fnc(**dict) => dict에 있는 key-value 값들이 여러쌍의 kwargs  형태로 함수에 전달\n",
    "        temp = r2.asDict()\n",
    "        temp['std_day'] = r1['meta.std_day']\n",
    "        data.append(Row(**temp))\n",
    "        \n",
    "vaccine_data = spark.createDataFrame(data)\n",
    "vaccine_data.show(3)\n",
    "\n",
    "    "
   ]
  },
  {
   "cell_type": "code",
   "execution_count": 30,
   "metadata": {},
   "outputs": [
    {
     "data": {
      "text/html": [
       "<div>\n",
       "<style scoped>\n",
       "    .dataframe tbody tr th:only-of-type {\n",
       "        vertical-align: middle;\n",
       "    }\n",
       "\n",
       "    .dataframe tbody tr th {\n",
       "        vertical-align: top;\n",
       "    }\n",
       "\n",
       "    .dataframe thead th {\n",
       "        text-align: right;\n",
       "    }\n",
       "</style>\n",
       "<table border=\"1\" class=\"dataframe\">\n",
       "  <thead>\n",
       "    <tr style=\"text-align: right;\">\n",
       "      <th></th>\n",
       "      <th></th>\n",
       "      <th></th>\n",
       "      <th>V_CNT</th>\n",
       "    </tr>\n",
       "    <tr>\n",
       "      <th>loc</th>\n",
       "      <th>std_day</th>\n",
       "      <th></th>\n",
       "      <th></th>\n",
       "    </tr>\n",
       "  </thead>\n",
       "  <tbody>\n",
       "    <tr>\n",
       "      <th rowspan=\"4\" valign=\"top\">서울</th>\n",
       "      <th rowspan=\"4\" valign=\"top\">2022-09-15</th>\n",
       "      <th>v2</th>\n",
       "      <td>8261480</td>\n",
       "    </tr>\n",
       "    <tr>\n",
       "      <th>v4</th>\n",
       "      <td>1226070</td>\n",
       "    </tr>\n",
       "    <tr>\n",
       "      <th>v1</th>\n",
       "      <td>8340502</td>\n",
       "    </tr>\n",
       "    <tr>\n",
       "      <th>v3</th>\n",
       "      <td>6057684</td>\n",
       "    </tr>\n",
       "    <tr>\n",
       "      <th rowspan=\"4\" valign=\"top\">부산</th>\n",
       "      <th rowspan=\"4\" valign=\"top\">2022-09-15</th>\n",
       "      <th>v2</th>\n",
       "      <td>2850966</td>\n",
       "    </tr>\n",
       "    <tr>\n",
       "      <th>v4</th>\n",
       "      <td>488630</td>\n",
       "    </tr>\n",
       "    <tr>\n",
       "      <th>v1</th>\n",
       "      <td>2879898</td>\n",
       "    </tr>\n",
       "    <tr>\n",
       "      <th>v3</th>\n",
       "      <td>2134635</td>\n",
       "    </tr>\n",
       "    <tr>\n",
       "      <th rowspan=\"4\" valign=\"top\">대구</th>\n",
       "      <th rowspan=\"4\" valign=\"top\">2022-09-15</th>\n",
       "      <th>v2</th>\n",
       "      <td>1996343</td>\n",
       "    </tr>\n",
       "    <tr>\n",
       "      <th>v4</th>\n",
       "      <td>259429</td>\n",
       "    </tr>\n",
       "    <tr>\n",
       "      <th>v1</th>\n",
       "      <td>2019295</td>\n",
       "    </tr>\n",
       "    <tr>\n",
       "      <th>v3</th>\n",
       "      <td>1402649</td>\n",
       "    </tr>\n",
       "    <tr>\n",
       "      <th rowspan=\"4\" valign=\"top\">인천</th>\n",
       "      <th rowspan=\"4\" valign=\"top\">2022-09-15</th>\n",
       "      <th>v2</th>\n",
       "      <td>2546081</td>\n",
       "    </tr>\n",
       "    <tr>\n",
       "      <th>v4</th>\n",
       "      <td>394343</td>\n",
       "    </tr>\n",
       "    <tr>\n",
       "      <th>v1</th>\n",
       "      <td>2570641</td>\n",
       "    </tr>\n",
       "    <tr>\n",
       "      <th>v3</th>\n",
       "      <td>1907586</td>\n",
       "    </tr>\n",
       "    <tr>\n",
       "      <th rowspan=\"4\" valign=\"top\">광주</th>\n",
       "      <th rowspan=\"4\" valign=\"top\">2022-09-15</th>\n",
       "      <th>v2</th>\n",
       "      <td>1251019</td>\n",
       "    </tr>\n",
       "    <tr>\n",
       "      <th>v4</th>\n",
       "      <td>233610</td>\n",
       "    </tr>\n",
       "    <tr>\n",
       "      <th>v1</th>\n",
       "      <td>1262690</td>\n",
       "    </tr>\n",
       "    <tr>\n",
       "      <th>v3</th>\n",
       "      <td>968067</td>\n",
       "    </tr>\n",
       "    <tr>\n",
       "      <th rowspan=\"4\" valign=\"top\">대전</th>\n",
       "      <th rowspan=\"4\" valign=\"top\">2022-09-15</th>\n",
       "      <th>v2</th>\n",
       "      <td>1233946</td>\n",
       "    </tr>\n",
       "    <tr>\n",
       "      <th>v4</th>\n",
       "      <td>193191</td>\n",
       "    </tr>\n",
       "    <tr>\n",
       "      <th>v1</th>\n",
       "      <td>1246228</td>\n",
       "    </tr>\n",
       "    <tr>\n",
       "      <th>v3</th>\n",
       "      <td>907587</td>\n",
       "    </tr>\n",
       "    <tr>\n",
       "      <th rowspan=\"4\" valign=\"top\">울산</th>\n",
       "      <th rowspan=\"4\" valign=\"top\">2022-09-15</th>\n",
       "      <th>v2</th>\n",
       "      <td>959237</td>\n",
       "    </tr>\n",
       "    <tr>\n",
       "      <th>v4</th>\n",
       "      <td>124886</td>\n",
       "    </tr>\n",
       "    <tr>\n",
       "      <th>v1</th>\n",
       "      <td>968595</td>\n",
       "    </tr>\n",
       "    <tr>\n",
       "      <th>v3</th>\n",
       "      <td>719491</td>\n",
       "    </tr>\n",
       "    <tr>\n",
       "      <th rowspan=\"4\" valign=\"top\">세종</th>\n",
       "      <th rowspan=\"4\" valign=\"top\">2022-09-15</th>\n",
       "      <th>v2</th>\n",
       "      <td>294823</td>\n",
       "    </tr>\n",
       "    <tr>\n",
       "      <th>v4</th>\n",
       "      <td>34585</td>\n",
       "    </tr>\n",
       "    <tr>\n",
       "      <th>v1</th>\n",
       "      <td>298593</td>\n",
       "    </tr>\n",
       "    <tr>\n",
       "      <th>v3</th>\n",
       "      <td>209151</td>\n",
       "    </tr>\n",
       "    <tr>\n",
       "      <th rowspan=\"4\" valign=\"top\">경기</th>\n",
       "      <th rowspan=\"4\" valign=\"top\">2022-09-15</th>\n",
       "      <th>v2</th>\n",
       "      <td>11711865</td>\n",
       "    </tr>\n",
       "    <tr>\n",
       "      <th>v4</th>\n",
       "      <td>1680362</td>\n",
       "    </tr>\n",
       "    <tr>\n",
       "      <th>v1</th>\n",
       "      <td>11827822</td>\n",
       "    </tr>\n",
       "    <tr>\n",
       "      <th>v3</th>\n",
       "      <td>8677235</td>\n",
       "    </tr>\n",
       "    <tr>\n",
       "      <th rowspan=\"4\" valign=\"top\">강원</th>\n",
       "      <th rowspan=\"4\" valign=\"top\">2022-09-15</th>\n",
       "      <th>v2</th>\n",
       "      <td>1338931</td>\n",
       "    </tr>\n",
       "    <tr>\n",
       "      <th>v4</th>\n",
       "      <td>269222</td>\n",
       "    </tr>\n",
       "    <tr>\n",
       "      <th>v1</th>\n",
       "      <td>1350315</td>\n",
       "    </tr>\n",
       "    <tr>\n",
       "      <th>v3</th>\n",
       "      <td>1062086</td>\n",
       "    </tr>\n",
       "    <tr>\n",
       "      <th rowspan=\"4\" valign=\"top\">충북</th>\n",
       "      <th rowspan=\"4\" valign=\"top\">2022-09-15</th>\n",
       "      <th>v2</th>\n",
       "      <td>1416910</td>\n",
       "    </tr>\n",
       "    <tr>\n",
       "      <th>v4</th>\n",
       "      <td>277332</td>\n",
       "    </tr>\n",
       "    <tr>\n",
       "      <th>v1</th>\n",
       "      <td>1429582</td>\n",
       "    </tr>\n",
       "    <tr>\n",
       "      <th>v3</th>\n",
       "      <td>1105875</td>\n",
       "    </tr>\n",
       "    <tr>\n",
       "      <th rowspan=\"4\" valign=\"top\">충남</th>\n",
       "      <th rowspan=\"4\" valign=\"top\">2022-09-15</th>\n",
       "      <th>v2</th>\n",
       "      <td>1881779</td>\n",
       "    </tr>\n",
       "    <tr>\n",
       "      <th>v4</th>\n",
       "      <td>365655</td>\n",
       "    </tr>\n",
       "    <tr>\n",
       "      <th>v1</th>\n",
       "      <td>1899475</td>\n",
       "    </tr>\n",
       "    <tr>\n",
       "      <th>v3</th>\n",
       "      <td>1475491</td>\n",
       "    </tr>\n",
       "    <tr>\n",
       "      <th rowspan=\"4\" valign=\"top\">전북</th>\n",
       "      <th rowspan=\"4\" valign=\"top\">2022-09-15</th>\n",
       "      <th>v2</th>\n",
       "      <td>1580541</td>\n",
       "    </tr>\n",
       "    <tr>\n",
       "      <th>v4</th>\n",
       "      <td>370187</td>\n",
       "    </tr>\n",
       "    <tr>\n",
       "      <th>v1</th>\n",
       "      <td>1593746</td>\n",
       "    </tr>\n",
       "    <tr>\n",
       "      <th>v3</th>\n",
       "      <td>1284133</td>\n",
       "    </tr>\n",
       "    <tr>\n",
       "      <th rowspan=\"4\" valign=\"top\">전남</th>\n",
       "      <th rowspan=\"4\" valign=\"top\">2022-09-15</th>\n",
       "      <th>v2</th>\n",
       "      <td>1640068</td>\n",
       "    </tr>\n",
       "    <tr>\n",
       "      <th>v4</th>\n",
       "      <td>444061</td>\n",
       "    </tr>\n",
       "    <tr>\n",
       "      <th>v1</th>\n",
       "      <td>1654751</td>\n",
       "    </tr>\n",
       "    <tr>\n",
       "      <th>v3</th>\n",
       "      <td>1363212</td>\n",
       "    </tr>\n",
       "    <tr>\n",
       "      <th rowspan=\"4\" valign=\"top\">경북</th>\n",
       "      <th rowspan=\"4\" valign=\"top\">2022-09-15</th>\n",
       "      <th>v2</th>\n",
       "      <td>2269405</td>\n",
       "    </tr>\n",
       "    <tr>\n",
       "      <th>v4</th>\n",
       "      <td>394769</td>\n",
       "    </tr>\n",
       "    <tr>\n",
       "      <th>v1</th>\n",
       "      <td>2293357</td>\n",
       "    </tr>\n",
       "    <tr>\n",
       "      <th>v3</th>\n",
       "      <td>1724517</td>\n",
       "    </tr>\n",
       "    <tr>\n",
       "      <th rowspan=\"4\" valign=\"top\">경남</th>\n",
       "      <th rowspan=\"4\" valign=\"top\">2022-09-15</th>\n",
       "      <th>v2</th>\n",
       "      <td>2854106</td>\n",
       "    </tr>\n",
       "    <tr>\n",
       "      <th>v4</th>\n",
       "      <td>483703</td>\n",
       "    </tr>\n",
       "    <tr>\n",
       "      <th>v1</th>\n",
       "      <td>2883515</td>\n",
       "    </tr>\n",
       "    <tr>\n",
       "      <th>v3</th>\n",
       "      <td>2142110</td>\n",
       "    </tr>\n",
       "    <tr>\n",
       "      <th rowspan=\"4\" valign=\"top\">제주</th>\n",
       "      <th rowspan=\"4\" valign=\"top\">2022-09-15</th>\n",
       "      <th>v2</th>\n",
       "      <td>584814</td>\n",
       "    </tr>\n",
       "    <tr>\n",
       "      <th>v4</th>\n",
       "      <td>92009</td>\n",
       "    </tr>\n",
       "    <tr>\n",
       "      <th>v1</th>\n",
       "      <td>590581</td>\n",
       "    </tr>\n",
       "    <tr>\n",
       "      <th>v3</th>\n",
       "      <td>437805</td>\n",
       "    </tr>\n",
       "  </tbody>\n",
       "</table>\n",
       "</div>"
      ],
      "text/plain": [
       "                      V_CNT\n",
       "loc std_day                \n",
       "서울  2022-09-15 v2   8261480\n",
       "               v4   1226070\n",
       "               v1   8340502\n",
       "               v3   6057684\n",
       "부산  2022-09-15 v2   2850966\n",
       "               v4    488630\n",
       "               v1   2879898\n",
       "               v3   2134635\n",
       "대구  2022-09-15 v2   1996343\n",
       "               v4    259429\n",
       "               v1   2019295\n",
       "               v3   1402649\n",
       "인천  2022-09-15 v2   2546081\n",
       "               v4    394343\n",
       "               v1   2570641\n",
       "               v3   1907586\n",
       "광주  2022-09-15 v2   1251019\n",
       "               v4    233610\n",
       "               v1   1262690\n",
       "               v3    968067\n",
       "대전  2022-09-15 v2   1233946\n",
       "               v4    193191\n",
       "               v1   1246228\n",
       "               v3    907587\n",
       "울산  2022-09-15 v2    959237\n",
       "               v4    124886\n",
       "               v1    968595\n",
       "               v3    719491\n",
       "세종  2022-09-15 v2    294823\n",
       "               v4     34585\n",
       "               v1    298593\n",
       "               v3    209151\n",
       "경기  2022-09-15 v2  11711865\n",
       "               v4   1680362\n",
       "               v1  11827822\n",
       "               v3   8677235\n",
       "강원  2022-09-15 v2   1338931\n",
       "               v4    269222\n",
       "               v1   1350315\n",
       "               v3   1062086\n",
       "충북  2022-09-15 v2   1416910\n",
       "               v4    277332\n",
       "               v1   1429582\n",
       "               v3   1105875\n",
       "충남  2022-09-15 v2   1881779\n",
       "               v4    365655\n",
       "               v1   1899475\n",
       "               v3   1475491\n",
       "전북  2022-09-15 v2   1580541\n",
       "               v4    370187\n",
       "               v1   1593746\n",
       "               v3   1284133\n",
       "전남  2022-09-15 v2   1640068\n",
       "               v4    444061\n",
       "               v1   1654751\n",
       "               v3   1363212\n",
       "경북  2022-09-15 v2   2269405\n",
       "               v4    394769\n",
       "               v1   2293357\n",
       "               v3   1724517\n",
       "경남  2022-09-15 v2   2854106\n",
       "               v4    483703\n",
       "               v1   2883515\n",
       "               v3   2142110\n",
       "제주  2022-09-15 v2    584814\n",
       "               v4     92009\n",
       "               v1    590581\n",
       "               v3    437805"
      ]
     },
     "execution_count": 30,
     "metadata": {},
     "output_type": "execute_result"
    }
   ],
   "source": [
    "# column을 row로 : stack\n",
    "# row를 column : pivot\n",
    "\n",
    "# sql의 dataframe -> pandas의 dataframe\n",
    "pd_vaccine = vaccine_data.to_pandas_on_spark() \n",
    "pd_vaccine = pd_vaccine.set_index(['loc','std_day']) # 인덱스로 설정한 컬럼은 stack되지 않음\n",
    "pd_vaccine = pd_vaccine.stack() # 현재 series\n",
    "pd_vaccine = pd_vaccine.to_dataframe('V_CNT')# 다시 df로 변환\n",
    "pd_vaccine"
   ]
  },
  {
   "cell_type": "code",
   "execution_count": 33,
   "metadata": {},
   "outputs": [
    {
     "name": "stderr",
     "output_type": "stream",
     "text": [
      "\r",
      "[Stage 37:>                                                         (0 + 1) / 1]\r"
     ]
    },
    {
     "name": "stdout",
     "output_type": "stream",
     "text": [
      "+-------+-----+----+----------+----+-------+\n",
      "|level_0|index| loc|   std_day|V_TH|  V_CNT|\n",
      "+-------+-----+----+----------+----+-------+\n",
      "|      0|    0|서울|2022-09-15|  v2|8261480|\n",
      "|      1|    1|서울|2022-09-15|  v4|1226070|\n",
      "|      2|    2|서울|2022-09-15|  v1|8340502|\n",
      "+-------+-----+----+----------+----+-------+\n",
      "only showing top 3 rows\n",
      "\n"
     ]
    },
    {
     "name": "stderr",
     "output_type": "stream",
     "text": [
      "\r",
      "                                                                                \r"
     ]
    }
   ],
   "source": [
    "# 멀티 인덱스를 다시 뜯어줌\n",
    "# print(pd_vaccine.index)\n",
    "pd_vaccine = pd_vaccine.reset_index() # 숫자 인덱스로 변환\n",
    "# print(pd_vaccine.index)\n",
    "\n",
    "# spark모양 판다스로 다시 변환\n",
    "pd_vaccine = pd_vaccine.rename(columns={'level_2':'V_TH'})\n",
    "vaccine_data = pd_vaccine.to_spark()\n",
    "vaccine_data.show(3)"
   ]
  },
  {
   "cell_type": "code",
   "execution_count": 37,
   "metadata": {},
   "outputs": [
    {
     "name": "stdout",
     "output_type": "stream",
     "text": [
      "+----+----------+----+-------+\n",
      "| loc|   std_day|V_TH|  V_CNT|\n",
      "+----+----------+----+-------+\n",
      "|서울|2022-09-15|  v2|8261480|\n",
      "|서울|2022-09-15|  v4|1226070|\n",
      "|서울|2022-09-15|  v1|8340502|\n",
      "+----+----------+----+-------+\n",
      "only showing top 3 rows\n",
      "\n"
     ]
    }
   ],
   "source": [
    "vaccine_data = vaccine_data.drop('level_0')\n",
    "vaccine_data = vaccine_data.drop('index')\n",
    "vaccine_data.show(3)"
   ]
  },
  {
   "cell_type": "code",
   "execution_count": 38,
   "metadata": {},
   "outputs": [
    {
     "name": "stderr",
     "output_type": "stream",
     "text": [
      "                                                                                \r"
     ]
    }
   ],
   "source": [
    "vaccine_data.write.jdbc(url=JDBC['url'], table='CORONA_VACCINE', mode='append', properties=JDBC['props'])"
   ]
  },
  {
   "cell_type": "markdown",
   "metadata": {},
   "source": [
    "### 4. LOC_FACILITY_CNT\t테이블 저장"
   ]
  },
  {
   "cell_type": "code",
   "execution_count": 14,
   "metadata": {
    "scrolled": true
   },
   "outputs": [],
   "source": []
  },
  {
   "cell_type": "code",
   "execution_count": null,
   "metadata": {},
   "outputs": [],
   "source": []
  },
  {
   "cell_type": "code",
   "execution_count": 17,
   "metadata": {},
   "outputs": [
    {
     "name": "stderr",
     "output_type": "stream",
     "text": [
      "                                                                                \r"
     ]
    }
   ],
   "source": []
  }
 ],
 "metadata": {
  "kernelspec": {
   "display_name": "Python 3 (ipykernel)",
   "language": "python",
   "name": "python3"
  },
  "language_info": {
   "codemirror_mode": {
    "name": "ipython",
    "version": 3
   },
   "file_extension": ".py",
   "mimetype": "text/x-python",
   "name": "python",
   "nbconvert_exporter": "python",
   "pygments_lexer": "ipython3",
   "version": "3.8.10"
  },
  "vscode": {
   "interpreter": {
    "hash": "377b85fccf01b1fe6a959144825e6c17ac3718c2615da119d71a1f46ada91329"
   }
  }
 },
 "nbformat": 4,
 "nbformat_minor": 5
}
