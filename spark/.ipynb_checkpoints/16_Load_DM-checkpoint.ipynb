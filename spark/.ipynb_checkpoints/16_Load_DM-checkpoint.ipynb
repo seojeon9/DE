{
 "cells": [
  {
   "cell_type": "code",
   "execution_count": 1,
   "metadata": {},
   "outputs": [],
   "source": [
    "from IPython.core.interactiveshell import InteractiveShell\n",
    "InteractiveShell.ast_node_interactivity = \"all\""
   ]
  },
  {
   "cell_type": "code",
   "execution_count": null,
   "metadata": {},
   "outputs": [],
   "source": [
    "# 데이터마트용 계정 생성\n",
    "# sqlDeveloper에서 진행\n",
    "# create user dm_admin IDENTIFIED BY \"123qwe!@#QWE\";\n",
    "# grant dwrole to dm_admin;\n",
    "# grant unlimited tablespace to dm_admin;\n"
   ]
  },
  {
   "cell_type": "code",
   "execution_count": 2,
   "metadata": {},
   "outputs": [],
   "source": [
    "from datetime import date, datetime\n",
    "from pyspark.sql.types import *\n",
    "from pyspark.sql.functions import *\n",
    "import datetime as dt\n",
    "import pandas as pd\n",
    "import matplotlib.pyplot as plt #그래프 패키지 모듈 등록\n",
    "%matplotlib inline \n"
   ]
  },
  {
   "cell_type": "code",
   "execution_count": 3,
   "metadata": {},
   "outputs": [],
   "source": [
    "import platform\n",
    "\n",
    "from matplotlib import font_manager, rc\n",
    "plt.rcParams['axes.unicode_minus'] = False\n",
    "\n",
    "if platform.system() == 'Darwin':  # 맥OS \n",
    "    rc('font', family='AppleGothic')\n",
    "elif platform.system() == 'Windows':  # 윈도우\n",
    "    path = \"c:/Windows/Fonts/malgun.ttf\"\n",
    "    font_name = font_manager.FontProperties(fname=path).get_name()\n",
    "    rc('font', family=font_name)\n",
    "else:\n",
    "    rc('font', family='NanumGothic')"
   ]
  },
  {
   "cell_type": "code",
   "execution_count": 4,
   "metadata": {},
   "outputs": [],
   "source": [
    "def cal_std_day(befor_day):   \n",
    "    x = dt.datetime.now() - dt.timedelta(befor_day)\n",
    "    year = x.year\n",
    "    month = x.month if x.month >= 10 else '0'+ str(x.month)\n",
    "    day = x.day if x.day >= 10 else '0'+ str(x.day)  \n",
    "    return str(year)+ '-' +str(month)+ '-' +str(day)"
   ]
  },
  {
   "cell_type": "markdown",
   "metadata": {},
   "source": [
    "### JDBC"
   ]
  },
  {
   "cell_type": "code",
   "execution_count": 6,
   "metadata": {},
   "outputs": [],
   "source": [
    "JDBC_DW = {\n",
    "    'url':'jdbc:oracle:thin:@decorona_high?TNS_ADMIN=/home/big/study/db/Wallet_DECORONA',\n",
    "    'props':{\n",
    "        'user':'dw_admin',\n",
    "        'password':'123qwe!@#QWE'\n",
    "    }\n",
    "}\n",
    "JDBC_DM = {\n",
    "    'url':'jdbc:oracle:thin:@decorona_high?TNS_ADMIN=/home/big/study/db/Wallet_DECORONA',\n",
    "    'props':{\n",
    "        'user':'dm_admin',\n",
    "        'password':'123qwe!@#QWE'\n",
    "    }\n",
    "}"
   ]
  },
  {
   "cell_type": "markdown",
   "metadata": {},
   "source": [
    "## Load DataMart"
   ]
  },
  {
   "cell_type": "markdown",
   "metadata": {},
   "source": [
    "### 1. 지역별 단위면적(km)당 인구수와 코로나 확진자 수 데이터 저장"
   ]
  },
  {
   "cell_type": "code",
   "execution_count": 8,
   "metadata": {},
   "outputs": [
    {
     "name": "stderr",
     "output_type": "stream",
     "text": [
      "                                                                                \r"
     ]
    },
    {
     "name": "stdout",
     "output_type": "stream",
     "text": [
      "+----+----+----------+------------+\n",
      "| LOC|AREA|POPULATION|FACILITY_CNT|\n",
      "+----+----+----------+------------+\n",
      "|서울| 605|   9736027|        5224|\n",
      "|부산| 770|   3396109|        1462|\n",
      "|대구| 883|   2412642|        1015|\n",
      "+----+----+----------+------------+\n",
      "only showing top 3 rows\n",
      "\n"
     ]
    }
   ],
   "source": [
    "popu = spark.read.jdbc(url=JDBC_DW['url'], table='loc', properties=JDBC_DW['props'])\n",
    "popu.show(3)"
   ]
  },
  {
   "cell_type": "code",
   "execution_count": 9,
   "metadata": {},
   "outputs": [
    {
     "name": "stderr",
     "output_type": "stream",
     "text": [
      "                                                                                \r"
     ]
    },
    {
     "name": "stdout",
     "output_type": "stream",
     "text": [
      "+------+----+---------+-------+-----------+--------+----------+\n",
      "|cp_idx| LOC|DEATH_CNT|DEF_CNT|LOC_OCC_CNT|QUR_RATE|   STD_DAY|\n",
      "+------+----+---------+-------+-----------+--------+----------+\n",
      "|   471|대전|      719| 554551|       2459|   38186|2022-07-30|\n",
      "|   472|서울|     5263|4589795|      15554|   48266|2022-09-02|\n",
      "|   473|제주|      206| 308385|       1343|   45568|2022-08-22|\n",
      "+------+----+---------+-------+-----------+--------+----------+\n",
      "only showing top 3 rows\n",
      "\n"
     ]
    }
   ],
   "source": [
    "patients = spark.read.jdbc(url=JDBC_DW['url'], table='corona_patients', properties=JDBC_DW['props'])\n",
    "patients.show(3)"
   ]
  },
  {
   "cell_type": "code",
   "execution_count": 10,
   "metadata": {},
   "outputs": [
    {
     "name": "stderr",
     "output_type": "stream",
     "text": [
      "                                                                                \r"
     ]
    },
    {
     "name": "stdout",
     "output_type": "stream",
     "text": [
      "+----+------------+--------+----------+\n",
      "| loc|POPU_DENSITY|qur_rate|   std_day|\n",
      "+----+------------+--------+----------+\n",
      "|경남|         321|   35192|2022-07-28|\n",
      "|대구|        2733|   34103|2022-07-28|\n",
      "|경북|         141|   32018|2022-07-28|\n",
      "+----+------------+--------+----------+\n",
      "only showing top 3 rows\n",
      "\n"
     ]
    }
   ],
   "source": [
    "pop_patients = popu.join(patients, on='loc') \\\n",
    "                    .select('loc', \n",
    "                            ceil(col('population')/col('area')).alias('POPU_DENSITY'),\n",
    "                            'qur_rate',\n",
    "                            'std_day') \\\n",
    "                    .orderBy(col('std_day'))\n",
    "pop_patients.show(3)"
   ]
  },
  {
   "cell_type": "code",
   "execution_count": 13,
   "metadata": {},
   "outputs": [
    {
     "name": "stderr",
     "output_type": "stream",
     "text": [
      "                                                                                \r"
     ]
    }
   ],
   "source": [
    "pop_patients.write.jdbc(url=JDBC_DM['url'], table='CO_POPU_DENSITY', mode='append', properties=JDBC_DM['props'])"
   ]
  },
  {
   "cell_type": "markdown",
   "metadata": {},
   "source": [
    "### 2.  백신접종 완료자와 코로나 확진자 수 데이터 저장"
   ]
  },
  {
   "cell_type": "code",
   "execution_count": 14,
   "metadata": {},
   "outputs": [],
   "source": [
    "vaccine = spark.read.jdbc(url=JDBC_DW['url'], table='CORONA_VACCINE', properties=JDBC_DW['props'])"
   ]
  },
  {
   "cell_type": "code",
   "execution_count": 15,
   "metadata": {},
   "outputs": [
    {
     "name": "stderr",
     "output_type": "stream",
     "text": [
      "                                                                                \r"
     ]
    },
    {
     "name": "stdout",
     "output_type": "stream",
     "text": [
      "+------+----+----+--------+----------+\n",
      "|CV_IDX| LOC|V_TH|   V_CNT|   STD_DAY|\n",
      "+------+----+----+--------+----------+\n",
      "|   221|경기|  v3| 8678976|2022-09-19|\n",
      "|   223|경기|  v1|11828253|2022-09-19|\n",
      "|   224|경기|  v4| 1690737|2022-09-19|\n",
      "+------+----+----+--------+----------+\n",
      "only showing top 3 rows\n",
      "\n"
     ]
    }
   ],
   "source": [
    "vaccine.show(3)"
   ]
  },
  {
   "cell_type": "code",
   "execution_count": 16,
   "metadata": {},
   "outputs": [
    {
     "name": "stderr",
     "output_type": "stream",
     "text": [
      "WARNING:root:'PYARROW_IGNORE_TIMEZONE' environment variable was not set. It is required to set this environment variable to '1' in both driver and executor sides if you use pyarrow>=2.0.0. pandas-on-Spark will set it for you but it does not work if there is a Spark context already launched.\n",
      "                                                                                \r"
     ]
    },
    {
     "data": {
      "text/html": [
       "<div>\n",
       "<style scoped>\n",
       "    .dataframe tbody tr th:only-of-type {\n",
       "        vertical-align: middle;\n",
       "    }\n",
       "\n",
       "    .dataframe tbody tr th {\n",
       "        vertical-align: top;\n",
       "    }\n",
       "\n",
       "    .dataframe thead th {\n",
       "        text-align: right;\n",
       "    }\n",
       "</style>\n",
       "<table border=\"1\" class=\"dataframe\">\n",
       "  <thead>\n",
       "    <tr style=\"text-align: right;\">\n",
       "      <th></th>\n",
       "      <th>V_TH</th>\n",
       "      <th>v1</th>\n",
       "      <th>v2</th>\n",
       "      <th>v3</th>\n",
       "      <th>v4</th>\n",
       "    </tr>\n",
       "    <tr>\n",
       "      <th>LOC</th>\n",
       "      <th>STD_DAY</th>\n",
       "      <th></th>\n",
       "      <th></th>\n",
       "      <th></th>\n",
       "      <th></th>\n",
       "    </tr>\n",
       "  </thead>\n",
       "  <tbody>\n",
       "    <tr>\n",
       "      <th>광주</th>\n",
       "      <th>2022-09-15</th>\n",
       "      <td>1262690.0000</td>\n",
       "      <td>1251019.0000</td>\n",
       "      <td>968067.0000</td>\n",
       "      <td>233610.0000</td>\n",
       "    </tr>\n",
       "    <tr>\n",
       "      <th>충북</th>\n",
       "      <th>2022-09-19</th>\n",
       "      <td>1429655.0000</td>\n",
       "      <td>1417023.0000</td>\n",
       "      <td>1106069.0000</td>\n",
       "      <td>278466.0000</td>\n",
       "    </tr>\n",
       "    <tr>\n",
       "      <th>세종</th>\n",
       "      <th>2022-09-15</th>\n",
       "      <td>298593.0000</td>\n",
       "      <td>294823.0000</td>\n",
       "      <td>209151.0000</td>\n",
       "      <td>34585.0000</td>\n",
       "    </tr>\n",
       "    <tr>\n",
       "      <th>경남</th>\n",
       "      <th>2022-09-15</th>\n",
       "      <td>2883515.0000</td>\n",
       "      <td>2854106.0000</td>\n",
       "      <td>2142110.0000</td>\n",
       "      <td>483703.0000</td>\n",
       "    </tr>\n",
       "    <tr>\n",
       "      <th>부산</th>\n",
       "      <th>2022-09-19</th>\n",
       "      <td>2879969.0000</td>\n",
       "      <td>2851084.0000</td>\n",
       "      <td>2134981.0000</td>\n",
       "      <td>490706.0000</td>\n",
       "    </tr>\n",
       "    <tr>\n",
       "      <th>세종</th>\n",
       "      <th>2022-09-19</th>\n",
       "      <td>298614.0000</td>\n",
       "      <td>294859.0000</td>\n",
       "      <td>209201.0000</td>\n",
       "      <td>34756.0000</td>\n",
       "    </tr>\n",
       "    <tr>\n",
       "      <th>서울</th>\n",
       "      <th>2022-09-19</th>\n",
       "      <td>8340594.0000</td>\n",
       "      <td>8261803.0000</td>\n",
       "      <td>6059101.0000</td>\n",
       "      <td>1233277.0000</td>\n",
       "    </tr>\n",
       "    <tr>\n",
       "      <th>대전</th>\n",
       "      <th>2022-09-19</th>\n",
       "      <td>1246205.0000</td>\n",
       "      <td>1233942.0000</td>\n",
       "      <td>907745.0000</td>\n",
       "      <td>194047.0000</td>\n",
       "    </tr>\n",
       "    <tr>\n",
       "      <th>서울</th>\n",
       "      <th>2022-09-15</th>\n",
       "      <td>8340502.0000</td>\n",
       "      <td>8261480.0000</td>\n",
       "      <td>6057684.0000</td>\n",
       "      <td>1226070.0000</td>\n",
       "    </tr>\n",
       "    <tr>\n",
       "      <th>대구</th>\n",
       "      <th>2022-09-15</th>\n",
       "      <td>2019295.0000</td>\n",
       "      <td>1996343.0000</td>\n",
       "      <td>1402649.0000</td>\n",
       "      <td>259429.0000</td>\n",
       "    </tr>\n",
       "    <tr>\n",
       "      <th>경기</th>\n",
       "      <th>2022-09-15</th>\n",
       "      <td>11827822.0000</td>\n",
       "      <td>11711865.0000</td>\n",
       "      <td>8677235.0000</td>\n",
       "      <td>1680362.0000</td>\n",
       "    </tr>\n",
       "    <tr>\n",
       "      <th>강원</th>\n",
       "      <th>2022-09-15</th>\n",
       "      <td>1350315.0000</td>\n",
       "      <td>1338931.0000</td>\n",
       "      <td>1062086.0000</td>\n",
       "      <td>269222.0000</td>\n",
       "    </tr>\n",
       "    <tr>\n",
       "      <th>제주</th>\n",
       "      <th>2022-09-19</th>\n",
       "      <td>590588.0000</td>\n",
       "      <td>584847.0000</td>\n",
       "      <td>437873.0000</td>\n",
       "      <td>92489.0000</td>\n",
       "    </tr>\n",
       "    <tr>\n",
       "      <th>인천</th>\n",
       "      <th>2022-09-19</th>\n",
       "      <td>2570987.0000</td>\n",
       "      <td>2546470.0000</td>\n",
       "      <td>1908118.0000</td>\n",
       "      <td>396595.0000</td>\n",
       "    </tr>\n",
       "    <tr>\n",
       "      <th>강원</th>\n",
       "      <th>2022-09-19</th>\n",
       "      <td>1350406.0000</td>\n",
       "      <td>1339041.0000</td>\n",
       "      <td>1062225.0000</td>\n",
       "      <td>270307.0000</td>\n",
       "    </tr>\n",
       "    <tr>\n",
       "      <th>충남</th>\n",
       "      <th>2022-09-15</th>\n",
       "      <td>1899475.0000</td>\n",
       "      <td>1881779.0000</td>\n",
       "      <td>1475491.0000</td>\n",
       "      <td>365655.0000</td>\n",
       "    </tr>\n",
       "    <tr>\n",
       "      <th>충북</th>\n",
       "      <th>2022-09-15</th>\n",
       "      <td>1429582.0000</td>\n",
       "      <td>1416910.0000</td>\n",
       "      <td>1105875.0000</td>\n",
       "      <td>277332.0000</td>\n",
       "    </tr>\n",
       "    <tr>\n",
       "      <th>전북</th>\n",
       "      <th>2022-09-19</th>\n",
       "      <td>1593761.0000</td>\n",
       "      <td>1580614.0000</td>\n",
       "      <td>1284240.0000</td>\n",
       "      <td>371332.0000</td>\n",
       "    </tr>\n",
       "    <tr>\n",
       "      <th>경북</th>\n",
       "      <th>2022-09-19</th>\n",
       "      <td>2293383.0000</td>\n",
       "      <td>2269468.0000</td>\n",
       "      <td>1724730.0000</td>\n",
       "      <td>396270.0000</td>\n",
       "    </tr>\n",
       "    <tr>\n",
       "      <th>전남</th>\n",
       "      <th>2022-09-15</th>\n",
       "      <td>1654751.0000</td>\n",
       "      <td>1640068.0000</td>\n",
       "      <td>1363212.0000</td>\n",
       "      <td>444061.0000</td>\n",
       "    </tr>\n",
       "    <tr>\n",
       "      <th>경남</th>\n",
       "      <th>2022-09-19</th>\n",
       "      <td>2883564.0000</td>\n",
       "      <td>2854203.0000</td>\n",
       "      <td>2142399.0000</td>\n",
       "      <td>485783.0000</td>\n",
       "    </tr>\n",
       "    <tr>\n",
       "      <th>울산</th>\n",
       "      <th>2022-09-19</th>\n",
       "      <td>968628.0000</td>\n",
       "      <td>959288.0000</td>\n",
       "      <td>719578.0000</td>\n",
       "      <td>126089.0000</td>\n",
       "    </tr>\n",
       "    <tr>\n",
       "      <th>경북</th>\n",
       "      <th>2022-09-15</th>\n",
       "      <td>2293357.0000</td>\n",
       "      <td>2269405.0000</td>\n",
       "      <td>1724517.0000</td>\n",
       "      <td>394769.0000</td>\n",
       "    </tr>\n",
       "    <tr>\n",
       "      <th>제주</th>\n",
       "      <th>2022-09-15</th>\n",
       "      <td>590581.0000</td>\n",
       "      <td>584814.0000</td>\n",
       "      <td>437805.0000</td>\n",
       "      <td>92009.0000</td>\n",
       "    </tr>\n",
       "    <tr>\n",
       "      <th>전남</th>\n",
       "      <th>2022-09-19</th>\n",
       "      <td>1654752.0000</td>\n",
       "      <td>1640129.0000</td>\n",
       "      <td>1363353.0000</td>\n",
       "      <td>445497.0000</td>\n",
       "    </tr>\n",
       "    <tr>\n",
       "      <th>인천</th>\n",
       "      <th>2022-09-15</th>\n",
       "      <td>2570641.0000</td>\n",
       "      <td>2546081.0000</td>\n",
       "      <td>1907586.0000</td>\n",
       "      <td>394343.0000</td>\n",
       "    </tr>\n",
       "    <tr>\n",
       "      <th>충남</th>\n",
       "      <th>2022-09-19</th>\n",
       "      <td>1899526.0000</td>\n",
       "      <td>1881853.0000</td>\n",
       "      <td>1475692.0000</td>\n",
       "      <td>367370.0000</td>\n",
       "    </tr>\n",
       "    <tr>\n",
       "      <th>부산</th>\n",
       "      <th>2022-09-15</th>\n",
       "      <td>2879898.0000</td>\n",
       "      <td>2850966.0000</td>\n",
       "      <td>2134635.0000</td>\n",
       "      <td>488630.0000</td>\n",
       "    </tr>\n",
       "    <tr>\n",
       "      <th>전북</th>\n",
       "      <th>2022-09-15</th>\n",
       "      <td>1593746.0000</td>\n",
       "      <td>1580541.0000</td>\n",
       "      <td>1284133.0000</td>\n",
       "      <td>370187.0000</td>\n",
       "    </tr>\n",
       "    <tr>\n",
       "      <th>울산</th>\n",
       "      <th>2022-09-15</th>\n",
       "      <td>968595.0000</td>\n",
       "      <td>959237.0000</td>\n",
       "      <td>719491.0000</td>\n",
       "      <td>124886.0000</td>\n",
       "    </tr>\n",
       "    <tr>\n",
       "      <th>대구</th>\n",
       "      <th>2022-09-19</th>\n",
       "      <td>2019308.0000</td>\n",
       "      <td>1996378.0000</td>\n",
       "      <td>1402842.0000</td>\n",
       "      <td>260671.0000</td>\n",
       "    </tr>\n",
       "    <tr>\n",
       "      <th>경기</th>\n",
       "      <th>2022-09-19</th>\n",
       "      <td>11828253.0000</td>\n",
       "      <td>11712565.0000</td>\n",
       "      <td>8678976.0000</td>\n",
       "      <td>1690737.0000</td>\n",
       "    </tr>\n",
       "    <tr>\n",
       "      <th>광주</th>\n",
       "      <th>2022-09-19</th>\n",
       "      <td>1262711.0000</td>\n",
       "      <td>1251065.0000</td>\n",
       "      <td>968182.0000</td>\n",
       "      <td>234682.0000</td>\n",
       "    </tr>\n",
       "    <tr>\n",
       "      <th>대전</th>\n",
       "      <th>2022-09-15</th>\n",
       "      <td>1246228.0000</td>\n",
       "      <td>1233946.0000</td>\n",
       "      <td>907587.0000</td>\n",
       "      <td>193191.0000</td>\n",
       "    </tr>\n",
       "  </tbody>\n",
       "</table>\n",
       "</div>"
      ],
      "text/plain": [
       "V_TH                       v1             v2            v3            v4\n",
       "LOC STD_DAY                                                             \n",
       "광주  2022-09-15   1262690.0000   1251019.0000   968067.0000   233610.0000\n",
       "충북  2022-09-19   1429655.0000   1417023.0000  1106069.0000   278466.0000\n",
       "세종  2022-09-15    298593.0000    294823.0000   209151.0000    34585.0000\n",
       "경남  2022-09-15   2883515.0000   2854106.0000  2142110.0000   483703.0000\n",
       "부산  2022-09-19   2879969.0000   2851084.0000  2134981.0000   490706.0000\n",
       "세종  2022-09-19    298614.0000    294859.0000   209201.0000    34756.0000\n",
       "서울  2022-09-19   8340594.0000   8261803.0000  6059101.0000  1233277.0000\n",
       "대전  2022-09-19   1246205.0000   1233942.0000   907745.0000   194047.0000\n",
       "서울  2022-09-15   8340502.0000   8261480.0000  6057684.0000  1226070.0000\n",
       "대구  2022-09-15   2019295.0000   1996343.0000  1402649.0000   259429.0000\n",
       "경기  2022-09-15  11827822.0000  11711865.0000  8677235.0000  1680362.0000\n",
       "강원  2022-09-15   1350315.0000   1338931.0000  1062086.0000   269222.0000\n",
       "제주  2022-09-19    590588.0000    584847.0000   437873.0000    92489.0000\n",
       "인천  2022-09-19   2570987.0000   2546470.0000  1908118.0000   396595.0000\n",
       "강원  2022-09-19   1350406.0000   1339041.0000  1062225.0000   270307.0000\n",
       "충남  2022-09-15   1899475.0000   1881779.0000  1475491.0000   365655.0000\n",
       "충북  2022-09-15   1429582.0000   1416910.0000  1105875.0000   277332.0000\n",
       "전북  2022-09-19   1593761.0000   1580614.0000  1284240.0000   371332.0000\n",
       "경북  2022-09-19   2293383.0000   2269468.0000  1724730.0000   396270.0000\n",
       "전남  2022-09-15   1654751.0000   1640068.0000  1363212.0000   444061.0000\n",
       "경남  2022-09-19   2883564.0000   2854203.0000  2142399.0000   485783.0000\n",
       "울산  2022-09-19    968628.0000    959288.0000   719578.0000   126089.0000\n",
       "경북  2022-09-15   2293357.0000   2269405.0000  1724517.0000   394769.0000\n",
       "제주  2022-09-15    590581.0000    584814.0000   437805.0000    92009.0000\n",
       "전남  2022-09-19   1654752.0000   1640129.0000  1363353.0000   445497.0000\n",
       "인천  2022-09-15   2570641.0000   2546081.0000  1907586.0000   394343.0000\n",
       "충남  2022-09-19   1899526.0000   1881853.0000  1475692.0000   367370.0000\n",
       "부산  2022-09-15   2879898.0000   2850966.0000  2134635.0000   488630.0000\n",
       "전북  2022-09-15   1593746.0000   1580541.0000  1284133.0000   370187.0000\n",
       "울산  2022-09-15    968595.0000    959237.0000   719491.0000   124886.0000\n",
       "대구  2022-09-19   2019308.0000   1996378.0000  1402842.0000   260671.0000\n",
       "경기  2022-09-19  11828253.0000  11712565.0000  8678976.0000  1690737.0000\n",
       "광주  2022-09-19   1262711.0000   1251065.0000   968182.0000   234682.0000\n",
       "대전  2022-09-15   1246228.0000   1233946.0000   907587.0000   193191.0000"
      ]
     },
     "execution_count": 16,
     "metadata": {},
     "output_type": "execute_result"
    }
   ],
   "source": [
    "# index=고정할 컬럼, columns=컬럼명으로 만들 컬럼, values=만들 컬럼의 값이 될 컬럼\n",
    "pd_vaccine = vaccine.to_pandas_on_spark()\n",
    "pd_vaccine = pd_vaccine.pivot_table(index=['LOC','STD_DAY'], columns='V_TH', values='V_CNT')\n",
    "pd_vaccine"
   ]
  },
  {
   "cell_type": "code",
   "execution_count": 19,
   "metadata": {},
   "outputs": [
    {
     "name": "stderr",
     "output_type": "stream",
     "text": [
      "                                                                                \r"
     ]
    },
    {
     "name": "stdout",
     "output_type": "stream",
     "text": [
      "+----+----------+------------+------------+------------+-----------+\n",
      "| LOC|   STD_DAY|          v1|          v2|          v3|         v4|\n",
      "+----+----------+------------+------------+------------+-----------+\n",
      "|광주|2022-09-15|1262690.0000|1251019.0000| 968067.0000|233610.0000|\n",
      "|충북|2022-09-19|1429655.0000|1417023.0000|1106069.0000|278466.0000|\n",
      "|세종|2022-09-15| 298593.0000| 294823.0000| 209151.0000| 34585.0000|\n",
      "+----+----------+------------+------------+------------+-----------+\n",
      "only showing top 3 rows\n",
      "\n"
     ]
    }
   ],
   "source": [
    "# 복합키 풀어주기\n",
    "pd_vaccine = pd_vaccine.reset_index()\n",
    "vaccine = pd_vaccine.to_spark()\n",
    "vaccine.show(3)"
   ]
  },
  {
   "cell_type": "code",
   "execution_count": 25,
   "metadata": {},
   "outputs": [
    {
     "name": "stderr",
     "output_type": "stream",
     "text": [
      "                                                                                \r"
     ]
    },
    {
     "name": "stdout",
     "output_type": "stream",
     "text": [
      "+----+----------+---------+---------+---------+---------+--------+\n",
      "| loc|   STD_DAY|V1TH_RATE|V2TH_RATE|V3TH_RATE|V4TH_RATE|qur_rate|\n",
      "+----+----------+---------+---------+---------+---------+--------+\n",
      "|강원|2022-09-03|       87|       87|       69|       18|   44566|\n",
      "|강원|2022-08-08|       87|       87|       69|       18|   38615|\n",
      "|강원|2022-08-22|       87|       87|       69|       18|   42220|\n",
      "+----+----------+---------+---------+---------+---------+--------+\n",
      "only showing top 3 rows\n",
      "\n"
     ]
    }
   ],
   "source": [
    "vac_rate = vaccine.join(popu, on='loc') \\\n",
    "                .join(patients, on='loc') \\\n",
    "                .select('loc',patients.STD_DAY,\n",
    "                       ceil(col('v1')/col('population') * 100).alias('V1TH_RATE'),\n",
    "                       ceil(col('v2')/col('population') * 100).alias('V2TH_RATE'),\n",
    "                       ceil(col('v3')/col('population') * 100).alias('V3TH_RATE'),\n",
    "                       ceil(col('v4')/col('population') * 100).alias('V4TH_RATE'),\n",
    "                       'qur_rate') \n",
    "    \n",
    "vac_rate.show(3)"
   ]
  },
  {
   "cell_type": "code",
   "execution_count": 26,
   "metadata": {},
   "outputs": [
    {
     "name": "stderr",
     "output_type": "stream",
     "text": [
      "                                                                                \r"
     ]
    }
   ],
   "source": [
    "vac_rate.write.jdbc(url=JDBC_DM['url'], table='CO_VACCINE', mode='append', properties=JDBC_DM['props'])"
   ]
  },
  {
   "cell_type": "markdown",
   "metadata": {},
   "source": [
    "### 3. 다중이용시설과 코로나 확진자 수의 상관관계"
   ]
  },
  {
   "cell_type": "code",
   "execution_count": 12,
   "metadata": {
    "scrolled": true
   },
   "outputs": [],
   "source": []
  },
  {
   "cell_type": "code",
   "execution_count": 13,
   "metadata": {},
   "outputs": [],
   "source": []
  },
  {
   "cell_type": "code",
   "execution_count": 14,
   "metadata": {},
   "outputs": [
    {
     "name": "stderr",
     "output_type": "stream",
     "text": [
      "                                                                                \r"
     ]
    }
   ],
   "source": []
  },
  {
   "cell_type": "markdown",
   "metadata": {},
   "source": [
    "### 4. 요일별 코로나 확진자 수를 구해보자"
   ]
  },
  {
   "cell_type": "code",
   "execution_count": null,
   "metadata": {},
   "outputs": [],
   "source": []
  },
  {
   "cell_type": "code",
   "execution_count": 16,
   "metadata": {},
   "outputs": [
    {
     "name": "stderr",
     "output_type": "stream",
     "text": [
      "                                                                                \r"
     ]
    }
   ],
   "source": []
  }
 ],
 "metadata": {
  "kernelspec": {
   "display_name": "Python 3 (ipykernel)",
   "language": "python",
   "name": "python3"
  },
  "language_info": {
   "codemirror_mode": {
    "name": "ipython",
    "version": 3
   },
   "file_extension": ".py",
   "mimetype": "text/x-python",
   "name": "python",
   "nbconvert_exporter": "python",
   "pygments_lexer": "ipython3",
   "version": "3.8.10"
  },
  "vscode": {
   "interpreter": {
    "hash": "377b85fccf01b1fe6a959144825e6c17ac3718c2615da119d71a1f46ada91329"
   }
  }
 },
 "nbformat": 4,
 "nbformat_minor": 5
}
