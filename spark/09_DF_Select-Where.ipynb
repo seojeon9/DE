{
 "cells": [
  {
   "cell_type": "code",
   "execution_count": 1,
   "id": "8bb3050a",
   "metadata": {},
   "outputs": [],
   "source": [
    "from IPython.core.interactiveshell import InteractiveShell\n",
    "InteractiveShell.ast_node_interactivity = \"all\""
   ]
  },
  {
   "cell_type": "code",
   "execution_count": 2,
   "id": "26a0ceee",
   "metadata": {},
   "outputs": [],
   "source": [
    "from datetime import date, datetime\n",
    "from pyspark.sql import *\n",
    "from pyspark.sql.types import *\n",
    "from pyspark.sql.functions import *\n"
   ]
  },
  {
   "cell_type": "markdown",
   "id": "a4cb6aab",
   "metadata": {},
   "source": [
    "## select()"
   ]
  },
  {
   "cell_type": "code",
   "execution_count": 3,
   "id": "a0f2f0c1",
   "metadata": {},
   "outputs": [],
   "source": [
    "# DataFrame.select(*cols)[source]\n",
    "# Parameters\n",
    "# cols : str, Column, or list\n",
    "# column names (string) or expressions (Column). \n",
    "#If one of the column names is ‘*’, that column is expanded to include all columns in the current DataFrame."
   ]
  },
  {
   "cell_type": "code",
   "execution_count": 3,
   "id": "820f8ec6",
   "metadata": {},
   "outputs": [
    {
     "name": "stderr",
     "output_type": "stream",
     "text": [
      "                                                                                \r"
     ]
    }
   ],
   "source": [
    "\n"
   ]
  },
  {
   "cell_type": "code",
   "execution_count": 5,
   "id": "ce1c3328",
   "metadata": {},
   "outputs": [
    {
     "name": "stderr",
     "output_type": "stream",
     "text": [
      "                                                                                \r"
     ]
    },
    {
     "name": "stdout",
     "output_type": "stream",
     "text": [
      "+------+\n",
      "|school|\n",
      "+------+\n",
      "| ANKYI|\n",
      "| ANKYI|\n",
      "| CCAAW|\n",
      "+------+\n",
      "only showing top 3 rows\n",
      "\n"
     ]
    },
    {
     "name": "stderr",
     "output_type": "stream",
     "text": [
      "                                                                                \r"
     ]
    },
    {
     "name": "stdout",
     "output_type": "stream",
     "text": [
      "+------+--------+\n",
      "|school|class_cd|\n",
      "+------+--------+\n",
      "| ANKYI|     6OL|\n",
      "| ANKYI|     ZNS|\n",
      "| CCAAW|     2B1|\n",
      "+------+--------+\n",
      "only showing top 3 rows\n",
      "\n",
      "+--------+------+-------------+--------+-----------+-------------+\n",
      "|class_cd|school|class_std_cnt|     loc|school_type|teaching_type|\n",
      "+--------+------+-------------+--------+-----------+-------------+\n",
      "|     6OL| ANKYI|           20|   Urban| Non-public|     Standard|\n",
      "|     ZNS| ANKYI|           21|   Urban| Non-public|     Standard|\n",
      "|     2B1| CCAAW|           18|Suburban| Non-public| Experimental|\n",
      "+--------+------+-------------+--------+-----------+-------------+\n",
      "only showing top 3 rows\n",
      "\n"
     ]
    },
    {
     "name": "stderr",
     "output_type": "stream",
     "text": [
      "\r\n",
      "[Stage 4:>                                                          (0 + 1) / 1]\r\n",
      "\r\n",
      "                                                                                \r"
     ]
    },
    {
     "name": "stdout",
     "output_type": "stream",
     "text": [
      "+------+--------+--------+\n",
      "|school|     loc|class_cd|\n",
      "+------+--------+--------+\n",
      "| ANKYI|   Urban|     6OL|\n",
      "| ANKYI|   Urban|     ZNS|\n",
      "| CCAAW|Suburban|     2B1|\n",
      "+------+--------+--------+\n",
      "only showing top 3 rows\n",
      "\n"
     ]
    }
   ],
   "source": []
  },
  {
   "cell_type": "markdown",
   "id": "8c11ca21",
   "metadata": {},
   "source": [
    "#### Column "
   ]
  },
  {
   "cell_type": "code",
   "execution_count": 4,
   "id": "93575456",
   "metadata": {},
   "outputs": [
    {
     "data": {
      "text/plain": [
       "Column<'school'>"
      ]
     },
     "execution_count": 4,
     "metadata": {},
     "output_type": "execute_result"
    },
    {
     "data": {
      "text/plain": [
       "Column<'school'>"
      ]
     },
     "execution_count": 4,
     "metadata": {},
     "output_type": "execute_result"
    },
    {
     "data": {
      "text/plain": [
       "['class_cd', 'school', 'class_std_cnt', 'loc', 'school_type', 'teaching_type']"
      ]
     },
     "execution_count": 4,
     "metadata": {},
     "output_type": "execute_result"
    },
    {
     "data": {
      "text/plain": [
       "Column<'unresolvedregex()'>"
      ]
     },
     "execution_count": 4,
     "metadata": {},
     "output_type": "execute_result"
    }
   ],
   "source": []
  },
  {
   "cell_type": "code",
   "execution_count": 7,
   "id": "c07c6113",
   "metadata": {},
   "outputs": [
    {
     "name": "stdout",
     "output_type": "stream",
     "text": [
      "+------+\n",
      "|school|\n",
      "+------+\n",
      "| ANKYI|\n",
      "| ANKYI|\n",
      "| CCAAW|\n",
      "+------+\n",
      "only showing top 3 rows\n",
      "\n",
      "+------+-----------+\n",
      "|school|school_type|\n",
      "+------+-----------+\n",
      "| ANKYI| Non-public|\n",
      "| ANKYI| Non-public|\n",
      "| CCAAW| Non-public|\n",
      "+------+-----------+\n",
      "only showing top 3 rows\n",
      "\n",
      "+------+--------+\n",
      "|school|class_cd|\n",
      "+------+--------+\n",
      "| ANKYI|     6OL|\n",
      "| ANKYI|     ZNS|\n",
      "| CCAAW|     2B1|\n",
      "+------+--------+\n",
      "only showing top 3 rows\n",
      "\n",
      "+--------+------+-------------+--------+-----------+-------------+\n",
      "|class_cd|school|class_std_cnt|     loc|school_type|teaching_type|\n",
      "+--------+------+-------------+--------+-----------+-------------+\n",
      "|     6OL| ANKYI|           20|   Urban| Non-public|     Standard|\n",
      "|     ZNS| ANKYI|           21|   Urban| Non-public|     Standard|\n",
      "|     2B1| CCAAW|           18|Suburban| Non-public| Experimental|\n",
      "+--------+------+-------------+--------+-----------+-------------+\n",
      "only showing top 3 rows\n",
      "\n"
     ]
    }
   ],
   "source": []
  },
  {
   "cell_type": "markdown",
   "id": "de357256",
   "metadata": {},
   "source": [
    "#### Column 연산"
   ]
  },
  {
   "cell_type": "markdown",
   "id": "a2b5ebda",
   "metadata": {},
   "source": [
    "- 산술연산 :  +  -  *  /  %\n",
    "- 비교연산 : <  >  <=  >=  ==  !=\n",
    "- 논리연산 : &  |\n",
    "\n",
    "\n"
   ]
  },
  {
   "cell_type": "markdown",
   "id": "38245547",
   "metadata": {},
   "source": [
    "![op-overloading](./img/op_overloading.png)"
   ]
  },
  {
   "cell_type": "code",
   "execution_count": null,
   "id": "d9bcfd1e",
   "metadata": {},
   "outputs": [],
   "source": []
  },
  {
   "cell_type": "markdown",
   "id": "29e0b5f7",
   "metadata": {},
   "source": [
    "#### Column 메서드"
   ]
  },
  {
   "cell_type": "code",
   "execution_count": 9,
   "id": "06c66578",
   "metadata": {},
   "outputs": [
    {
     "data": {
      "text/plain": [
       "Column<'school AS `학교`'>"
      ]
     },
     "execution_count": 9,
     "metadata": {},
     "output_type": "execute_result"
    },
    {
     "data": {
      "text/plain": [
       "Column<'endswith(school, YI)'>"
      ]
     },
     "execution_count": 9,
     "metadata": {},
     "output_type": "execute_result"
    },
    {
     "name": "stdout",
     "output_type": "stream",
     "text": [
      "+-----+---+\n",
      "| 학교| 반|\n",
      "+-----+---+\n",
      "|ANKYI|6OL|\n",
      "|ANKYI|ZNS|\n",
      "|CCAAW|2B1|\n",
      "+-----+---+\n",
      "only showing top 3 rows\n",
      "\n",
      "+------+--------------------+--------+-----------------+\n",
      "|school|endswith(school, YI)|class_cd|class_cd LIKE %L%|\n",
      "+------+--------------------+--------+-----------------+\n",
      "| ANKYI|                true|     6OL|             true|\n",
      "| ANKYI|                true|     ZNS|            false|\n",
      "| CCAAW|               false|     2B1|            false|\n",
      "+------+--------------------+--------+-----------------+\n",
      "only showing top 3 rows\n",
      "\n"
     ]
    },
    {
     "data": {
      "text/plain": [
       "Column<'class_std_cnt ASC NULLS FIRST'>"
      ]
     },
     "execution_count": 9,
     "metadata": {},
     "output_type": "execute_result"
    },
    {
     "name": "stderr",
     "output_type": "stream",
     "text": [
      "\r\n",
      "[Stage 11:>                                                         (0 + 1) / 1]\r"
     ]
    },
    {
     "name": "stdout",
     "output_type": "stream",
     "text": [
      "+------+--------+-------------+\n",
      "|school|class_cd|class_std_cnt|\n",
      "+------+--------+-------------+\n",
      "|  null|     4SZ|         null|\n",
      "|  null|     5SD|         null|\n",
      "|  null|     6PP|         null|\n",
      "+------+--------+-------------+\n",
      "only showing top 3 rows\n",
      "\n"
     ]
    },
    {
     "name": "stderr",
     "output_type": "stream",
     "text": [
      "\r\n",
      "                                                                                \r"
     ]
    }
   ],
   "source": []
  },
  {
   "cell_type": "markdown",
   "id": "46611108",
   "metadata": {},
   "source": [
    "## select 연습"
   ]
  },
  {
   "cell_type": "markdown",
   "id": "d57b9b11",
   "metadata": {},
   "source": [
    "DataFrame은 class_df 를 사용합니다\n",
    "\n",
    "1. 모든 row의  class_cd, school, loc, school_type, teaching_type을 출력하시오.  \n",
    "   school_type의 컬럼명은 '공립/사립여부' 로 표시합니다.\n",
    "   \n",
    "   \n",
    "2. class_cd, school, scale 을 출력하시오.   \n",
    "   scale 컬럼은 반의 인원수가 15명 미만이면 small, 15명 이상 25명 미만이면 middle, 25명 이상이면 big 값을 가집니다.\n",
    "   \n",
    "   \n",
    "3. class_cd, school, class_std_cnt를 출력하시오  \n",
    "   class_std_cnt 컬럼의 값들은 string타입으로 형변환합니다."
   ]
  },
  {
   "cell_type": "code",
   "execution_count": 10,
   "id": "d025ec7f",
   "metadata": {},
   "outputs": [
    {
     "name": "stdout",
     "output_type": "stream",
     "text": [
      "+--------+------+--------+-------------+-------------+\n",
      "|class_cd|school|     loc|공립/사립여부|teaching_type|\n",
      "+--------+------+--------+-------------+-------------+\n",
      "|     6OL| ANKYI|   Urban|   Non-public|     Standard|\n",
      "|     ZNS| ANKYI|   Urban|   Non-public|     Standard|\n",
      "|     2B1| CCAAW|Suburban|   Non-public| Experimental|\n",
      "+--------+------+--------+-------------+-------------+\n",
      "only showing top 3 rows\n",
      "\n",
      "+--------+------+------+\n",
      "|class_cd|school| scale|\n",
      "+--------+------+------+\n",
      "|     6OL| ANKYI|middle|\n",
      "|     ZNS| ANKYI|middle|\n",
      "|     2B1| CCAAW|middle|\n",
      "+--------+------+------+\n",
      "only showing top 3 rows\n",
      "\n",
      "+--------+------+-------------+\n",
      "|class_cd|school|class_std_cnt|\n",
      "+--------+------+-------------+\n",
      "|     6OL| ANKYI|           20|\n",
      "|     ZNS| ANKYI|           21|\n",
      "|     2B1| CCAAW|           18|\n",
      "+--------+------+-------------+\n",
      "only showing top 3 rows\n",
      "\n",
      "root\n",
      " |-- class_cd: string (nullable = true)\n",
      " |-- school: string (nullable = true)\n",
      " |-- class_std_cnt: string (nullable = true)\n",
      "\n"
     ]
    }
   ],
   "source": [
    "from pyspark.sql import functions as F\n",
    "cdf = class_df\n",
    "\n",
    "# 모든 row의 class_cd, school, loc, school_type, teaching_type을 출력하시오.\n",
    "# school_type의 컬럼명은 '공립/사립여부' 로 표시합니다.\n",
    "# hint : alias()\n",
    "\n",
    "\n",
    "# class_cd, school, scale 을 출력하시오.\n",
    "# scale 컬럼은 반의 인원수가 15명 미만이면 small, 15명 이상 25명 미만이면 middle, 25명 이상이면 big 값을 가집니다.\n",
    "# hint : when()\n",
    "\n",
    "\n",
    "\n",
    "# class_cd, school, class_std_cnt를 출력하시오\n",
    "# class_std_cnt 컬럼의 값들은 string타입으로 형변환합니다.\n",
    "# hint : cast()\n",
    "\n",
    "\n"
   ]
  },
  {
   "cell_type": "markdown",
   "id": "dc19f256",
   "metadata": {},
   "source": [
    "### sql"
   ]
  },
  {
   "cell_type": "code",
   "execution_count": 11,
   "id": "91b9d667",
   "metadata": {},
   "outputs": [
    {
     "name": "stdout",
     "output_type": "stream",
     "text": [
      "+--------+------+--------+-------------+-------------+\n",
      "|class_cd|school|     loc|공립/사립여부|teaching_type|\n",
      "+--------+------+--------+-------------+-------------+\n",
      "|     6OL| ANKYI|   Urban|   Non-public|     Standard|\n",
      "|     ZNS| ANKYI|   Urban|   Non-public|     Standard|\n",
      "|     2B1| CCAAW|Suburban|   Non-public| Experimental|\n",
      "+--------+------+--------+-------------+-------------+\n",
      "only showing top 3 rows\n",
      "\n"
     ]
    },
    {
     "name": "stderr",
     "output_type": "stream",
     "text": [
      "\r\n",
      "[Stage 16:>                                                         (0 + 1) / 1]\r\n",
      "\r\n",
      "                                                                                \r"
     ]
    },
    {
     "name": "stdout",
     "output_type": "stream",
     "text": [
      "+--------+------+------+\n",
      "|class_cd|school| scale|\n",
      "+--------+------+------+\n",
      "|     6OL| ANKYI|middle|\n",
      "|     ZNS| ANKYI|middle|\n",
      "|     2B1| CCAAW|middle|\n",
      "+--------+------+------+\n",
      "only showing top 3 rows\n",
      "\n",
      "+--------+------+-------------+\n",
      "|class_cd|school|class_std_cnt|\n",
      "+--------+------+-------------+\n",
      "|     6OL| ANKYI|           20|\n",
      "|     ZNS| ANKYI|           21|\n",
      "|     2B1| CCAAW|           18|\n",
      "+--------+------+-------------+\n",
      "only showing top 3 rows\n",
      "\n",
      "root\n",
      " |-- class_cd: string (nullable = true)\n",
      " |-- school: string (nullable = true)\n",
      " |-- class_std_cnt: string (nullable = true)\n",
      "\n"
     ]
    }
   ],
   "source": [
    "# sql을 사용해 같은 결과를 받아보기\n",
    "\n",
    "# dataFrame을 테이블로 등록\n",
    "class_df.createOrReplaceTempView('class')\n",
    "\n",
    "# 모든 row의 class_cd, school, loc, school_type, teaching_type을 출력하시오.\n",
    "# school_type의 컬럼명은 '공립/사립여부' 로 표시합니다.\n",
    "\n",
    "\n",
    "\n",
    "# class_cd, school, scale 을 출력하시오.\n",
    "# scale 컬럼은 반의 인원수가 15명 미만이면 small, 15명 이상 25명 미만이면 middle, 25명 이상이면 big 값을 가집니다.\n",
    "\n",
    "\n",
    "\n",
    "# class_cd, school, class_std_cnt를 출력하시오\n",
    "# class_std_cnt 컬럼의 값들은 string타입으로 형변환합니다.\n",
    "# spark built-in-fnc 의 cast()\n"
   ]
  },
  {
   "cell_type": "markdown",
   "id": "551f4e9f",
   "metadata": {},
   "source": [
    "## where(), filter()"
   ]
  },
  {
   "cell_type": "markdown",
   "id": "d4e7e9e9",
   "metadata": {},
   "source": [
    "1. 공립이면서 교육방식이 전문인 데이터를 출력하시오\n",
    "\n",
    "2. 사립이면서 교육방식이 표준인 데이터를 출력하시오\n",
    "\n",
    "3. 학교 이름이 V로 시작하는 데이터를 출력하시오\n",
    "\n",
    "4. 학교 이름이 M로 끝나는 데이터를 출력하시오\n",
    "\n",
    "5. 학교 이름에 NKY가 포함된 데이터를 출력하시오\n",
    "\n",
    "6. 반의 학생 수가 15명 이상 24명 이하인 데이터를 출력하시오\n",
    "\n",
    "7. 학교 이름이 입력되지 않은 데이터들을 출력하시오\n"
   ]
  },
  {
   "cell_type": "code",
   "execution_count": 13,
   "id": "52c640f1",
   "metadata": {},
   "outputs": [
    {
     "name": "stdout",
     "output_type": "stream",
     "text": [
      "root\n",
      " |-- class_cd: string (nullable = true)\n",
      " |-- school: string (nullable = true)\n",
      " |-- class_std_cnt: string (nullable = true)\n",
      " |-- loc: string (nullable = true)\n",
      " |-- school_type: string (nullable = true)\n",
      " |-- teaching_type: string (nullable = true)\n",
      "\n",
      "공립이면서 교육방식이 전문인 데이터를 출력하시오.\n"
     ]
    },
    {
     "name": "stderr",
     "output_type": "stream",
     "text": [
      "                                                                                \r"
     ]
    },
    {
     "name": "stdout",
     "output_type": "stream",
     "text": [
      "+--------+------+-------------+--------+-----------+-------------+\n",
      "|class_cd|school|class_std_cnt|     loc|school_type|teaching_type|\n",
      "+--------+------+-------------+--------+-----------+-------------+\n",
      "|     X6Z| CUQAM|           24|   Urban|     Public| Experimental|\n",
      "|     PW5| DNQDD|           20|Suburban|     Public| Experimental|\n",
      "|     ROP| DNQDD|           28|Suburban|     Public| Experimental|\n",
      "+--------+------+-------------+--------+-----------+-------------+\n",
      "only showing top 3 rows\n",
      "\n",
      "사립이면서 교육방식이 표준 데이터를 출력하시오.\n"
     ]
    },
    {
     "name": "stderr",
     "output_type": "stream",
     "text": [
      "                                                                                \r"
     ]
    },
    {
     "name": "stdout",
     "output_type": "stream",
     "text": [
      "+--------+------+-------------+--------+-----------+-------------+\n",
      "|class_cd|school|class_std_cnt|     loc|school_type|teaching_type|\n",
      "+--------+------+-------------+--------+-----------+-------------+\n",
      "|     6OL| ANKYI|           20|   Urban| Non-public|     Standard|\n",
      "|     ZNS| ANKYI|           21|   Urban| Non-public|     Standard|\n",
      "|     PGK| CCAAW|           21|Suburban| Non-public|     Standard|\n",
      "+--------+------+-------------+--------+-----------+-------------+\n",
      "only showing top 3 rows\n",
      "\n",
      "학교 이름이 V로 시작하는 데이터를 출력하시오.\n",
      "+--------+------+-------------+-----+-----------+-------------+\n",
      "|class_cd|school|class_std_cnt|  loc|school_type|teaching_type|\n",
      "+--------+------+-------------+-----+-----------+-------------+\n",
      "|     CD8| VHDHF|           20|Rural| Non-public| Experimental|\n",
      "|     J6X| VHDHF|           16|Rural| Non-public|     Standard|\n",
      "|     KR1| VHDHF|           15|Rural| Non-public| Experimental|\n",
      "+--------+------+-------------+-----+-----------+-------------+\n",
      "only showing top 3 rows\n",
      "\n"
     ]
    },
    {
     "name": "stderr",
     "output_type": "stream",
     "text": [
      "\r\n",
      "[Stage 30:>                                                         (0 + 1) / 1]\r\n",
      "\r\n",
      "                                                                                \r"
     ]
    },
    {
     "name": "stdout",
     "output_type": "stream",
     "text": [
      "+--------+------+-------------+-----+-----------+-------------+\n",
      "|class_cd|school|class_std_cnt|  loc|school_type|teaching_type|\n",
      "+--------+------+-------------+-----+-----------+-------------+\n",
      "|     CD8| VHDHF|           20|Rural| Non-public| Experimental|\n",
      "|     J6X| VHDHF|           16|Rural| Non-public|     Standard|\n",
      "|     KR1| VHDHF|           15|Rural| Non-public| Experimental|\n",
      "+--------+------+-------------+-----+-----------+-------------+\n",
      "only showing top 3 rows\n",
      "\n",
      "학교 이름이 Z로 끝하는 데이터를 출력하시오.\n"
     ]
    },
    {
     "name": "stderr",
     "output_type": "stream",
     "text": [
      "                                                                                \r"
     ]
    },
    {
     "name": "stdout",
     "output_type": "stream",
     "text": [
      "+--------+------+-------------+-----+-----------+-------------+\n",
      "|class_cd|school|class_std_cnt|  loc|school_type|teaching_type|\n",
      "+--------+------+-------------+-----+-----------+-------------+\n",
      "|     1Q1| CUQAM|           28|Urban|     Public|     Standard|\n",
      "|     BFY| CUQAM|           27|Urban|     Public|     Standard|\n",
      "|     OMI| CUQAM|           28|Urban|     Public|     Standard|\n",
      "+--------+------+-------------+-----+-----------+-------------+\n",
      "only showing top 3 rows\n",
      "\n"
     ]
    },
    {
     "name": "stderr",
     "output_type": "stream",
     "text": [
      "                                                                                \r"
     ]
    },
    {
     "name": "stdout",
     "output_type": "stream",
     "text": [
      "+--------+------+-------------+-----+-----------+-------------+\n",
      "|class_cd|school|class_std_cnt|  loc|school_type|teaching_type|\n",
      "+--------+------+-------------+-----+-----------+-------------+\n",
      "|     1Q1| CUQAM|           28|Urban|     Public|     Standard|\n",
      "|     BFY| CUQAM|           27|Urban|     Public|     Standard|\n",
      "|     OMI| CUQAM|           28|Urban|     Public|     Standard|\n",
      "+--------+------+-------------+-----+-----------+-------------+\n",
      "only showing top 3 rows\n",
      "\n",
      "학교 이름에 NKY가 들어가는 데이터를 출력하시오.\n"
     ]
    },
    {
     "name": "stderr",
     "output_type": "stream",
     "text": [
      "                                                                                \r"
     ]
    },
    {
     "name": "stdout",
     "output_type": "stream",
     "text": [
      "+--------+------+-------------+-----+-----------+-------------+\n",
      "|class_cd|school|class_std_cnt|  loc|school_type|teaching_type|\n",
      "+--------+------+-------------+-----+-----------+-------------+\n",
      "|     6OL| ANKYI|           20|Urban| Non-public|     Standard|\n",
      "|     ZNS| ANKYI|           21|Urban| Non-public|     Standard|\n",
      "+--------+------+-------------+-----+-----------+-------------+\n",
      "\n"
     ]
    },
    {
     "name": "stderr",
     "output_type": "stream",
     "text": [
      "                                                                                \r"
     ]
    },
    {
     "name": "stdout",
     "output_type": "stream",
     "text": [
      "+--------+------+-------------+-----+-----------+-------------+\n",
      "|class_cd|school|class_std_cnt|  loc|school_type|teaching_type|\n",
      "+--------+------+-------------+-----+-----------+-------------+\n",
      "|     6OL| ANKYI|           20|Urban| Non-public|     Standard|\n",
      "|     ZNS| ANKYI|           21|Urban| Non-public|     Standard|\n",
      "+--------+------+-------------+-----+-----------+-------------+\n",
      "\n",
      "반의 학생 수가 15명 이상 24명 이하인 데이터를 출력하시오.\n"
     ]
    },
    {
     "name": "stderr",
     "output_type": "stream",
     "text": [
      "\r\n",
      "[Stage 35:>                                                         (0 + 1) / 1]\r\n",
      "\r\n",
      "                                                                                \r"
     ]
    },
    {
     "name": "stdout",
     "output_type": "stream",
     "text": [
      "+--------+------+-------------+--------+-----------+-------------+\n",
      "|class_cd|school|class_std_cnt|     loc|school_type|teaching_type|\n",
      "+--------+------+-------------+--------+-----------+-------------+\n",
      "|     6OL| ANKYI|           20|   Urban| Non-public|     Standard|\n",
      "|     ZNS| ANKYI|           21|   Urban| Non-public|     Standard|\n",
      "|     2B1| CCAAW|           18|Suburban| Non-public| Experimental|\n",
      "+--------+------+-------------+--------+-----------+-------------+\n",
      "only showing top 3 rows\n",
      "\n",
      "학교 이름이 입력되지 않은 데이터들을 출력하시오\n"
     ]
    },
    {
     "name": "stderr",
     "output_type": "stream",
     "text": [
      "\r\n",
      "[Stage 36:>                                                         (0 + 1) / 1]\r"
     ]
    },
    {
     "name": "stdout",
     "output_type": "stream",
     "text": [
      "+--------+------+-------------+-----+-----------+-------------+\n",
      "|class_cd|school|class_std_cnt|  loc|school_type|teaching_type|\n",
      "+--------+------+-------------+-----+-----------+-------------+\n",
      "|     MDS|  null|           18|Rural| Non-public|     Standard|\n",
      "|     MDE|  null|           10|Rural| Non-public| Experimental|\n",
      "|     6PP|  null|         null| null|       null|         null|\n",
      "+--------+------+-------------+-----+-----------+-------------+\n",
      "only showing top 3 rows\n",
      "\n"
     ]
    },
    {
     "name": "stderr",
     "output_type": "stream",
     "text": [
      "\r\n",
      "                                                                                \r"
     ]
    }
   ],
   "source": [
    "class_df.printSchema()\n",
    "\n",
    "print('공립이면서 교육방식이 전문인 데이터를 출력하시오.')\n",
    "\n",
    "print('사립이면서 교육방식이 표준 데이터를 출력하시오.')\n",
    "\n",
    "print('학교 이름이 V로 시작하는 데이터를 출력하시오.')\n",
    "\n",
    "print('학교 이름이 M로 끝하는 데이터를 출력하시오.')\n",
    "\n",
    "print('학교 이름에 NKY가 들어가는 데이터를 출력하시오.')\n",
    "\n",
    "print('반의 학생 수가 15명 이상 24명 이하인 데이터를 출력하시오.')\n",
    "\n",
    "print('학교 이름이 입력되지 않은 데이터들을 출력하시오')\n",
    "\n",
    "\n"
   ]
  },
  {
   "cell_type": "markdown",
   "id": "7ca5c06b",
   "metadata": {},
   "source": [
    "#### sql"
   ]
  },
  {
   "cell_type": "code",
   "execution_count": 22,
   "id": "3afe7381",
   "metadata": {},
   "outputs": [
    {
     "name": "stdout",
     "output_type": "stream",
     "text": [
      "공립이면서 교육방식이 전문인 데이터를 출력하시오\n",
      "+--------+------+-------------+--------+-----------+-------------+\n",
      "|class_cd|school|class_std_cnt|     loc|school_type|teaching_type|\n",
      "+--------+------+-------------+--------+-----------+-------------+\n",
      "|     2B1| CCAAW|           18|Suburban| Non-public| Experimental|\n",
      "|     EPS| CCAAW|           20|Suburban| Non-public| Experimental|\n",
      "|     IQN| CCAAW|           15|Suburban| Non-public| Experimental|\n",
      "+--------+------+-------------+--------+-----------+-------------+\n",
      "only showing top 3 rows\n",
      "\n",
      "사립이면서 교육방식이 표준인 데이터를 출력하시오\n"
     ]
    },
    {
     "name": "stderr",
     "output_type": "stream",
     "text": [
      "                                                                                \r"
     ]
    },
    {
     "name": "stdout",
     "output_type": "stream",
     "text": [
      "+--------+------+-------------+-----+-----------+-------------+\n",
      "|class_cd|school|class_std_cnt|  loc|school_type|teaching_type|\n",
      "+--------+------+-------------+-----+-----------+-------------+\n",
      "|     1Q1| CUQAM|           28|Urban|     Public|     Standard|\n",
      "|     BFY| CUQAM|           27|Urban|     Public|     Standard|\n",
      "|     OMI| CUQAM|           28|Urban|     Public|     Standard|\n",
      "+--------+------+-------------+-----+-----------+-------------+\n",
      "only showing top 3 rows\n",
      "\n",
      "학교 이름이 V로 시작하는 데이터를 출력하시오\n"
     ]
    },
    {
     "name": "stderr",
     "output_type": "stream",
     "text": [
      "\r\n",
      "[Stage 78:>                                                         (0 + 1) / 1]\r\n",
      "\r\n",
      "                                                                                \r"
     ]
    },
    {
     "name": "stdout",
     "output_type": "stream",
     "text": [
      "+--------+------+-------------+-----+-----------+-------------+\n",
      "|class_cd|school|class_std_cnt|  loc|school_type|teaching_type|\n",
      "+--------+------+-------------+-----+-----------+-------------+\n",
      "|     CD8| VHDHF|           20|Rural| Non-public| Experimental|\n",
      "|     J6X| VHDHF|           16|Rural| Non-public|     Standard|\n",
      "|     KR1| VHDHF|           15|Rural| Non-public| Experimental|\n",
      "+--------+------+-------------+-----+-----------+-------------+\n",
      "only showing top 3 rows\n",
      "\n",
      "학교 이름이 M로 끝나는 데이터를 출력하시오\n"
     ]
    },
    {
     "name": "stderr",
     "output_type": "stream",
     "text": [
      "\r\n",
      "[Stage 79:>                                                         (0 + 1) / 1]\r\n",
      "\r\n",
      "                                                                                \r"
     ]
    },
    {
     "name": "stdout",
     "output_type": "stream",
     "text": [
      "+--------+------+-------------+-----+-----------+-------------+\n",
      "|class_cd|school|class_std_cnt|  loc|school_type|teaching_type|\n",
      "+--------+------+-------------+-----+-----------+-------------+\n",
      "|     1Q1| CUQAM|           28|Urban|     Public|     Standard|\n",
      "|     BFY| CUQAM|           27|Urban|     Public|     Standard|\n",
      "|     OMI| CUQAM|           28|Urban|     Public|     Standard|\n",
      "+--------+------+-------------+-----+-----------+-------------+\n",
      "only showing top 3 rows\n",
      "\n",
      "학교 이름에 NKY가 포함된 데이터를 출력하시오\n"
     ]
    },
    {
     "name": "stderr",
     "output_type": "stream",
     "text": [
      "                                                                                \r"
     ]
    },
    {
     "name": "stdout",
     "output_type": "stream",
     "text": [
      "+--------+------+-------------+-----+-----------+-------------+\n",
      "|class_cd|school|class_std_cnt|  loc|school_type|teaching_type|\n",
      "+--------+------+-------------+-----+-----------+-------------+\n",
      "|     6OL| ANKYI|           20|Urban| Non-public|     Standard|\n",
      "|     ZNS| ANKYI|           21|Urban| Non-public|     Standard|\n",
      "+--------+------+-------------+-----+-----------+-------------+\n",
      "\n",
      "반의 학생 수가 15명 이상 24명 이하인 데이터를 출력하시오\n"
     ]
    },
    {
     "name": "stderr",
     "output_type": "stream",
     "text": [
      "\r\n",
      "[Stage 81:>                                                         (0 + 1) / 1]\r\n",
      "\r\n",
      "                                                                                \r"
     ]
    },
    {
     "name": "stdout",
     "output_type": "stream",
     "text": [
      "+--------+------+-------------+--------+-----------+-------------+\n",
      "|class_cd|school|class_std_cnt|     loc|school_type|teaching_type|\n",
      "+--------+------+-------------+--------+-----------+-------------+\n",
      "|     6OL| ANKYI|           20|   Urban| Non-public|     Standard|\n",
      "|     ZNS| ANKYI|           21|   Urban| Non-public|     Standard|\n",
      "|     2B1| CCAAW|           18|Suburban| Non-public| Experimental|\n",
      "+--------+------+-------------+--------+-----------+-------------+\n",
      "only showing top 3 rows\n",
      "\n",
      "학교 이름이 입력되지 않은 데이터들을 출력하시오\n",
      "+--------+------+-------------+-----+-----------+-------------+\n",
      "|class_cd|school|class_std_cnt|  loc|school_type|teaching_type|\n",
      "+--------+------+-------------+-----+-----------+-------------+\n",
      "|     MDS|  null|           18|Rural| Non-public|     Standard|\n",
      "|     MDE|  null|           10|Rural| Non-public| Experimental|\n",
      "|     6PP|  null|         null| null|       null|         null|\n",
      "+--------+------+-------------+-----+-----------+-------------+\n",
      "only showing top 3 rows\n",
      "\n"
     ]
    }
   ],
   "source": [
    "print('공립이면서 교육방식이 전문인 데이터를 출력하시오')\n",
    "\n",
    "print('사립이면서 교육방식이 표준인 데이터를 출력하시오')\n",
    "\n",
    "print('학교 이름이 V로 시작하는 데이터를 출력하시오')\n",
    "\n",
    "print('학교 이름이 M로 끝나는 데이터를 출력하시오')\n",
    "\n",
    "print('학교 이름에 NKY가 포함된 데이터를 출력하시오')\n",
    "\n",
    "print('반의 학생 수가 15명 이상 24명 이하인 데이터를 출력하시오')\n",
    "\n",
    "print('학교 이름이 입력되지 않은 데이터들을 출력하시오')\n"
   ]
  }
 ],
 "metadata": {
  "kernelspec": {
   "display_name": "Python 3 (ipykernel)",
   "language": "python",
   "name": "python3"
  },
  "language_info": {
   "codemirror_mode": {
    "name": "ipython",
    "version": 3
   },
   "file_extension": ".py",
   "mimetype": "text/x-python",
   "name": "python",
   "nbconvert_exporter": "python",
   "pygments_lexer": "ipython3",
   "version": "3.8.10"
  }
 },
 "nbformat": 4,
 "nbformat_minor": 5
}
